{
 "cells": [
  {
   "cell_type": "code",
   "execution_count": 3,
   "metadata": {},
   "outputs": [],
   "source": [
    "import gzip \n",
    "import json\n",
    "from tqdm import tqdm\n",
    "from unidecode import unidecode\n",
    "import pandas as pd\n",
    "from shapely.geometry import Point\n",
    "import geopandas as gpd\n",
    "PATH = \"C:/Users/alpye/OneDrive/Desktop/DATA/coalition_3.gz\""
   ]
  },
  {
   "cell_type": "code",
   "execution_count": null,
   "metadata": {},
   "outputs": [],
   "source": [
    "cityList = []\n",
    "\n",
    "with open(\"data/cities.txt\", \"r\", encoding = \"utf-8\") as file:\n",
    "    for line in file:\n",
    "        line = unidecode(line)\n",
    "        line = line.strip().lower()\n",
    "        cityList.append(line)"
   ]
  },
  {
   "cell_type": "code",
   "execution_count": null,
   "metadata": {},
   "outputs": [],
   "source": [
    "# Now get them in a dictionary format, set all their values to 0 and save them as a JSON file\n",
    "\n",
    "data_dict = {key: 0 for key in cityList}\n",
    "\n",
    "file_path = 'data/main_cities.json'\n",
    "with open(file_path, 'w') as file:\n",
    "    json.dump(data_dict, file, indent=4)"
   ]
  },
  {
   "cell_type": "code",
   "execution_count": null,
   "metadata": {},
   "outputs": [],
   "source": [
    "# This JSON file has populations of the cities in Turkey\n",
    "\n",
    "with open(\"data/populations.json\", \"r\") as file:\n",
    "    populations = json.load(file)"
   ]
  },
  {
   "cell_type": "code",
   "execution_count": 9,
   "metadata": {},
   "outputs": [],
   "source": [
    "df = pd.read_excel('C:/Users/alpye/OneDrive/Desktop/pure_git/FindGeoLocation/data/city_street.xlsx')\n",
    "\n",
    "ilce_dict = {}\n",
    "semt_dict = {}\n",
    "mah_dict = {}\n",
    "\n",
    "for i, row in df.iterrows():\n",
    "    main_key = unidecode(row['il'].strip().lower())\n",
    "    sub_key = unidecode(row['ilçe'].strip().lower())\n",
    "    sub_sub_key = unidecode(row['semt_bucak_belde'].strip().lower())\n",
    "    value = (unidecode(row[\"Mahalle\"].strip().lower()))[:-4] # Exlude MAH\n",
    "\n",
    "    ilce_dict.setdefault(main_key, {}).setdefault(sub_key, 0)\n",
    "    semt_dict.setdefault(main_key, {}).setdefault(sub_sub_key, 0)\n",
    "    mah_dict.setdefault(main_key, {}).setdefault(value, 0)\n"
   ]
  },
  {
   "cell_type": "code",
   "execution_count": 10,
   "metadata": {},
   "outputs": [
    {
     "name": "stdout",
     "output_type": "stream",
     "text": [
      "{'adana': {'aladag': 0, 'ceyhan': 0, 'cukurova': 0, 'feke': 0, 'imamoglu': 0, 'karaisali': 0, 'karatas': 0, 'kozan': 0, 'pozanti': 0, 'saimbeyli': 0, 'saricam': 0, 'seyhan': 0, 'tufanbeyli': 0, 'yumurtalik': 0, 'yuregir': 0}, 'adiyaman': {'besni': 0, 'celikhan': 0, 'gerger': 0, 'golbasi': 0, 'kahta': 0, 'merkez': 0, 'samsat': 0, 'sincik': 0, 'tut': 0}, 'afyonkarahisar': {'basmakci': 0, 'bayat': 0, 'bolvadin': 0, 'cay': 0, 'cobanlar': 0, 'dazkiri': 0, 'dinar': 0, 'emirdag': 0, 'evciler': 0, 'hocalar': 0, 'ihsaniye': 0, 'iscehisar': 0, 'kiziloren': 0, 'merkez': 0, 'sandikli': 0, 'sinanpasa': 0, 'sultandagi': 0, 'suhut': 0}, 'agri': {'diyadin': 0, 'dogubayazit': 0, 'eleskirt': 0, 'hamur': 0, 'merkez': 0, 'patnos': 0, 'taslicay': 0, 'tutak': 0}, 'aksaray': {'agacoren': 0, 'eskil': 0, 'gulagac': 0, 'guzelyurt': 0, 'merkez': 0, 'ortakoy': 0, 'sariyahsi': 0, 'sultanhani': 0}, 'amasya': {'goynucek': 0, 'gumushacikoy': 0, 'hamamozu': 0, 'merkez': 0, 'merzifon': 0, 'suluova': 0, 'tasova': 0}, 'ankara': {'akyurt': 0, 'altindag': 0, 'ayas': 0, 'bala': 0, 'beypazari': 0, 'camlidere': 0, 'cankaya': 0, 'cubuk': 0, 'elmadag': 0, 'etimesgut': 0, 'evren': 0, 'golbasi': 0, 'gudul': 0, 'haymana': 0, 'kahramankazan': 0, 'kalecik': 0, 'kecioren': 0, 'kizilcahamam': 0, 'mamak': 0, 'nallihan': 0, 'polatli': 0, 'pursaklar': 0, 'sincan': 0, 'sereflikochisar': 0, 'yenimahalle': 0}, 'antalya': {'akseki': 0, 'aksu': 0, 'alanya': 0, 'demre': 0, 'dosemealti': 0, 'elmali': 0, 'finike': 0, 'gazipasa': 0, 'gundogmus': 0, 'ibradi': 0, 'kas': 0, 'kemer': 0, 'kepez': 0, 'konyaalti': 0, 'korkuteli': 0, 'kumluca': 0, 'manavgat': 0, 'muratpasa': 0, 'serik': 0}, 'ardahan': {'cildir': 0, 'damal': 0, 'gole': 0, 'hanak': 0, 'merkez': 0, 'posof': 0}, 'artvin': {'ardanuc': 0, 'arhavi': 0, 'borcka': 0, 'hopa': 0, 'kemalpasa': 0, 'merkez': 0, 'murgul': 0, 'savsat': 0, 'yusufeli': 0}, 'aydin': {'bozdogan': 0, 'buharkent': 0, 'cine': 0, 'didim': 0, 'efeler': 0, 'germencik': 0, 'incirliova': 0, 'karacasu': 0, 'karpuzlu': 0, 'kocarli': 0, 'kosk': 0, 'kusadasi': 0, 'kuyucak': 0, 'nazilli': 0, 'soke': 0, 'sultanhisar': 0, 'yenipazar': 0}, 'balikesir': {'altieylul': 0, 'ayvalik': 0, 'balya': 0, 'bandirma': 0, 'bigadic': 0, 'burhaniye': 0, 'dursunbey': 0, 'edremit': 0, 'erdek': 0, 'gomec': 0, 'gonen': 0, 'havran': 0, 'ivrindi': 0, 'karesi': 0, 'kepsut': 0, 'manyas': 0, 'marmara': 0, 'savastepe': 0, 'sindirgi': 0, 'susurluk': 0}, 'bartin': {'amasra': 0, 'kurucasile': 0, 'merkez': 0, 'ulus': 0}, 'batman': {'besiri': 0, 'gercus': 0, 'hasankeyf': 0, 'kozluk': 0, 'merkez': 0, 'sason': 0}, 'bayburt': {'aydintepe': 0, 'demirozu': 0, 'merkez': 0}, 'bilecik': {'bozuyuk': 0, 'golpazari': 0, 'inhisar': 0, 'merkez': 0, 'osmaneli': 0, 'pazaryeri': 0, 'sogut': 0, 'yenipazar': 0}, 'bingol': {'adakli': 0, 'genc': 0, 'karliova': 0, 'kigi': 0, 'merkez': 0, 'solhan': 0, 'yayladere': 0, 'yedisu': 0}, 'bitlis': {'adilcevaz': 0, 'ahlat': 0, 'guroymak': 0, 'hizan': 0, 'merkez': 0, 'mutki': 0, 'tatvan': 0}, 'bolu': {'dortdivan': 0, 'gerede': 0, 'goynuk': 0, 'kibriscik': 0, 'mengen': 0, 'merkez': 0, 'mudurnu': 0, 'seben': 0, 'yenicaga': 0}, 'burdur': {'aglasun': 0, 'altinyayla': 0, 'bucak': 0, 'cavdir': 0, 'celtikci': 0, 'golhisar': 0, 'karamanli': 0, 'kemer': 0, 'merkez': 0, 'tefenni': 0, 'yesilova': 0}, 'bursa': {'buyukorhan': 0, 'gemlik': 0, 'gursu': 0, 'harmancik': 0, 'inegol': 0, 'iznik': 0, 'karacabey': 0, 'keles': 0, 'kestel': 0, 'mudanya': 0, 'mustafakemalpasa': 0, 'nilufer': 0, 'orhaneli': 0, 'orhangazi': 0, 'osmangazi': 0, 'yenisehir': 0, 'yildirim': 0}, 'canakkale': {'ayvacik': 0, 'bayramic': 0, 'biga': 0, 'bozcaada': 0, 'can': 0, 'eceabat': 0, 'ezine': 0, 'gelibolu': 0, 'gokceada': 0, 'lapseki': 0, 'merkez': 0, 'yenice': 0}, 'cankiri': {'atkaracalar': 0, 'bayramoren': 0, 'cerkes': 0, 'eldivan': 0, 'ilgaz': 0, 'kizilirmak': 0, 'korgun': 0, 'kursunlu': 0, 'merkez': 0, 'orta': 0, 'sabanozu': 0, 'yaprakli': 0}, 'corum': {'alaca': 0, 'bayat': 0, 'bogazkale': 0, 'dodurga': 0, 'iskilip': 0, 'kargi': 0, 'lacin': 0, 'mecitozu': 0, 'merkez': 0, 'oguzlar': 0, 'ortakoy': 0, 'osmancik': 0, 'sungurlu': 0, 'ugurludag': 0}, 'denizli': {'acipayam': 0, 'babadag': 0, 'baklan': 0, 'bekilli': 0, 'beyagac': 0, 'bozkurt': 0, 'buldan': 0, 'cal': 0, 'cameli': 0, 'cardak': 0, 'civril': 0, 'guney': 0, 'honaz': 0, 'kale': 0, 'merkezefendi': 0, 'pamukkale': 0, 'saraykoy': 0, 'serinhisar': 0, 'tavas': 0}, 'diyarbakir': {'baglar': 0, 'bismil': 0, 'cermik': 0, 'cinar': 0, 'cungus': 0, 'dicle': 0, 'egil': 0, 'ergani': 0, 'hani': 0, 'hazro': 0, 'kayapinar': 0, 'kocakoy': 0, 'kulp': 0, 'lice': 0, 'silvan': 0, 'sur': 0, 'yenisehir': 0}, 'duzce': {'akcakoca': 0, 'cumayeri': 0, 'cilimli': 0, 'golyaka': 0, 'gumusova': 0, 'kaynasli': 0, 'merkez': 0, 'yigilca': 0}, 'edirne': {'enez': 0, 'havsa': 0, 'ipsala': 0, 'kesan': 0, 'lalapasa': 0, 'meric': 0, 'merkez': 0, 'suloglu': 0, 'uzunkopru': 0}, 'elazig': {'agin': 0, 'alacakaya': 0, 'aricak': 0, 'baskil': 0, 'karakocan': 0, 'keban': 0, 'kovancilar': 0, 'maden': 0, 'merkez': 0, 'palu': 0, 'sivrice': 0}, 'erzincan': {'cayirli': 0, 'ilic': 0, 'kemah': 0, 'kemaliye': 0, 'merkez': 0, 'otlukbeli': 0, 'refahiye': 0, 'tercan': 0, 'uzumlu': 0}, 'erzurum': {'askale': 0, 'aziziye': 0, 'cat': 0, 'hinis': 0, 'horasan': 0, 'ispir': 0, 'karacoban': 0, 'karayazi': 0, 'koprukoy': 0, 'narman': 0, 'oltu': 0, 'olur': 0, 'palandoken': 0, 'pasinler': 0, 'pazaryolu': 0, 'senkaya': 0, 'tekman': 0, 'tortum': 0, 'uzundere': 0, 'yakutiye': 0}, 'eskisehir': {'alpu': 0, 'beylikova': 0, 'cifteler': 0, 'gunyuzu': 0, 'han': 0, 'inonu': 0, 'mahmudiye': 0, 'mihalgazi': 0, 'mihaliccik': 0, 'odunpazari': 0, 'saricakaya': 0, 'seyitgazi': 0, 'sivrihisar': 0, 'tepebasi': 0}, 'gaziantep': {'araban': 0, 'islahiye': 0, 'karkamis': 0, 'nizip': 0, 'nurdagi': 0, 'oguzeli': 0, 'sahinbey': 0, 'sehitkamil': 0, 'yavuzeli': 0}, 'giresun': {'alucra': 0, 'bulancak': 0, 'camoluk': 0, 'canakci': 0, 'dereli': 0, 'dogankent': 0, 'espiye': 0, 'eynesil': 0, 'gorele': 0, 'guce': 0, 'kesap': 0, 'merkez': 0, 'piraziz': 0, 'sebinkarahisar': 0, 'tirebolu': 0, 'yaglidere': 0}, 'gumushane': {'kelkit': 0, 'kose': 0, 'kurtun': 0, 'merkez': 0, 'siran': 0, 'torul': 0}, 'hakkari': {'cukurca': 0, 'derecik': 0, 'merkez': 0, 'semdinli': 0, 'yuksekova': 0}, 'hatay': {'altinozu': 0, 'antakya': 0, 'arsuz': 0, 'belen': 0, 'defne': 0, 'dortyol': 0, 'erzin': 0, 'hassa': 0, 'iskenderun': 0, 'kirikhan': 0, 'kumlu': 0, 'payas': 0, 'reyhanli': 0, 'samandag': 0, 'yayladagi': 0}, 'igdir': {'aralik': 0, 'karakoyunlu': 0, 'merkez': 0, 'tuzluca': 0}, 'isparta': {'aksu': 0, 'atabey': 0, 'egirdir': 0, 'gelendost': 0, 'gonen': 0, 'keciborlu': 0, 'merkez': 0, 'senirkent': 0, 'sutculer': 0, 'sarkikaraagac': 0, 'uluborlu': 0, 'yalvac': 0, 'yenisarbademli': 0}, 'istanbul': {'adalar': 0, 'arnavutkoy': 0, 'atasehir': 0, 'avcilar': 0, 'bagcilar': 0, 'bahcelievler': 0, 'bakirkoy': 0, 'basaksehir': 0, 'bayrampasa': 0, 'besiktas': 0, 'beykoz': 0, 'beylikduzu': 0, 'beyoglu': 0, 'buyukcekmece': 0, 'catalca': 0, 'cekmekoy': 0, 'esenler': 0, 'esenyurt': 0, 'eyupsultan': 0, 'fatih': 0, 'gaziosmanpasa': 0, 'gungoren': 0, 'kadikoy': 0, 'kagithane': 0, 'kartal': 0, 'kucukcekmece': 0, 'maltepe': 0, 'pendik': 0, 'sancaktepe': 0, 'sariyer': 0, 'silivri': 0, 'sultanbeyli': 0, 'sultangazi': 0, 'sile': 0, 'sisli': 0, 'tuzla': 0, 'umraniye': 0, 'uskudar': 0, 'zeytinburnu': 0}, 'izmir': {'aliaga': 0, 'balcova': 0, 'bayindir': 0, 'bayrakli': 0, 'bergama': 0, 'beydag': 0, 'bornova': 0, 'buca': 0, 'cesme': 0, 'cigli': 0, 'dikili': 0, 'foca': 0, 'gaziemir': 0, 'guzelbahce': 0, 'karabaglar': 0, 'karaburun': 0, 'karsiyaka': 0, 'kemalpasa': 0, 'kinik': 0, 'kiraz': 0, 'konak': 0, 'menderes': 0, 'menemen': 0, 'narlidere': 0, 'odemis': 0, 'seferihisar': 0, 'selcuk': 0, 'tire': 0, 'torbali': 0, 'urla': 0}, 'kahramanmaras': {'afsin': 0, 'andirin': 0, 'caglayancerit': 0, 'dulkadiroglu': 0, 'ekinozu': 0, 'elbistan': 0, 'goksun': 0, 'nurhak': 0, 'onikisubat': 0, 'pazarcik': 0, 'turkoglu': 0}, 'karabuk': {'eflani': 0, 'eskipazar': 0, 'merkez': 0, 'ovacik': 0, 'safranbolu': 0, 'yenice': 0}, 'karaman': {'ayranci': 0, 'basyayla': 0, 'ermenek': 0, 'kazimkarabekir': 0, 'merkez': 0, 'sariveliler': 0}, 'kars': {'akyaka': 0, 'arpacay': 0, 'digor': 0, 'kagizman': 0, 'merkez': 0, 'sarikamis': 0, 'selim': 0, 'susuz': 0}, 'kastamonu': {'abana': 0, 'agli': 0, 'arac': 0, 'azdavay': 0, 'bozkurt': 0, 'cide': 0, 'catalzeytin': 0, 'daday': 0, 'devrekani': 0, 'doganyurt': 0, 'hanonu': 0, 'ihsangazi': 0, 'inebolu': 0, 'kure': 0, 'merkez': 0, 'pinarbasi': 0, 'seydiler': 0, 'senpazar': 0, 'taskopru': 0, 'tosya': 0}, 'kayseri': {'akkisla': 0, 'bunyan': 0, 'develi': 0, 'felahiye': 0, 'hacilar': 0, 'incesu': 0, 'kocasinan': 0, 'melikgazi': 0, 'ozvatan': 0, 'pinarbasi': 0, 'sarioglan': 0, 'sariz': 0, 'talas': 0, 'tomarza': 0, 'yahyali': 0, 'yesilhisar': 0}, 'kirikkale': {'bahsili': 0, 'baliseyh': 0, 'celebi': 0, 'delice': 0, 'karakecili': 0, 'keskin': 0, 'merkez': 0, 'sulakyurt': 0, 'yahsihan': 0}, 'kirklareli': {'babaeski': 0, 'demirkoy': 0, 'kofcaz': 0, 'luleburgaz': 0, 'merkez': 0, 'pehlivankoy': 0, 'pinarhisar': 0, 'vize': 0}, 'kirsehir': {'akcakent': 0, 'akpinar': 0, 'boztepe': 0, 'cicekdagi': 0, 'kaman': 0, 'merkez': 0, 'mucur': 0}, 'kilis': {'elbeyli': 0, 'merkez': 0, 'musabeyli': 0, 'polateli': 0}, 'kocaeli': {'basiskele': 0, 'cayirova': 0, 'darica': 0, 'derince': 0, 'dilovasi': 0, 'gebze': 0, 'golcuk': 0, 'izmit': 0, 'kandira': 0, 'karamursel': 0, 'kartepe': 0, 'korfez': 0}, 'konya': {'ahirli': 0, 'akoren': 0, 'aksehir': 0, 'altinekin': 0, 'beysehir': 0, 'bozkir': 0, 'cihanbeyli': 0, 'celtik': 0, 'cumra': 0, 'derbent': 0, 'derebucak': 0, 'doganhisar': 0, 'emirgazi': 0, 'eregli': 0, 'guneysinir': 0, 'hadim': 0, 'halkapinar': 0, 'huyuk': 0, 'ilgin': 0, 'kadinhani': 0, 'karapinar': 0, 'karatay': 0, 'kulu': 0, 'meram': 0, 'sarayonu': 0, 'selcuklu': 0, 'seydisehir': 0, 'taskent': 0, 'tuzlukcu': 0, 'yalihuyuk': 0, 'yunak': 0}, 'kutahya': {'altintas': 0, 'aslanapa': 0, 'cavdarhisar': 0, 'domanic': 0, 'dumlupinar': 0, 'emet': 0, 'gediz': 0, 'hisarcik': 0, 'merkez': 0, 'pazarlar': 0, 'simav': 0, 'saphane': 0, 'tavsanli': 0}, 'malatya': {'akcadag': 0, 'arapgir': 0, 'arguvan': 0, 'battalgazi': 0, 'darende': 0, 'dogansehir': 0, 'doganyol': 0, 'hekimhan': 0, 'kale': 0, 'kuluncak': 0, 'puturge': 0, 'yazihan': 0, 'yesilyurt': 0}, 'manisa': {'ahmetli': 0, 'akhisar': 0, 'alasehir': 0, 'demirci': 0, 'golmarmara': 0, 'gordes': 0, 'kirkagac': 0, 'koprubasi': 0, 'kula': 0, 'salihli': 0, 'sarigol': 0, 'saruhanli': 0, 'selendi': 0, 'soma': 0, 'sehzadeler': 0, 'turgutlu': 0, 'yunusemre': 0}, 'mardin': {'artuklu': 0, 'dargecit': 0, 'derik': 0, 'kiziltepe': 0, 'mazidagi': 0, 'midyat': 0, 'nusaybin': 0, 'omerli': 0, 'savur': 0, 'yesilli': 0}, 'mersin': {'akdeniz': 0, 'anamur': 0, 'aydincik': 0, 'bozyazi': 0, 'camliyayla': 0, 'erdemli': 0, 'gulnar': 0, 'mezitli': 0, 'mut': 0, 'silifke': 0, 'tarsus': 0, 'toroslar': 0, 'yenisehir': 0}, 'mugla': {'bodrum': 0, 'dalaman': 0, 'datca': 0, 'fethiye': 0, 'kavaklidere': 0, 'koycegiz': 0, 'marmaris': 0, 'mentese': 0, 'milas': 0, 'ortaca': 0, 'seydikemer': 0, 'ula': 0, 'yatagan': 0}, 'mus': {'bulanik': 0, 'haskoy': 0, 'korkut': 0, 'malazgirt': 0, 'merkez': 0, 'varto': 0}, 'nevsehir': {'acigol': 0, 'avanos': 0, 'derinkuyu': 0, 'gulsehir': 0, 'hacibektas': 0, 'kozakli': 0, 'merkez': 0, 'urgup': 0}, 'nigde': {'altunhisar': 0, 'bor': 0, 'camardi': 0, 'ciftlik': 0, 'merkez': 0, 'ulukisla': 0}, 'ordu': {'akkus': 0, 'altinordu': 0, 'aybasti': 0, 'camas': 0, 'catalpinar': 0, 'caybasi': 0, 'fatsa': 0, 'golkoy': 0, 'gulyali': 0, 'gurgentepe': 0, 'ikizce': 0, 'kabaduz': 0, 'kabatas': 0, 'korgan': 0, 'kumru': 0, 'mesudiye': 0, 'persembe': 0, 'ulubey': 0, 'unye': 0}, 'osmaniye': {'bahce': 0, 'duzici': 0, 'hasanbeyli': 0, 'kadirli': 0, 'merkez': 0, 'sumbas': 0, 'toprakkale': 0}, 'rize': {'ardesen': 0, 'camlihemsin': 0, 'cayeli': 0, 'derepazari': 0, 'findikli': 0, 'guneysu': 0, 'hemsin': 0, 'ikizdere': 0, 'iyidere': 0, 'kalkandere': 0, 'merkez': 0, 'pazar': 0}, 'sakarya': {'adapazari': 0, 'akyazi': 0, 'arifiye': 0, 'erenler': 0, 'ferizli': 0, 'geyve': 0, 'hendek': 0, 'karapurcek': 0, 'karasu': 0, 'kaynarca': 0, 'kocaali': 0, 'pamukova': 0, 'sapanca': 0, 'serdivan': 0, 'sogutlu': 0, 'tarakli': 0}, 'samsun': {'19 mayis': 0, 'alacam': 0, 'asarcik': 0, 'atakum': 0, 'ayvacik': 0, 'bafra': 0, 'canik': 0, 'carsamba': 0, 'havza': 0, 'ilkadim': 0, 'kavak': 0, 'ladik': 0, 'salipazari': 0, 'tekkekoy': 0, 'terme': 0, 'vezirkopru': 0, 'yakakent': 0}, 'siirt': {'baykan': 0, 'eruh': 0, 'kurtalan': 0, 'merkez': 0, 'pervari': 0, 'sirvan': 0, 'tillo': 0}, 'sinop': {'ayancik': 0, 'boyabat': 0, 'dikmen': 0, 'duragan': 0, 'erfelek': 0, 'gerze': 0, 'merkez': 0, 'sarayduzu': 0, 'turkeli': 0}, 'sivas': {'akincilar': 0, 'altinyayla': 0, 'divrigi': 0, 'dogansar': 0, 'gemerek': 0, 'golova': 0, 'gurun': 0, 'hafik': 0, 'imranli': 0, 'kangal': 0, 'koyulhisar': 0, 'merkez': 0, 'susehri': 0, 'sarkisla': 0, 'ulas': 0, 'yildizeli': 0, 'zara': 0}, 'sanliurfa': {'akcakale': 0, 'birecik': 0, 'bozova': 0, 'ceylanpinar': 0, 'eyyubiye': 0, 'halfeti': 0, 'haliliye': 0, 'harran': 0, 'hilvan': 0, 'karakopru': 0, 'siverek': 0, 'suruc': 0, 'viransehir': 0}, 'sirnak': {'beytussebap': 0, 'cizre': 0, 'guclukonak': 0, 'idil': 0, 'merkez': 0, 'silopi': 0, 'uludere': 0}, 'tekirdag': {'cerkezkoy': 0, 'corlu': 0, 'ergene': 0, 'hayrabolu': 0, 'kapakli': 0, 'malkara': 0, 'marmaraereglisi': 0, 'muratli': 0, 'saray': 0, 'suleymanpasa': 0, 'sarkoy': 0}, 'tokat': {'almus': 0, 'artova': 0, 'basciftlik': 0, 'erbaa': 0, 'merkez': 0, 'niksar': 0, 'pazar': 0, 'resadiye': 0, 'sulusaray': 0, 'turhal': 0, 'yesilyurt': 0, 'zile': 0}, 'trabzon': {'akcaabat': 0, 'arakli': 0, 'arsin': 0, 'besikduzu': 0, 'carsibasi': 0, 'caykara': 0, 'dernekpazari': 0, 'duzkoy': 0, 'hayrat': 0, 'koprubasi': 0, 'macka': 0, 'of': 0, 'ortahisar': 0, 'surmene': 0, 'salpazari': 0, 'tonya': 0, 'vakfikebir': 0, 'yomra': 0}, 'tunceli': {'cemisgezek': 0, 'hozat': 0, 'mazgirt': 0, 'merkez': 0, 'nazimiye': 0, 'ovacik': 0, 'pertek': 0, 'pulumur': 0}, 'usak': {'banaz': 0, 'esme': 0, 'karahalli': 0, 'merkez': 0, 'sivasli': 0, 'ulubey': 0}, 'van': {'bahcesaray': 0, 'baskale': 0, 'caldiran': 0, 'catak': 0, 'edremit': 0, 'ercis': 0, 'gevas': 0, 'gurpinar': 0, 'ipekyolu': 0, 'muradiye': 0, 'ozalp': 0, 'saray': 0, 'tusba': 0}, 'yalova': {'altinova': 0, 'armutlu': 0, 'cinarcik': 0, 'ciftlikkoy': 0, 'merkez': 0, 'termal': 0}, 'yozgat': {'akdagmadeni': 0, 'aydincik': 0, 'bogazliyan': 0, 'candir': 0, 'cayiralan': 0, 'cekerek': 0, 'kadisehri': 0, 'merkez': 0, 'saraykent': 0, 'sarikaya': 0, 'sorgun': 0, 'sefaatli': 0, 'yenifakili': 0, 'yerkoy': 0}, 'zonguldak': {'alapli': 0, 'caycuma': 0, 'devrek': 0, 'eregli': 0, 'gokcebey': 0, 'kilimli': 0, 'kozlu': 0, 'merkez': 0}}\n"
     ]
    }
   ],
   "source": [
    "print(ilce_dict)"
   ]
  },
  {
   "cell_type": "code",
   "execution_count": null,
   "metadata": {},
   "outputs": [],
   "source": [
    "# Make 3 seperate lists to check in the future\n",
    "\n",
    "ilce_list = []\n",
    "semt_list = []\n",
    "mah_list = []\n",
    "\n",
    "\n",
    "for i, row in df.iterrows():\n",
    "    ilce = unidecode(row['ilçe'].strip().lower())\n",
    "    semt = unidecode(row['semt_bucak_belde'].strip().lower())\n",
    "    mah = (unidecode(row[\"Mahalle\"].strip().lower()))[:-4] # Exlude the MAH\n",
    "\n",
    "    if ilce not in ilce_list:\n",
    "        ilce_list.append(ilce)\n",
    "    if semt not in semt_list:\n",
    "        semt_list.append(semt)\n",
    "    if mah not in mah_list:\n",
    "        mah_list.append(mah)"
   ]
  },
  {
   "cell_type": "code",
   "execution_count": null,
   "metadata": {},
   "outputs": [],
   "source": [
    "def find_main_key(nested_dict, middle_key):\n",
    "    for main_key, inner_dict in nested_dict.items():\n",
    "        if middle_key in inner_dict:\n",
    "            return main_key\n",
    "    return None"
   ]
  },
  {
   "cell_type": "code",
   "execution_count": 6,
   "metadata": {},
   "outputs": [
    {
     "name": "stdout",
     "output_type": "stream",
     "text": [
      "[{'id': 1, 'name': 'Adana', 'latitude': '37.0000', 'longitude': '35.3213', 'population': 2183167, 'region': 'Akdeniz'}, {'id': 2, 'name': 'AdÄ±yaman', 'latitude': '37.7648', 'longitude': '38.2786', 'population': 602774, 'region': 'GÃ¼neydoÄŸu Anadolu'}, {'id': 3, 'name': 'Afyonkarahisar', 'latitude': '38.7507', 'longitude': '30.5567', 'population': 709015, 'region': 'Ege'}, {'id': 4, 'name': 'AÄŸrÄ±', 'latitude': '39.7191', 'longitude': '43.0503', 'population': 547210, 'region': 'DoÄŸu Anadolu'}, {'id': 5, 'name': 'Amasya', 'latitude': '40.6499', 'longitude': '35.8353', 'population': 322167, 'region': 'Karadeniz'}, {'id': 6, 'name': 'Ankara', 'latitude': '39.9208', 'longitude': '32.8541', 'population': 5270575, 'region': 'Ä°Ã§ Anadolu'}, {'id': 7, 'name': 'Antalya', 'latitude': '36.8841', 'longitude': '30.7056', 'population': 2288456, 'region': 'Akdeniz'}, {'id': 8, 'name': 'Artvin', 'latitude': '41.1828', 'longitude': '41.8183', 'population': 168370, 'region': 'Karadeniz'}, {'id': 9, 'name': 'AydÄ±n', 'latitude': '37.8560', 'longitude': '27.8416', 'population': 1053506, 'region': 'Ege'}, {'id': 10, 'name': 'BalÄ±kesir', 'latitude': '39.6484', 'longitude': '27.8826', 'population': 1186688, 'region': 'Ege'}, {'id': 11, 'name': 'Bilecik', 'latitude': '40.0567', 'longitude': '30.0665', 'population': 212361, 'region': 'Marmara'}, {'id': 12, 'name': 'BingÃ¶l', 'latitude': '39.0626', 'longitude': '40.7696', 'population': 267184, 'region': 'DoÄŸu Anadolu'}, {'id': 13, 'name': 'Bitlis', 'latitude': '38.3938', 'longitude': '42.1232', 'population': 267184, 'region': 'DoÄŸu Anadolu'}, {'id': 14, 'name': 'Bolu', 'latitude': '40.5760', 'longitude': '31.5788', 'population': 291095, 'region': 'Karadeniz'}, {'id': 15, 'name': 'Burdur', 'latitude': '37.4613', 'longitude': '30.0665', 'population': 258339, 'region': 'Akdeniz'}, {'id': 16, 'name': 'Bursa', 'latitude': '40.2669', 'longitude': '29.0634', 'population': 2842547, 'region': 'Marmara'}, {'id': 17, 'name': 'Ã‡anakkale', 'latitude': '40.1553', 'longitude': '26.4142', 'population': 513341, 'region': 'Marmara'}, {'id': 18, 'name': 'Ã‡ankÄ±rÄ±', 'latitude': '40.6013', 'longitude': '33.6134', 'population': 180945, 'region': 'Ä°Ã§ Anadolu'}, {'id': 19, 'name': 'Ã‡orum', 'latitude': '40.5506', 'longitude': '34.9556', 'population': 525180, 'region': 'Karadeniz'}, {'id': 20, 'name': 'Denizli', 'latitude': '37.7765', 'longitude': '29.0864', 'population': 993442, 'region': 'Ege'}, {'id': 21, 'name': 'DiyarbakÄ±r', 'latitude': '37.9144', 'longitude': '40.2306', 'population': 1654196, 'region': 'GÃ¼neydoÄŸu Anadolu'}, {'id': 22, 'name': 'Edirne', 'latitude': '41.6818', 'longitude': '26.5623', 'population': 402537, 'region': 'Marmara'}, {'id': 23, 'name': 'ElÃ¢zÄ±ÄŸ', 'latitude': '38.6810', 'longitude': '39.2264', 'population': 574304, 'region': 'DoÄŸu Anadolu'}, {'id': 24, 'name': 'Erzincan', 'latitude': '39.7500', 'longitude': '39.5000', 'population': 222918, 'region': 'DoÄŸu Anadolu'}, {'id': 25, 'name': 'Erzurum', 'latitude': '39.9000', 'longitude': '41.2700', 'population': 762321, 'region': 'DoÄŸu Anadolu'}, {'id': 26, 'name': 'EskiÅŸehir', 'latitude': '39.7767', 'longitude': '30.5206', 'population': 826716, 'region': 'Ä°Ã§ Anadolu'}, {'id': 27, 'name': 'Gaziantep', 'latitude': '37.0662', 'longitude': '37.3833', 'population': 1931836, 'region': 'GÃ¼neydoÄŸu Anadolu'}, {'id': 28, 'name': 'Giresun', 'latitude': '40.9128', 'longitude': '38.3895', 'population': 426686, 'region': 'Karadeniz'}, {'id': 29, 'name': 'GÃ¼mÃ¼ÅŸhane', 'latitude': '40.4386', 'longitude': '39.5086', 'population': 151449, 'region': 'Karadeniz'}, {'id': 30, 'name': 'HakkÃ¢ri', 'latitude': '37.5833', 'longitude': '43.7333', 'population': 278775, 'region': 'DoÄŸu Anadolu'}, {'id': 31, 'name': 'Hatay', 'latitude': '36.4018', 'longitude': '36.3498', 'population': 1533507, 'region': 'Akdeniz'}, {'id': 32, 'name': 'Isparta', 'latitude': '37.7648', 'longitude': '30.5566', 'population': 421766, 'region': 'Akdeniz'}, {'id': 33, 'name': 'Mersin', 'latitude': '36.8000', 'longitude': '34.6333', 'population': 1745221, 'region': 'Akdeniz'}, {'id': 34, 'name': 'Ä°stanbul', 'latitude': '41.0053', 'longitude': '28.9770', 'population': 14657434, 'region': 'Marmara'}, {'id': 35, 'name': 'Ä°zmir', 'latitude': '38.4189', 'longitude': '27.1287', 'population': 4168415, 'region': 'Ege'}, {'id': 36, 'name': 'Kars', 'latitude': '40.6167', 'longitude': '43.1000', 'population': 292660, 'region': 'DoÄŸu Anadolu'}, {'id': 37, 'name': 'Kastamonu', 'latitude': '41.3887', 'longitude': '33.7827', 'population': 372633, 'region': 'Karadeniz'}, {'id': 38, 'name': 'Kayseri', 'latitude': '38.7312', 'longitude': '35.4787', 'population': 1341056, 'region': 'Ä°Ã§ Anadolu'}, {'id': 39, 'name': 'KÄ±rklareli', 'latitude': '41.7333', 'longitude': '27.2167', 'population': 346973, 'region': 'Marmara'}, {'id': 40, 'name': 'KÄ±rÅŸehir', 'latitude': '39.1425', 'longitude': '34.1709', 'population': 225562, 'region': 'Ä°Ã§ Anadolu'}, {'id': 41, 'name': 'Kocaeli', 'latitude': '40.8533', 'longitude': '29.8815', 'population': 1780055, 'region': 'Marmara'}, {'id': 42, 'name': 'Konya', 'latitude': '37.8667', 'longitude': '32.4833', 'population': 2130544, 'region': 'Ä°Ã§ Anadolu'}, {'id': 43, 'name': 'KÃ¼tahya', 'latitude': '39.4167', 'longitude': '29.9833', 'population': 571463, 'region': 'Ege'}, {'id': 44, 'name': 'Malatya', 'latitude': '38.3552', 'longitude': '38.3095', 'population': 772904, 'region': 'DoÄŸu Anadolu'}, {'id': 45, 'name': 'Manisa', 'latitude': '38.6191', 'longitude': '27.4289', 'population': 1380366, 'region': 'Ege'}, {'id': 46, 'name': 'KahramanmaraÅŸ', 'latitude': '37.5858', 'longitude': '36.9371', 'population': 1096610, 'region': 'Akdeniz'}, {'id': 47, 'name': 'Mardin', 'latitude': '37.3212', 'longitude': '40.7245', 'population': 796591, 'region': 'GÃ¼neydoÄŸu Anadolu'}, {'id': 48, 'name': 'MuÄŸla', 'latitude': '37.2153', 'longitude': '28.3636', 'population': 908877, 'region': 'Ege'}, {'id': 49, 'name': 'MuÅŸ', 'latitude': '38.9462', 'longitude': '41.7539', 'population': 408728, 'region': 'DoÄŸu Anadolu'}, {'id': 50, 'name': 'NevÅŸehir', 'latitude': '38.6939', 'longitude': '34.6857', 'population': 286767, 'region': 'Ä°Ã§ Anadolu'}, {'id': 51, 'name': 'NiÄŸde', 'latitude': '37.9667', 'longitude': '34.6833', 'population': 346114, 'region': 'Ä°Ã§ Anadolu'}, {'id': 52, 'name': 'Ordu', 'latitude': '40.9839', 'longitude': '37.8764', 'population': 728949, 'region': 'Karadeniz'}, {'id': 53, 'name': 'Rize', 'latitude': '41.0201', 'longitude': '40.5234', 'population': 328979, 'region': 'Karadeniz'}, {'id': 54, 'name': 'Sakarya', 'latitude': '40.6940', 'longitude': '30.4358', 'population': 953181, 'region': 'Marmara'}, {'id': 55, 'name': 'Samsun', 'latitude': '41.2928', 'longitude': '36.3313', 'population': 1279884, 'region': 'Karadeniz'}, {'id': 56, 'name': 'Siirt', 'latitude': '37.9333', 'longitude': '41.9500', 'population': 320351, 'region': 'GÃ¼neydoÄŸu Anadolu'}, {'id': 57, 'name': 'Sinop', 'latitude': '42.0231', 'longitude': '35.1531', 'population': 204133, 'region': 'Karadeniz'}, {'id': 58, 'name': 'Sivas', 'latitude': '39.7477', 'longitude': '37.0179', 'population': 618617, 'region': 'Ä°Ã§ Anadolu'}, {'id': 59, 'name': 'TekirdaÄŸ', 'latitude': '40.9833', 'longitude': '27.5167', 'population': 937910, 'region': 'Marmara'}, {'id': 60, 'name': 'Tokat', 'latitude': '40.3167', 'longitude': '36.5500', 'population': 593990, 'region': 'Karadeniz'}, {'id': 61, 'name': 'Trabzon', 'latitude': '41.0015', 'longitude': '39.7178', 'population': 768417, 'region': 'Karadeniz'}, {'id': 62, 'name': 'Tunceli', 'latitude': '39.3074', 'longitude': '39.4388', 'population': 86076, 'region': 'DoÄŸu Anadolu'}, {'id': 63, 'name': 'ÅžanlÄ±urfa', 'latitude': '37.1591', 'longitude': '38.7969', 'population': 1892320, 'region': 'GÃ¼neydoÄŸu Anadolu'}, {'id': 64, 'name': 'UÅŸak', 'latitude': '38.6823', 'longitude': '29.4082', 'population': 353048, 'region': 'Ege'}, {'id': 65, 'name': 'Van', 'latitude': '38.4891', 'longitude': '43.4089', 'population': 1096397, 'region': 'DoÄŸu Anadolu'}, {'id': 66, 'name': 'Yozgat', 'latitude': '39.8181', 'longitude': '34.8147', 'population': 419440, 'region': 'Ä°Ã§ Anadolu'}, {'id': 67, 'name': 'Zonguldak', 'latitude': '41.4564', 'longitude': '31.7987', 'population': 595907, 'region': 'Karadeniz'}, {'id': 68, 'name': 'Aksaray', 'latitude': '38.3687', 'longitude': '34.0370', 'population': 386514, 'region': 'Ä°Ã§ Anadolu'}, {'id': 69, 'name': 'Bayburt', 'latitude': '40.2552', 'longitude': '40.2249', 'population': 78550, 'region': 'Karadeniz'}, {'id': 70, 'name': 'Karaman', 'latitude': '37.1759', 'longitude': '33.2287', 'population': 242196, 'region': 'Ä°Ã§ Anadolu'}, {'id': 71, 'name': 'KÄ±rÄ±kkale', 'latitude': '39.8468', 'longitude': '33.5153', 'population': 270271, 'region': 'Ä°Ã§ Anadolu'}, {'id': 72, 'name': 'Batman', 'latitude': '37.8812', 'longitude': '41.1351', 'population': 566633, 'region': 'GÃ¼neydoÄŸu Anadolu'}, {'id': 73, 'name': 'ÅžÄ±rnak', 'latitude': '37.4187', 'longitude': '42.4918', 'population': 490184, 'region': 'GÃ¼neydoÄŸu Anadolu'}, {'id': 74, 'name': 'BartÄ±n', 'latitude': '41.5811', 'longitude': '32.4610', 'population': 190708, 'region': 'Karadeniz'}, {'id': 75, 'name': 'Ardahan', 'latitude': '41.1105', 'longitude': '42.7022', 'population': 99265, 'region': 'DoÄŸu Anadolu'}, {'id': 76, 'name': 'IÄŸdÄ±r', 'latitude': '39.8880', 'longitude': '44.0048', 'population': 192435, 'region': 'DoÄŸu Anadolu'}, {'id': 77, 'name': 'Yalova', 'latitude': '40.6500', 'longitude': '29.2667', 'population': 233009, 'region': 'Marmara'}, {'id': 78, 'name': 'KarabÃ¼k', 'latitude': '41.2061', 'longitude': '32.6204', 'population': 236978, 'region': 'Karadeniz'}, {'id': 79, 'name': 'Kilis', 'latitude': '36.7184', 'longitude': '37.1212', 'population': 130655, 'region': 'GÃ¼neydoÄŸu Anadolu'}, {'id': 80, 'name': 'Osmaniye', 'latitude': '37.2130', 'longitude': '36.1763', 'population': 512873, 'region': 'Akdeniz'}, {'id': 81, 'name': 'DÃ¼zce', 'latitude': '40.8438', 'longitude': '31.1565', 'population': 360388, 'region': 'Karadeniz'}]\n",
      "14657434\n"
     ]
    }
   ],
   "source": [
    "with open(\"data/populations.json\", \"r\") as file:\n",
    "    populations = json.load(file)\n",
    "\n",
    "print(populations)\n",
    "\n",
    "print(populations[33][\"population\"])"
   ]
  },
  {
   "cell_type": "code",
   "execution_count": null,
   "metadata": {},
   "outputs": [],
   "source": [
    "# Get the JSON file as variable \"data\"\n",
    "\n",
    "with open(\"data/main_cities.json\", \"r\") as file:\n",
    "    city_data = json.load(file)\n",
    "\n",
    "# checks for [\"user\"][\"location\"], appends the user's id's in a list. Also adds to the city_data dictionary\n",
    "\n",
    "user_list = []\n",
    "\n",
    "memberCNT = 0\n",
    "cnt = 0\n",
    "with gzip.open(PATH, \"rt\") as fh:\n",
    "    pbar = tqdm(fh)\n",
    "    for i in pbar:\n",
    "        uid, data = i.split(\"\\t\") \n",
    "        data = json.loads(data) # Makes the json into a Python dictionary\n",
    "        for tweet in data:\n",
    "            if tweet[\"user\"][\"location\"] != '':\n",
    "                loc = unidecode(tweet[\"user\"][\"location\"].strip())\n",
    "                loc = loc.lower()\n",
    "                if \"/\" in loc:\n",
    "                    loc = loc.split(\"/\")\n",
    "                elif \",\" in loc:\n",
    "                    loc = loc.split(\",\")\n",
    "                else:\n",
    "                    loc = loc.split(\" \")\n",
    "                loc = [element.replace(\" \", \"\") for element in loc]\n",
    "\n",
    "                common_elements = set(loc).intersection(cityList)\n",
    "                if common_elements:\n",
    "                    city = list(common_elements)[0]\n",
    "                    city_data[city] += 1\n",
    "                    memberCNT += 1\n",
    "                    user_list.append(tweet[\"user\"][\"id\"])\n",
    "                    break\n",
    "                \n",
    "                else:\n",
    "                    common_elements = set(loc).intersection(ilce_list)\n",
    "                    if common_elements:\n",
    "                        if len(list(common_elements)) > 1:\n",
    "                            final = 0\n",
    "                            final_idx = -1\n",
    "                            for i in list(common_elements):\n",
    "                                search = find_main_key(ilce_dict, i)\n",
    "                                idx = cityList.index(search)\n",
    "                                pop = populations[idx][\"population\"]\n",
    "                                if final < pop:\n",
    "                                    final = pop\n",
    "                                    final_idx = idx\n",
    "                            \n",
    "                            city = cityList[final_idx]\n",
    "                        else:\n",
    "                            ilce = list(common_elements)[0]\n",
    "                            city = find_main_key(ilce_dict, ilce)\n",
    "                        \n",
    "                        city_data[city] += 1\n",
    "                        memberCNT += 1\n",
    "                        user_list.append(tweet[\"user\"][\"id\"])\n",
    "                        break\n",
    "                    \n",
    "                    else:\n",
    "                        common_elements = set(loc).intersection(semt_list)\n",
    "                        if common_elements:\n",
    "                            if len(list(common_elements)) > 1:\n",
    "                                final = 0\n",
    "                                final_idx = -1\n",
    "                                for i in list(common_elements):\n",
    "                                    search = find_main_key(semt_dict, i)\n",
    "                                    idx = cityList.index(search)\n",
    "                                    pop = populations[idx][\"population\"]\n",
    "                                    if final < pop:\n",
    "                                        final = pop\n",
    "                                        final_idx = idx\n",
    "                            \n",
    "                                city = cityList[final_idx]\n",
    "                            else:\n",
    "                                semt = list(common_elements)[0]\n",
    "                                city = find_main_key(semt_dict, semt)\n",
    "                            \n",
    "                            city_data[city] += 1\n",
    "                            memberCNT += 1\n",
    "                            user_list.append(tweet[\"user\"][\"id\"])\n",
    "                            break\n",
    "\n",
    "                        else:\n",
    "                            common_elements = set(loc).intersection(mah_list)\n",
    "                            if common_elements:\n",
    "                                if len(list(common_elements)) > 1:\n",
    "                                    final = 0\n",
    "                                    final_idx = -1\n",
    "                                    for i in list(common_elements):\n",
    "                                        search = find_main_key(mah_dict, i)\n",
    "                                        idx = cityList.index(search)\n",
    "                                        pop = populations[idx][\"population\"]\n",
    "                                        if final < pop:\n",
    "                                            final = pop\n",
    "                                            final_idx = idx\n",
    "                                \n",
    "                                    city = cityList[final_idx]\n",
    "                                else:\n",
    "                                    mah = list(common_elements)[0]\n",
    "                                    city = find_main_key(mah_dict, mah)\n",
    "                                \n",
    "                                city_data[city] += 1\n",
    "                                memberCNT += 1\n",
    "                                user_list.append(tweet[\"user\"][\"id\"])\n",
    "                                break\n",
    "            \n",
    "            else:\n",
    "                break\n",
    "        cnt += 1\n",
    "        pbar.set_postfix({\"Count\": cnt, \"Successful Count\": memberCNT})         "
   ]
  },
  {
   "cell_type": "code",
   "execution_count": null,
   "metadata": {},
   "outputs": [],
   "source": [
    "# Runtime: 1 hour 21 minutes"
   ]
  },
  {
   "cell_type": "code",
   "execution_count": null,
   "metadata": {},
   "outputs": [],
   "source": [
    "'''\n",
    "Total users: 515 098\n",
    "Users with legit location in their bio: 117 866\n",
    "22.9%\n",
    "'''"
   ]
  },
  {
   "cell_type": "code",
   "execution_count": null,
   "metadata": {},
   "outputs": [],
   "source": [
    "file_path = 'data/main_cities_finished.json'\n",
    "with open(file_path, 'w') as file:\n",
    "    json.dump(city_data, file, indent=4)\n",
    "\n",
    "with open('data/user_list.txt', 'w') as file:\n",
    "    for item in user_list:\n",
    "        file.write(str(item) + '\\n')"
   ]
  },
  {
   "cell_type": "code",
   "execution_count": null,
   "metadata": {},
   "outputs": [],
   "source": [
    "with open('data/user_list.txt', 'r') as file:\n",
    "    user_list = [int(line.strip()) for line in file]"
   ]
  },
  {
   "cell_type": "code",
   "execution_count": null,
   "metadata": {},
   "outputs": [],
   "source": [
    "with open(\"data/main_cities_finished.json\", \"r\") as file:\n",
    "    city_data = json.load(file)"
   ]
  },
  {
   "cell_type": "code",
   "execution_count": null,
   "metadata": {},
   "outputs": [],
   "source": [
    "# checks for [\"place\"][\"full_name\"], appends the user's id's in a list. Also adds to the city_data dictionary\n",
    "\n",
    "user_place_id = []\n",
    "\n",
    "user_avoid = 0\n",
    "memberCNT = 0\n",
    "cnt = 0\n",
    "with gzip.open(PATH, \"rt\") as fh:\n",
    "    pbar = tqdm(fh)\n",
    "    for i in pbar:\n",
    "        uid, data = i.split(\"\\t\") \n",
    "        data = json.loads(data) # Makes the json into a Python dictionary\n",
    "        user_dict = {key: 0 for key in cityList}\n",
    "        went_in = False\n",
    "        for tweet in data:\n",
    "            if tweet[\"user\"][\"id\"] == user_list[user_avoid]:\n",
    "                if user_avoid < 117865:\n",
    "                    user_avoid += 1\n",
    "                break\n",
    "            else:\n",
    "                if tweet[\"place\"] is not None:\n",
    "                    loc = unidecode(tweet[\"place\"][\"full_name\"].strip())\n",
    "                    loc = loc.lower()\n",
    "                    if \"/\" in loc:\n",
    "                        loc = loc.split(\"/\")\n",
    "                    elif \",\" in loc:\n",
    "                        loc = loc.split(\",\")\n",
    "                    else:\n",
    "                        loc = loc.split(\" \")\n",
    "                    loc = [element.replace(\" \", \"\") for element in loc]\n",
    "\n",
    "                    common_elements = set(loc).intersection(cityList)\n",
    "                    if common_elements:\n",
    "                        city = list(common_elements)[0]\n",
    "                        user_dict[city] += 1\n",
    "                        went_in = True\n",
    "                        to_be_appended = tweet[\"user\"][\"id\"]\n",
    "                        \n",
    "                    else:\n",
    "                        common_elements = set(loc).intersection(ilce_list)\n",
    "                        if common_elements:\n",
    "                            if len(list(common_elements)) > 1:\n",
    "                                final = 0\n",
    "                                final_idx = -1\n",
    "                                for i in list(common_elements):\n",
    "                                    search = find_main_key(ilce_dict, i)\n",
    "                                    idx = cityList.index(search)\n",
    "                                    pop = populations[idx][\"population\"]\n",
    "                                    if final < pop:\n",
    "                                        final = pop\n",
    "                                        final_idx = idx\n",
    "                                \n",
    "                                city = cityList[final_idx]\n",
    "                            else:\n",
    "                                ilce = list(common_elements)[0]\n",
    "                                city = find_main_key(ilce_dict, ilce)\n",
    "                            \n",
    "                            user_dict[city] += 1\n",
    "                            went_in = True\n",
    "                            to_be_appended = tweet[\"user\"][\"id\"]\n",
    "                        \n",
    "                        else:\n",
    "                            common_elements = set(loc).intersection(semt_list)\n",
    "                            if common_elements:\n",
    "                                if len(list(common_elements)) > 1:\n",
    "                                    final = 0  \n",
    "                                    final_idx = -1\n",
    "                                    for i in list(common_elements):\n",
    "                                        search = find_main_key(semt_dict, i)\n",
    "                                        idx = cityList.index(search)\n",
    "                                        pop = populations[idx][\"population\"]\n",
    "                                        if final < pop:\n",
    "                                            final = pop\n",
    "                                            final_idx = idx\n",
    "                                \n",
    "                                    city = cityList[final_idx]\n",
    "                                else:\n",
    "                                    semt = list(common_elements)[0]\n",
    "                                    city = find_main_key(semt_dict, semt)\n",
    "                                \n",
    "                                user_dict[city] += 1\n",
    "                                went_in = True\n",
    "                                to_be_appended = tweet[\"user\"][\"id\"]\n",
    "                                \n",
    "\n",
    "                            else:\n",
    "                                common_elements = set(loc).intersection(mah_list)\n",
    "                                if common_elements:\n",
    "                                    if len(list(common_elements)) > 1:\n",
    "                                        final = 0\n",
    "                                        final_idx = -1\n",
    "                                        for i in list(common_elements):\n",
    "                                            search = find_main_key(mah_dict, i)\n",
    "                                            idx = cityList.index(search)\n",
    "                                            pop = populations[idx][\"population\"]\n",
    "                                            if final < pop:\n",
    "                                                final = pop\n",
    "                                                final_idx = idx\n",
    "                                    \n",
    "                                        city = cityList[final_idx]\n",
    "                                    else:\n",
    "                                        mah = list(common_elements)[0]\n",
    "                                        city = find_main_key(mah_dict, mah)\n",
    "                                    \n",
    "                                    user_dict[city] += 1\n",
    "                                    went_in = True\n",
    "                                    to_be_appended = tweet[\"user\"][\"id\"]\n",
    "\n",
    "\n",
    "        if went_in:           \n",
    "            city = max(user_dict, key = user_dict.get)\n",
    "            city_data[city] += 1\n",
    "            memberCNT += 1\n",
    "            user_place_id.append(to_be_appended)\n",
    "            went_in = False                            \n",
    "                                \n",
    "        cnt += 1\n",
    "        pbar.set_postfix({\"Count\": cnt, \"Successful Count\": memberCNT, \"User List idx\": user_avoid})         "
   ]
  },
  {
   "cell_type": "code",
   "execution_count": null,
   "metadata": {},
   "outputs": [],
   "source": [
    "'''\n",
    "Runtime: 33:30\n",
    "Users with legit geo info in their tweets (excluding the ones with geo info in their bio): 29 194\n",
    "5.67%\n",
    "'''"
   ]
  },
  {
   "cell_type": "code",
   "execution_count": null,
   "metadata": {},
   "outputs": [],
   "source": [
    "file_path = 'data/main_cities_finished_2.json'\n",
    "with open(file_path, 'w') as file:\n",
    "    json.dump(city_data, file, indent=4)"
   ]
  },
  {
   "cell_type": "code",
   "execution_count": null,
   "metadata": {},
   "outputs": [],
   "source": [
    "with open(\"data/main_cities_finished_2.json\", \"r\") as file:\n",
    "    city_data = json.load(file)"
   ]
  },
  {
   "cell_type": "code",
   "execution_count": null,
   "metadata": {},
   "outputs": [],
   "source": [
    "with open('data/user_list_place.txt', 'w') as file:\n",
    "    for item in user_place_id:\n",
    "        file.write(str(item) + '\\n')"
   ]
  },
  {
   "cell_type": "code",
   "execution_count": null,
   "metadata": {},
   "outputs": [],
   "source": [
    "with open('data/user_list_place.txt', 'r') as file:\n",
    "    user_place_id = [int(line.strip()) for line in file]"
   ]
  },
  {
   "cell_type": "code",
   "execution_count": null,
   "metadata": {},
   "outputs": [],
   "source": [
    "# This ran on a script since it takes a long time, checked for [\"geo\"]\n",
    "\n",
    "user_geo_id = []\n",
    "\n",
    "geoCnt = 0\n",
    "place_idx = 0\n",
    "userloc_idx = 0\n",
    "cnt = 0\n",
    "with gzip.open(PATH, \"rt\") as fh:\n",
    "    pbar = tqdm(fh)\n",
    "    for i in pbar:\n",
    "        uid, data = i.split(\"\\t\") \n",
    "        data = json.loads(data) # Makes the json into a Python dictionary\n",
    "        user_dict = {key: 0 for key in cityList}\n",
    "        went_in = False\n",
    "        for tweet in data:\n",
    "            if user_list[userloc_idx] == tweet[\"user\"][\"id\"]:\n",
    "                if userloc_idx < 117865:\n",
    "                    userloc_idx += 1\n",
    "                break\n",
    "            if user_place_id[place_idx] == tweet[\"user\"][\"id\"]:\n",
    "                if place_idx < 29193:\n",
    "                    place_idx += 1\n",
    "                break\n",
    "            if tweet[\"geo\"] is not None:\n",
    "                new_dict = {}\n",
    "                new_dict[\"type\"] = \"Point\"\n",
    "                new_dict[\"coordinates\"] = []\n",
    "                new_dict[\"coordinates\"].append(tweet[\"geo\"][\"coordinates\"][1])\n",
    "                new_dict[\"coordinates\"].append(tweet[\"geo\"][\"coordinates\"][0])\n",
    "                with open(\"data/temp.geojson\", \"w\") as f:\n",
    "                    json.dump(new_dict, f)\n",
    "\n",
    "                pt = gpd.read_file(\"data/temp.geojson\")\n",
    "                df = gpd.read_file(\"data/turkey.geojson\")\n",
    "                intersections = gpd.overlay(pt, df, how='intersection')\n",
    "                name = intersections[\"name\"]\n",
    "                if name.empty is False:\n",
    "                    city = name.iloc[0]\n",
    "                    city = unidecode(city)\n",
    "                    city = city.lower()\n",
    "                    user_dict[city] += 1\n",
    "                    to_be_appended = tweet[\"user\"][\"id\"]\n",
    "                    went_in = True\n",
    "\n",
    "        if went_in:           \n",
    "            city = max(user_dict, key = user_dict.get)\n",
    "            city_data[city] += 1\n",
    "            geoCnt += 1\n",
    "            user_geo_id.append(to_be_appended)\n",
    "            went_in = False\n",
    "        cnt += 1\n",
    "        pbar.set_postfix({\"Count\": cnt, \"Successful Count\": geoCnt, \"UserBioLoc idx\": userloc_idx, \"TweetPlace idx\": place_idx})"
   ]
  },
  {
   "cell_type": "code",
   "execution_count": null,
   "metadata": {},
   "outputs": [],
   "source": [
    "'''\n",
    "Runtime: 1 hour 45 minutes (on a script)\n",
    "Users that had a [\"geo\"] but no user geo info nor tweet place info: 3893\n",
    "'''"
   ]
  },
  {
   "cell_type": "code",
   "execution_count": null,
   "metadata": {},
   "outputs": [],
   "source": [
    "with open('data/user_list_geo.txt', 'w') as file:\n",
    "    for item in user_geo_id:\n",
    "        file.write(str(item) + '\\n')"
   ]
  },
  {
   "cell_type": "code",
   "execution_count": null,
   "metadata": {},
   "outputs": [],
   "source": [
    "with open('data/user_list_geo.txt', 'r') as file:\n",
    "    user_geo_id = [int(line.strip()) for line in file]"
   ]
  },
  {
   "cell_type": "code",
   "execution_count": null,
   "metadata": {},
   "outputs": [],
   "source": [
    "file_path = 'data/main_cities_finished_3.json'\n",
    "with open(file_path, 'w') as file:\n",
    "    json.dump(city_data, file, indent=4)"
   ]
  },
  {
   "cell_type": "code",
   "execution_count": 7,
   "metadata": {},
   "outputs": [],
   "source": [
    "with open(\"data/main_cities_finished_3.json\", \"r\") as file:\n",
    "    city_data = json.load(file)"
   ]
  },
  {
   "cell_type": "code",
   "execution_count": null,
   "metadata": {},
   "outputs": [],
   "source": [
    "'''\n",
    "Total number of users: 515 098\n",
    "Total number of users with the location info: 150 953\n",
    "29.3%\n",
    "'''"
   ]
  },
  {
   "cell_type": "code",
   "execution_count": null,
   "metadata": {},
   "outputs": [],
   "source": [
    "# Got a dictionary to test\n",
    "# Format: {user id: [tweet content]}\n",
    "\n",
    "test_dict = {}\n",
    "\n",
    "geo_idx = 0\n",
    "place_idx = 0\n",
    "userloc_idx = 0\n",
    "cnt = 0\n",
    "up = 0\n",
    "with gzip.open(PATH, \"rt\", encoding=\"utf-8\") as fh:\n",
    "    pbar = tqdm(fh)\n",
    "    for i in pbar:\n",
    "        uid, data = i.split(\"\\t\") \n",
    "        data = json.loads(data) # Makes the json into a Python dictionary\n",
    "        temp_list = []\n",
    "        went_in_loc = False\n",
    "        went_in_place = False\n",
    "        went_in_geo = False\n",
    "        for tweet in data:\n",
    "            if user_list[userloc_idx] == tweet[\"user\"][\"id\"]:\n",
    "                temp_list.append(tweet[\"full_text\"])\n",
    "                went_in_loc = True\n",
    "                key = user_list[userloc_idx] \n",
    "\n",
    "            elif user_place_id[place_idx] == tweet[\"user\"][\"id\"]:\n",
    "                temp_list.append(tweet[\"full_text\"])\n",
    "                went_in_place = True\n",
    "                key = user_place_id[place_idx]\n",
    "\n",
    "            elif tweet[\"user\"][\"id\"] == user_geo_id[geo_idx]:\n",
    "                temp_list.append(tweet[\"full_text\"])\n",
    "                went_in_geo = True\n",
    "                key = user_geo_id[geo_idx]\n",
    "\n",
    "        if went_in_loc:\n",
    "            if userloc_idx < 117865:\n",
    "                userloc_idx += 1\n",
    "                test_dict[str(key)] = temp_list\n",
    "                up += 1\n",
    "                went_in_loc = False\n",
    "        \n",
    "        elif went_in_place:\n",
    "            if place_idx < 29193:\n",
    "                place_idx += 1\n",
    "                test_dict[str(key)] = temp_list\n",
    "                up += 1\n",
    "                went_in_place = False\n",
    "\n",
    "        elif went_in_geo:\n",
    "            if geo_idx < 3892:\n",
    "                geo_idx += 1\n",
    "                test_dict[str(key)] = temp_list\n",
    "                up += 1\n",
    "                went_in_geo = False\n",
    "\n",
    "        if up == 2:\n",
    "            break\n",
    "        cnt += 1\n",
    "        pbar.set_postfix({\"Count\": cnt, \"GeoIdx\": geo_idx, \"UserBioLoc idx\": userloc_idx, \"TweetPlace idx\": place_idx, \"DictElement Count\": up})\n",
    "\n",
    "# Runtime: 35 minutes\n",
    "# 150953 keys (users)"
   ]
  },
  {
   "cell_type": "code",
   "execution_count": null,
   "metadata": {},
   "outputs": [],
   "source": [
    "file_path = 'data/test_dict.json'\n",
    "with open(file_path, 'w') as file:\n",
    "    json.dump(test_dict, file)"
   ]
  },
  {
   "cell_type": "code",
   "execution_count": 3,
   "metadata": {},
   "outputs": [],
   "source": [
    "with open(\"data/test_dict.json\", \"r\") as file:\n",
    "    test_dict = json.load(file)"
   ]
  },
  {
   "cell_type": "code",
   "execution_count": null,
   "metadata": {},
   "outputs": [],
   "source": [
    "###############################################################################################################################################"
   ]
  },
  {
   "cell_type": "code",
   "execution_count": 124,
   "metadata": {},
   "outputs": [
    {
     "data": {
      "text/plain": [
       "'bayburt'"
      ]
     },
     "execution_count": 124,
     "metadata": {},
     "output_type": "execute_result"
    }
   ],
   "source": [
    "import heapq\n",
    "lowest_keys = heapq.nsmallest(3, obs_dict, key=obs_dict.get)\n",
    "\n",
    "lowest_keys[0]"
   ]
  },
  {
   "cell_type": "code",
   "execution_count": 5,
   "metadata": {},
   "outputs": [],
   "source": [
    "def mean_squared_error(dict1, dict2):\n",
    "    common_keys = set(dict1.keys()) & set(dict2.keys())\n",
    "    if not common_keys:\n",
    "        raise ValueError(\"Dictionaries have no common keys.\")\n",
    "\n",
    "    squared_errors = [(dict1[key] - dict2[key]) ** 2 for key in common_keys]\n",
    "    mse = sum(squared_errors) / len(common_keys)\n",
    "    print(len(common_keys))\n",
    "    return mse\n"
   ]
  },
  {
   "cell_type": "code",
   "execution_count": 6,
   "metadata": {},
   "outputs": [],
   "source": [
    "import json\n",
    "\n",
    "with open(\"C:/Users/alpye/OneDrive/Desktop/pure_git/FindGeoLocation/data/main_cities_finished.json\", \"r\") as file:\n",
    "    dic1 = json.load(file)\n",
    "\n",
    "\n",
    "with open(\"C:/Users/alpye/OneDrive/Desktop/pure_git/FindGeoLocation/TRIAL_FILES/trial_data_save.json\", \"r\") as file:\n",
    "    dic2 = json.load(file)"
   ]
  },
  {
   "cell_type": "code",
   "execution_count": 8,
   "metadata": {},
   "outputs": [
    {
     "name": "stdout",
     "output_type": "stream",
     "text": [
      "81\n",
      "1345.20987654321\n",
      "117866\n",
      "117866\n"
     ]
    }
   ],
   "source": [
    "print(mean_squared_error(dic1,dic2))\n",
    "\n",
    "print(sum(dic1.values()))\n",
    "print(sum(dic2.values()))"
   ]
  }
 ],
 "metadata": {
  "kernelspec": {
   "display_name": "Python 3",
   "language": "python",
   "name": "python3"
  },
  "language_info": {
   "codemirror_mode": {
    "name": "ipython",
    "version": 3
   },
   "file_extension": ".py",
   "mimetype": "text/x-python",
   "name": "python",
   "nbconvert_exporter": "python",
   "pygments_lexer": "ipython3",
   "version": "3.11.4"
  },
  "orig_nbformat": 4
 },
 "nbformat": 4,
 "nbformat_minor": 2
}
