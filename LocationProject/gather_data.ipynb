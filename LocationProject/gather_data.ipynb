{
 "cells": [
  {
   "cell_type": "code",
   "execution_count": 1,
   "metadata": {},
   "outputs": [],
   "source": [
    "from TweetLocationFinder import GatherFiles, create_city_list, create_city_data, get_city_data, GatherLoc_WithGuess, GatherLoc_WOGuess"
   ]
  },
  {
   "cell_type": "code",
   "execution_count": 2,
   "metadata": {},
   "outputs": [],
   "source": [
    "gather = GatherFiles()\n",
    "# Created 3 empty dicts and 3 empty lists"
   ]
  },
  {
   "cell_type": "code",
   "execution_count": 3,
   "metadata": {},
   "outputs": [],
   "source": [
    "gather.city_parts(\"C:/Users/alpye/OneDrive/Desktop/pure_git/FindGeoLocation/data/city_street.xlsx\")\n",
    "# We have filled up our dictionaries and lists\n",
    "# We needed the lists as well since the GatherLoc part uses the intersection function"
   ]
  },
  {
   "cell_type": "code",
   "execution_count": 4,
   "metadata": {},
   "outputs": [
    {
     "name": "stdout",
     "output_type": "stream",
     "text": [
      "{'adana': {'aladag': 0, 'ceyhan': 0, 'cukurova': 0, 'feke': 0, 'imamoglu': 0, 'karaisali': 0, 'karatas': 0, 'kozan': 0, 'pozanti': 0, 'saimbeyli': 0, 'saricam': 0, 'seyhan': 0, 'tufanbeyli': 0, 'yumurtalik': 0, 'yuregir': 0}, 'adiyaman': {'besni': 0, 'celikhan': 0, 'gerger': 0, 'golbasi': 0, 'kahta': 0, 'merkez': 0, 'samsat': 0, 'sincik': 0, 'tut': 0}, 'afyonkarahisar': {'basmakci': 0, 'bayat': 0, 'bolvadin': 0, 'cay': 0, 'cobanlar': 0, 'dazkiri': 0, 'dinar': 0, 'emirdag': 0, 'evciler': 0, 'hocalar': 0, 'ihsaniye': 0, 'iscehisar': 0, 'kiziloren': 0, 'merkez': 0, 'sandikli': 0, 'sinanpasa': 0, 'sultandagi': 0, 'suhut': 0}, 'agri': {'diyadin': 0, 'dogubayazit': 0, 'eleskirt': 0, 'hamur': 0, 'merkez': 0, 'patnos': 0, 'taslicay': 0, 'tutak': 0}, 'aksaray': {'agacoren': 0, 'eskil': 0, 'gulagac': 0, 'guzelyurt': 0, 'merkez': 0, 'ortakoy': 0, 'sariyahsi': 0, 'sultanhani': 0}, 'amasya': {'goynucek': 0, 'gumushacikoy': 0, 'hamamozu': 0, 'merkez': 0, 'merzifon': 0, 'suluova': 0, 'tasova': 0}, 'ankara': {'akyurt': 0, 'altindag': 0, 'ayas': 0, 'bala': 0, 'beypazari': 0, 'camlidere': 0, 'cankaya': 0, 'cubuk': 0, 'elmadag': 0, 'etimesgut': 0, 'evren': 0, 'golbasi': 0, 'gudul': 0, 'haymana': 0, 'kahramankazan': 0, 'kalecik': 0, 'kecioren': 0, 'kizilcahamam': 0, 'mamak': 0, 'nallihan': 0, 'polatli': 0, 'pursaklar': 0, 'sincan': 0, 'sereflikochisar': 0, 'yenimahalle': 0}, 'antalya': {'akseki': 0, 'aksu': 0, 'alanya': 0, 'demre': 0, 'dosemealti': 0, 'elmali': 0, 'finike': 0, 'gazipasa': 0, 'gundogmus': 0, 'ibradi': 0, 'kas': 0, 'kemer': 0, 'kepez': 0, 'konyaalti': 0, 'korkuteli': 0, 'kumluca': 0, 'manavgat': 0, 'muratpasa': 0, 'serik': 0}, 'ardahan': {'cildir': 0, 'damal': 0, 'gole': 0, 'hanak': 0, 'merkez': 0, 'posof': 0}, 'artvin': {'ardanuc': 0, 'arhavi': 0, 'borcka': 0, 'hopa': 0, 'kemalpasa': 0, 'merkez': 0, 'murgul': 0, 'savsat': 0, 'yusufeli': 0}, 'aydin': {'bozdogan': 0, 'buharkent': 0, 'cine': 0, 'didim': 0, 'efeler': 0, 'germencik': 0, 'incirliova': 0, 'karacasu': 0, 'karpuzlu': 0, 'kocarli': 0, 'kosk': 0, 'kusadasi': 0, 'kuyucak': 0, 'nazilli': 0, 'soke': 0, 'sultanhisar': 0, 'yenipazar': 0}, 'balikesir': {'altieylul': 0, 'ayvalik': 0, 'balya': 0, 'bandirma': 0, 'bigadic': 0, 'burhaniye': 0, 'dursunbey': 0, 'edremit': 0, 'erdek': 0, 'gomec': 0, 'gonen': 0, 'havran': 0, 'ivrindi': 0, 'karesi': 0, 'kepsut': 0, 'manyas': 0, 'marmara': 0, 'savastepe': 0, 'sindirgi': 0, 'susurluk': 0}, 'bartin': {'amasra': 0, 'kurucasile': 0, 'merkez': 0, 'ulus': 0}, 'batman': {'besiri': 0, 'gercus': 0, 'hasankeyf': 0, 'kozluk': 0, 'merkez': 0, 'sason': 0}, 'bayburt': {'aydintepe': 0, 'demirozu': 0, 'merkez': 0}, 'bilecik': {'bozuyuk': 0, 'golpazari': 0, 'inhisar': 0, 'merkez': 0, 'osmaneli': 0, 'pazaryeri': 0, 'sogut': 0, 'yenipazar': 0}, 'bingol': {'adakli': 0, 'genc': 0, 'karliova': 0, 'kigi': 0, 'merkez': 0, 'solhan': 0, 'yayladere': 0, 'yedisu': 0}, 'bitlis': {'adilcevaz': 0, 'ahlat': 0, 'guroymak': 0, 'hizan': 0, 'merkez': 0, 'mutki': 0, 'tatvan': 0}, 'bolu': {'dortdivan': 0, 'gerede': 0, 'goynuk': 0, 'kibriscik': 0, 'mengen': 0, 'merkez': 0, 'mudurnu': 0, 'seben': 0, 'yenicaga': 0}, 'burdur': {'aglasun': 0, 'altinyayla': 0, 'bucak': 0, 'cavdir': 0, 'celtikci': 0, 'golhisar': 0, 'karamanli': 0, 'kemer': 0, 'merkez': 0, 'tefenni': 0, 'yesilova': 0}, 'bursa': {'buyukorhan': 0, 'gemlik': 0, 'gursu': 0, 'harmancik': 0, 'inegol': 0, 'iznik': 0, 'karacabey': 0, 'keles': 0, 'kestel': 0, 'mudanya': 0, 'mustafakemalpasa': 0, 'nilufer': 0, 'orhaneli': 0, 'orhangazi': 0, 'osmangazi': 0, 'yenisehir': 0, 'yildirim': 0}, 'canakkale': {'ayvacik': 0, 'bayramic': 0, 'biga': 0, 'bozcaada': 0, 'can': 0, 'eceabat': 0, 'ezine': 0, 'gelibolu': 0, 'gokceada': 0, 'lapseki': 0, 'merkez': 0, 'yenice': 0}, 'cankiri': {'atkaracalar': 0, 'bayramoren': 0, 'cerkes': 0, 'eldivan': 0, 'ilgaz': 0, 'kizilirmak': 0, 'korgun': 0, 'kursunlu': 0, 'merkez': 0, 'orta': 0, 'sabanozu': 0, 'yaprakli': 0}, 'corum': {'alaca': 0, 'bayat': 0, 'bogazkale': 0, 'dodurga': 0, 'iskilip': 0, 'kargi': 0, 'lacin': 0, 'mecitozu': 0, 'merkez': 0, 'oguzlar': 0, 'ortakoy': 0, 'osmancik': 0, 'sungurlu': 0, 'ugurludag': 0}, 'denizli': {'acipayam': 0, 'babadag': 0, 'baklan': 0, 'bekilli': 0, 'beyagac': 0, 'bozkurt': 0, 'buldan': 0, 'cal': 0, 'cameli': 0, 'cardak': 0, 'civril': 0, 'guney': 0, 'honaz': 0, 'kale': 0, 'merkezefendi': 0, 'pamukkale': 0, 'saraykoy': 0, 'serinhisar': 0, 'tavas': 0}, 'diyarbakir': {'baglar': 0, 'bismil': 0, 'cermik': 0, 'cinar': 0, 'cungus': 0, 'dicle': 0, 'egil': 0, 'ergani': 0, 'hani': 0, 'hazro': 0, 'kayapinar': 0, 'kocakoy': 0, 'kulp': 0, 'lice': 0, 'silvan': 0, 'sur': 0, 'yenisehir': 0}, 'duzce': {'akcakoca': 0, 'cumayeri': 0, 'cilimli': 0, 'golyaka': 0, 'gumusova': 0, 'kaynasli': 0, 'merkez': 0, 'yigilca': 0}, 'edirne': {'enez': 0, 'havsa': 0, 'ipsala': 0, 'kesan': 0, 'lalapasa': 0, 'meric': 0, 'merkez': 0, 'suloglu': 0, 'uzunkopru': 0}, 'elazig': {'agin': 0, 'alacakaya': 0, 'aricak': 0, 'baskil': 0, 'karakocan': 0, 'keban': 0, 'kovancilar': 0, 'maden': 0, 'merkez': 0, 'palu': 0, 'sivrice': 0}, 'erzincan': {'cayirli': 0, 'ilic': 0, 'kemah': 0, 'kemaliye': 0, 'merkez': 0, 'otlukbeli': 0, 'refahiye': 0, 'tercan': 0, 'uzumlu': 0}, 'erzurum': {'askale': 0, 'aziziye': 0, 'cat': 0, 'hinis': 0, 'horasan': 0, 'ispir': 0, 'karacoban': 0, 'karayazi': 0, 'koprukoy': 0, 'narman': 0, 'oltu': 0, 'olur': 0, 'palandoken': 0, 'pasinler': 0, 'pazaryolu': 0, 'senkaya': 0, 'tekman': 0, 'tortum': 0, 'uzundere': 0, 'yakutiye': 0}, 'eskisehir': {'alpu': 0, 'beylikova': 0, 'cifteler': 0, 'gunyuzu': 0, 'han': 0, 'inonu': 0, 'mahmudiye': 0, 'mihalgazi': 0, 'mihaliccik': 0, 'odunpazari': 0, 'saricakaya': 0, 'seyitgazi': 0, 'sivrihisar': 0, 'tepebasi': 0}, 'gaziantep': {'araban': 0, 'islahiye': 0, 'karkamis': 0, 'nizip': 0, 'nurdagi': 0, 'oguzeli': 0, 'sahinbey': 0, 'sehitkamil': 0, 'yavuzeli': 0}, 'giresun': {'alucra': 0, 'bulancak': 0, 'camoluk': 0, 'canakci': 0, 'dereli': 0, 'dogankent': 0, 'espiye': 0, 'eynesil': 0, 'gorele': 0, 'guce': 0, 'kesap': 0, 'merkez': 0, 'piraziz': 0, 'sebinkarahisar': 0, 'tirebolu': 0, 'yaglidere': 0}, 'gumushane': {'kelkit': 0, 'kose': 0, 'kurtun': 0, 'merkez': 0, 'siran': 0, 'torul': 0}, 'hakkari': {'cukurca': 0, 'derecik': 0, 'merkez': 0, 'semdinli': 0, 'yuksekova': 0}, 'hatay': {'altinozu': 0, 'antakya': 0, 'arsuz': 0, 'belen': 0, 'defne': 0, 'dortyol': 0, 'erzin': 0, 'hassa': 0, 'iskenderun': 0, 'kirikhan': 0, 'kumlu': 0, 'payas': 0, 'reyhanli': 0, 'samandag': 0, 'yayladagi': 0}, 'igdir': {'aralik': 0, 'karakoyunlu': 0, 'merkez': 0, 'tuzluca': 0}, 'isparta': {'aksu': 0, 'atabey': 0, 'egirdir': 0, 'gelendost': 0, 'gonen': 0, 'keciborlu': 0, 'merkez': 0, 'senirkent': 0, 'sutculer': 0, 'sarkikaraagac': 0, 'uluborlu': 0, 'yalvac': 0, 'yenisarbademli': 0}, 'istanbul': {'adalar': 0, 'arnavutkoy': 0, 'atasehir': 0, 'avcilar': 0, 'bagcilar': 0, 'bahcelievler': 0, 'bakirkoy': 0, 'basaksehir': 0, 'bayrampasa': 0, 'besiktas': 0, 'beykoz': 0, 'beylikduzu': 0, 'beyoglu': 0, 'buyukcekmece': 0, 'catalca': 0, 'cekmekoy': 0, 'esenler': 0, 'esenyurt': 0, 'eyupsultan': 0, 'fatih': 0, 'gaziosmanpasa': 0, 'gungoren': 0, 'kadikoy': 0, 'kagithane': 0, 'kartal': 0, 'kucukcekmece': 0, 'maltepe': 0, 'pendik': 0, 'sancaktepe': 0, 'sariyer': 0, 'silivri': 0, 'sultanbeyli': 0, 'sultangazi': 0, 'sile': 0, 'sisli': 0, 'tuzla': 0, 'umraniye': 0, 'uskudar': 0, 'zeytinburnu': 0}, 'izmir': {'aliaga': 0, 'balcova': 0, 'bayindir': 0, 'bayrakli': 0, 'bergama': 0, 'beydag': 0, 'bornova': 0, 'buca': 0, 'cesme': 0, 'cigli': 0, 'dikili': 0, 'foca': 0, 'gaziemir': 0, 'guzelbahce': 0, 'karabaglar': 0, 'karaburun': 0, 'karsiyaka': 0, 'kemalpasa': 0, 'kinik': 0, 'kiraz': 0, 'konak': 0, 'menderes': 0, 'menemen': 0, 'narlidere': 0, 'odemis': 0, 'seferihisar': 0, 'selcuk': 0, 'tire': 0, 'torbali': 0, 'urla': 0}, 'kahramanmaras': {'afsin': 0, 'andirin': 0, 'caglayancerit': 0, 'dulkadiroglu': 0, 'ekinozu': 0, 'elbistan': 0, 'goksun': 0, 'nurhak': 0, 'onikisubat': 0, 'pazarcik': 0, 'turkoglu': 0}, 'karabuk': {'eflani': 0, 'eskipazar': 0, 'merkez': 0, 'ovacik': 0, 'safranbolu': 0, 'yenice': 0}, 'karaman': {'ayranci': 0, 'basyayla': 0, 'ermenek': 0, 'kazimkarabekir': 0, 'merkez': 0, 'sariveliler': 0}, 'kars': {'akyaka': 0, 'arpacay': 0, 'digor': 0, 'kagizman': 0, 'merkez': 0, 'sarikamis': 0, 'selim': 0, 'susuz': 0}, 'kastamonu': {'abana': 0, 'agli': 0, 'arac': 0, 'azdavay': 0, 'bozkurt': 0, 'cide': 0, 'catalzeytin': 0, 'daday': 0, 'devrekani': 0, 'doganyurt': 0, 'hanonu': 0, 'ihsangazi': 0, 'inebolu': 0, 'kure': 0, 'merkez': 0, 'pinarbasi': 0, 'seydiler': 0, 'senpazar': 0, 'taskopru': 0, 'tosya': 0}, 'kayseri': {'akkisla': 0, 'bunyan': 0, 'develi': 0, 'felahiye': 0, 'hacilar': 0, 'incesu': 0, 'kocasinan': 0, 'melikgazi': 0, 'ozvatan': 0, 'pinarbasi': 0, 'sarioglan': 0, 'sariz': 0, 'talas': 0, 'tomarza': 0, 'yahyali': 0, 'yesilhisar': 0}, 'kirikkale': {'bahsili': 0, 'baliseyh': 0, 'celebi': 0, 'delice': 0, 'karakecili': 0, 'keskin': 0, 'merkez': 0, 'sulakyurt': 0, 'yahsihan': 0}, 'kirklareli': {'babaeski': 0, 'demirkoy': 0, 'kofcaz': 0, 'luleburgaz': 0, 'merkez': 0, 'pehlivankoy': 0, 'pinarhisar': 0, 'vize': 0}, 'kirsehir': {'akcakent': 0, 'akpinar': 0, 'boztepe': 0, 'cicekdagi': 0, 'kaman': 0, 'merkez': 0, 'mucur': 0}, 'kilis': {'elbeyli': 0, 'merkez': 0, 'musabeyli': 0, 'polateli': 0}, 'kocaeli': {'basiskele': 0, 'cayirova': 0, 'darica': 0, 'derince': 0, 'dilovasi': 0, 'gebze': 0, 'golcuk': 0, 'izmit': 0, 'kandira': 0, 'karamursel': 0, 'kartepe': 0, 'korfez': 0}, 'konya': {'ahirli': 0, 'akoren': 0, 'aksehir': 0, 'altinekin': 0, 'beysehir': 0, 'bozkir': 0, 'cihanbeyli': 0, 'celtik': 0, 'cumra': 0, 'derbent': 0, 'derebucak': 0, 'doganhisar': 0, 'emirgazi': 0, 'eregli': 0, 'guneysinir': 0, 'hadim': 0, 'halkapinar': 0, 'huyuk': 0, 'ilgin': 0, 'kadinhani': 0, 'karapinar': 0, 'karatay': 0, 'kulu': 0, 'meram': 0, 'sarayonu': 0, 'selcuklu': 0, 'seydisehir': 0, 'taskent': 0, 'tuzlukcu': 0, 'yalihuyuk': 0, 'yunak': 0}, 'kutahya': {'altintas': 0, 'aslanapa': 0, 'cavdarhisar': 0, 'domanic': 0, 'dumlupinar': 0, 'emet': 0, 'gediz': 0, 'hisarcik': 0, 'merkez': 0, 'pazarlar': 0, 'simav': 0, 'saphane': 0, 'tavsanli': 0}, 'malatya': {'akcadag': 0, 'arapgir': 0, 'arguvan': 0, 'battalgazi': 0, 'darende': 0, 'dogansehir': 0, 'doganyol': 0, 'hekimhan': 0, 'kale': 0, 'kuluncak': 0, 'puturge': 0, 'yazihan': 0, 'yesilyurt': 0}, 'manisa': {'ahmetli': 0, 'akhisar': 0, 'alasehir': 0, 'demirci': 0, 'golmarmara': 0, 'gordes': 0, 'kirkagac': 0, 'koprubasi': 0, 'kula': 0, 'salihli': 0, 'sarigol': 0, 'saruhanli': 0, 'selendi': 0, 'soma': 0, 'sehzadeler': 0, 'turgutlu': 0, 'yunusemre': 0}, 'mardin': {'artuklu': 0, 'dargecit': 0, 'derik': 0, 'kiziltepe': 0, 'mazidagi': 0, 'midyat': 0, 'nusaybin': 0, 'omerli': 0, 'savur': 0, 'yesilli': 0}, 'mersin': {'akdeniz': 0, 'anamur': 0, 'aydincik': 0, 'bozyazi': 0, 'camliyayla': 0, 'erdemli': 0, 'gulnar': 0, 'mezitli': 0, 'mut': 0, 'silifke': 0, 'tarsus': 0, 'toroslar': 0, 'yenisehir': 0}, 'mugla': {'bodrum': 0, 'dalaman': 0, 'datca': 0, 'fethiye': 0, 'kavaklidere': 0, 'koycegiz': 0, 'marmaris': 0, 'mentese': 0, 'milas': 0, 'ortaca': 0, 'seydikemer': 0, 'ula': 0, 'yatagan': 0}, 'mus': {'bulanik': 0, 'haskoy': 0, 'korkut': 0, 'malazgirt': 0, 'merkez': 0, 'varto': 0}, 'nevsehir': {'acigol': 0, 'avanos': 0, 'derinkuyu': 0, 'gulsehir': 0, 'hacibektas': 0, 'kozakli': 0, 'merkez': 0, 'urgup': 0}, 'nigde': {'altunhisar': 0, 'bor': 0, 'camardi': 0, 'ciftlik': 0, 'merkez': 0, 'ulukisla': 0}, 'ordu': {'akkus': 0, 'altinordu': 0, 'aybasti': 0, 'camas': 0, 'catalpinar': 0, 'caybasi': 0, 'fatsa': 0, 'golkoy': 0, 'gulyali': 0, 'gurgentepe': 0, 'ikizce': 0, 'kabaduz': 0, 'kabatas': 0, 'korgan': 0, 'kumru': 0, 'mesudiye': 0, 'persembe': 0, 'ulubey': 0, 'unye': 0}, 'osmaniye': {'bahce': 0, 'duzici': 0, 'hasanbeyli': 0, 'kadirli': 0, 'merkez': 0, 'sumbas': 0, 'toprakkale': 0}, 'rize': {'ardesen': 0, 'camlihemsin': 0, 'cayeli': 0, 'derepazari': 0, 'findikli': 0, 'guneysu': 0, 'hemsin': 0, 'ikizdere': 0, 'iyidere': 0, 'kalkandere': 0, 'merkez': 0, 'pazar': 0}, 'sakarya': {'adapazari': 0, 'akyazi': 0, 'arifiye': 0, 'erenler': 0, 'ferizli': 0, 'geyve': 0, 'hendek': 0, 'karapurcek': 0, 'karasu': 0, 'kaynarca': 0, 'kocaali': 0, 'pamukova': 0, 'sapanca': 0, 'serdivan': 0, 'sogutlu': 0, 'tarakli': 0}, 'samsun': {'19 mayis': 0, 'alacam': 0, 'asarcik': 0, 'atakum': 0, 'ayvacik': 0, 'bafra': 0, 'canik': 0, 'carsamba': 0, 'havza': 0, 'ilkadim': 0, 'kavak': 0, 'ladik': 0, 'salipazari': 0, 'tekkekoy': 0, 'terme': 0, 'vezirkopru': 0, 'yakakent': 0}, 'siirt': {'baykan': 0, 'eruh': 0, 'kurtalan': 0, 'merkez': 0, 'pervari': 0, 'sirvan': 0, 'tillo': 0}, 'sinop': {'ayancik': 0, 'boyabat': 0, 'dikmen': 0, 'duragan': 0, 'erfelek': 0, 'gerze': 0, 'merkez': 0, 'sarayduzu': 0, 'turkeli': 0}, 'sivas': {'akincilar': 0, 'altinyayla': 0, 'divrigi': 0, 'dogansar': 0, 'gemerek': 0, 'golova': 0, 'gurun': 0, 'hafik': 0, 'imranli': 0, 'kangal': 0, 'koyulhisar': 0, 'merkez': 0, 'susehri': 0, 'sarkisla': 0, 'ulas': 0, 'yildizeli': 0, 'zara': 0}, 'sanliurfa': {'akcakale': 0, 'birecik': 0, 'bozova': 0, 'ceylanpinar': 0, 'eyyubiye': 0, 'halfeti': 0, 'haliliye': 0, 'harran': 0, 'hilvan': 0, 'karakopru': 0, 'siverek': 0, 'suruc': 0, 'viransehir': 0}, 'sirnak': {'beytussebap': 0, 'cizre': 0, 'guclukonak': 0, 'idil': 0, 'merkez': 0, 'silopi': 0, 'uludere': 0}, 'tekirdag': {'cerkezkoy': 0, 'corlu': 0, 'ergene': 0, 'hayrabolu': 0, 'kapakli': 0, 'malkara': 0, 'marmaraereglisi': 0, 'muratli': 0, 'saray': 0, 'suleymanpasa': 0, 'sarkoy': 0}, 'tokat': {'almus': 0, 'artova': 0, 'basciftlik': 0, 'erbaa': 0, 'merkez': 0, 'niksar': 0, 'pazar': 0, 'resadiye': 0, 'sulusaray': 0, 'turhal': 0, 'yesilyurt': 0, 'zile': 0}, 'trabzon': {'akcaabat': 0, 'arakli': 0, 'arsin': 0, 'besikduzu': 0, 'carsibasi': 0, 'caykara': 0, 'dernekpazari': 0, 'duzkoy': 0, 'hayrat': 0, 'koprubasi': 0, 'macka': 0, 'of': 0, 'ortahisar': 0, 'surmene': 0, 'salpazari': 0, 'tonya': 0, 'vakfikebir': 0, 'yomra': 0}, 'tunceli': {'cemisgezek': 0, 'hozat': 0, 'mazgirt': 0, 'merkez': 0, 'nazimiye': 0, 'ovacik': 0, 'pertek': 0, 'pulumur': 0}, 'usak': {'banaz': 0, 'esme': 0, 'karahalli': 0, 'merkez': 0, 'sivasli': 0, 'ulubey': 0}, 'van': {'bahcesaray': 0, 'baskale': 0, 'caldiran': 0, 'catak': 0, 'edremit': 0, 'ercis': 0, 'gevas': 0, 'gurpinar': 0, 'ipekyolu': 0, 'muradiye': 0, 'ozalp': 0, 'saray': 0, 'tusba': 0}, 'yalova': {'altinova': 0, 'armutlu': 0, 'cinarcik': 0, 'ciftlikkoy': 0, 'merkez': 0, 'termal': 0}, 'yozgat': {'akdagmadeni': 0, 'aydincik': 0, 'bogazliyan': 0, 'candir': 0, 'cayiralan': 0, 'cekerek': 0, 'kadisehri': 0, 'merkez': 0, 'saraykent': 0, 'sarikaya': 0, 'sorgun': 0, 'sefaatli': 0, 'yenifakili': 0, 'yerkoy': 0}, 'zonguldak': {'alapli': 0, 'caycuma': 0, 'devrek': 0, 'eregli': 0, 'gokcebey': 0, 'kilimli': 0, 'kozlu': 0, 'merkez': 0}}\n",
      "['aladag', 'ceyhan', 'cukurova', 'feke', 'imamoglu', 'karaisali', 'karatas', 'kozan', 'pozanti', 'saimbeyli', 'saricam', 'seyhan', 'tufanbeyli', 'yumurtalik', 'yuregir', 'besni', 'celikhan', 'gerger', 'golbasi', 'kahta', 'merkez', 'samsat', 'sincik', 'tut', 'basmakci', 'bayat', 'bolvadin', 'cay', 'cobanlar', 'dazkiri', 'dinar', 'emirdag', 'evciler', 'hocalar', 'ihsaniye', 'iscehisar', 'kiziloren', 'sandikli', 'sinanpasa', 'sultandagi', 'suhut', 'diyadin', 'dogubayazit', 'eleskirt', 'hamur', 'patnos', 'taslicay', 'tutak', 'agacoren', 'eskil', 'gulagac', 'guzelyurt', 'ortakoy', 'sariyahsi', 'sultanhani', 'goynucek', 'gumushacikoy', 'hamamozu', 'merzifon', 'suluova', 'tasova', 'akyurt', 'altindag', 'ayas', 'bala', 'beypazari', 'camlidere', 'cankaya', 'cubuk', 'elmadag', 'etimesgut', 'evren', 'gudul', 'haymana', 'kahramankazan', 'kalecik', 'kecioren', 'kizilcahamam', 'mamak', 'nallihan', 'polatli', 'pursaklar', 'sincan', 'sereflikochisar', 'yenimahalle', 'akseki', 'aksu', 'alanya', 'demre', 'dosemealti', 'elmali', 'finike', 'gazipasa', 'gundogmus', 'ibradi', 'kas', 'kemer', 'kepez', 'konyaalti', 'korkuteli', 'kumluca', 'manavgat', 'muratpasa', 'serik', 'cildir', 'damal', 'gole', 'hanak', 'posof', 'ardanuc', 'arhavi', 'borcka', 'hopa', 'kemalpasa', 'murgul', 'savsat', 'yusufeli', 'bozdogan', 'buharkent', 'cine', 'didim', 'efeler', 'germencik', 'incirliova', 'karacasu', 'karpuzlu', 'kocarli', 'kosk', 'kusadasi', 'kuyucak', 'nazilli', 'soke', 'sultanhisar', 'yenipazar', 'altieylul', 'ayvalik', 'balya', 'bandirma', 'bigadic', 'burhaniye', 'dursunbey', 'edremit', 'erdek', 'gomec', 'gonen', 'havran', 'ivrindi', 'karesi', 'kepsut', 'manyas', 'marmara', 'savastepe', 'sindirgi', 'susurluk', 'amasra', 'kurucasile', 'ulus', 'besiri', 'gercus', 'hasankeyf', 'kozluk', 'sason', 'aydintepe', 'demirozu', 'bozuyuk', 'golpazari', 'inhisar', 'osmaneli', 'pazaryeri', 'sogut', 'adakli', 'genc', 'karliova', 'kigi', 'solhan', 'yayladere', 'yedisu', 'adilcevaz', 'ahlat', 'guroymak', 'hizan', 'mutki', 'tatvan', 'dortdivan', 'gerede', 'goynuk', 'kibriscik', 'mengen', 'mudurnu', 'seben', 'yenicaga', 'aglasun', 'altinyayla', 'bucak', 'cavdir', 'celtikci', 'golhisar', 'karamanli', 'tefenni', 'yesilova', 'buyukorhan', 'gemlik', 'gursu', 'harmancik', 'inegol', 'iznik', 'karacabey', 'keles', 'kestel', 'mudanya', 'mustafakemalpasa', 'nilufer', 'orhaneli', 'orhangazi', 'osmangazi', 'yenisehir', 'yildirim', 'ayvacik', 'bayramic', 'biga', 'bozcaada', 'can', 'eceabat', 'ezine', 'gelibolu', 'gokceada', 'lapseki', 'yenice', 'atkaracalar', 'bayramoren', 'cerkes', 'eldivan', 'ilgaz', 'kizilirmak', 'korgun', 'kursunlu', 'orta', 'sabanozu', 'yaprakli', 'alaca', 'bogazkale', 'dodurga', 'iskilip', 'kargi', 'lacin', 'mecitozu', 'oguzlar', 'osmancik', 'sungurlu', 'ugurludag', 'acipayam', 'babadag', 'baklan', 'bekilli', 'beyagac', 'bozkurt', 'buldan', 'cal', 'cameli', 'cardak', 'civril', 'guney', 'honaz', 'kale', 'merkezefendi', 'pamukkale', 'saraykoy', 'serinhisar', 'tavas', 'baglar', 'bismil', 'cermik', 'cinar', 'cungus', 'dicle', 'egil', 'ergani', 'hani', 'hazro', 'kayapinar', 'kocakoy', 'kulp', 'lice', 'silvan', 'sur', 'akcakoca', 'cumayeri', 'cilimli', 'golyaka', 'gumusova', 'kaynasli', 'yigilca', 'enez', 'havsa', 'ipsala', 'kesan', 'lalapasa', 'meric', 'suloglu', 'uzunkopru', 'agin', 'alacakaya', 'aricak', 'baskil', 'karakocan', 'keban', 'kovancilar', 'maden', 'palu', 'sivrice', 'cayirli', 'ilic', 'kemah', 'kemaliye', 'otlukbeli', 'refahiye', 'tercan', 'uzumlu', 'askale', 'aziziye', 'cat', 'hinis', 'horasan', 'ispir', 'karacoban', 'karayazi', 'koprukoy', 'narman', 'oltu', 'olur', 'palandoken', 'pasinler', 'pazaryolu', 'senkaya', 'tekman', 'tortum', 'uzundere', 'yakutiye', 'alpu', 'beylikova', 'cifteler', 'gunyuzu', 'han', 'inonu', 'mahmudiye', 'mihalgazi', 'mihaliccik', 'odunpazari', 'saricakaya', 'seyitgazi', 'sivrihisar', 'tepebasi', 'araban', 'islahiye', 'karkamis', 'nizip', 'nurdagi', 'oguzeli', 'sahinbey', 'sehitkamil', 'yavuzeli', 'alucra', 'bulancak', 'camoluk', 'canakci', 'dereli', 'dogankent', 'espiye', 'eynesil', 'gorele', 'guce', 'kesap', 'piraziz', 'sebinkarahisar', 'tirebolu', 'yaglidere', 'kelkit', 'kose', 'kurtun', 'siran', 'torul', 'cukurca', 'derecik', 'semdinli', 'yuksekova', 'altinozu', 'antakya', 'arsuz', 'belen', 'defne', 'dortyol', 'erzin', 'hassa', 'iskenderun', 'kirikhan', 'kumlu', 'payas', 'reyhanli', 'samandag', 'yayladagi', 'aralik', 'karakoyunlu', 'tuzluca', 'atabey', 'egirdir', 'gelendost', 'keciborlu', 'senirkent', 'sutculer', 'sarkikaraagac', 'uluborlu', 'yalvac', 'yenisarbademli', 'adalar', 'arnavutkoy', 'atasehir', 'avcilar', 'bagcilar', 'bahcelievler', 'bakirkoy', 'basaksehir', 'bayrampasa', 'besiktas', 'beykoz', 'beylikduzu', 'beyoglu', 'buyukcekmece', 'catalca', 'cekmekoy', 'esenler', 'esenyurt', 'eyupsultan', 'fatih', 'gaziosmanpasa', 'gungoren', 'kadikoy', 'kagithane', 'kartal', 'kucukcekmece', 'maltepe', 'pendik', 'sancaktepe', 'sariyer', 'silivri', 'sultanbeyli', 'sultangazi', 'sile', 'sisli', 'tuzla', 'umraniye', 'uskudar', 'zeytinburnu', 'aliaga', 'balcova', 'bayindir', 'bayrakli', 'bergama', 'beydag', 'bornova', 'buca', 'cesme', 'cigli', 'dikili', 'foca', 'gaziemir', 'guzelbahce', 'karabaglar', 'karaburun', 'karsiyaka', 'kinik', 'kiraz', 'konak', 'menderes', 'menemen', 'narlidere', 'odemis', 'seferihisar', 'selcuk', 'tire', 'torbali', 'urla', 'afsin', 'andirin', 'caglayancerit', 'dulkadiroglu', 'ekinozu', 'elbistan', 'goksun', 'nurhak', 'onikisubat', 'pazarcik', 'turkoglu', 'eflani', 'eskipazar', 'ovacik', 'safranbolu', 'ayranci', 'basyayla', 'ermenek', 'kazimkarabekir', 'sariveliler', 'akyaka', 'arpacay', 'digor', 'kagizman', 'sarikamis', 'selim', 'susuz', 'abana', 'agli', 'arac', 'azdavay', 'cide', 'catalzeytin', 'daday', 'devrekani', 'doganyurt', 'hanonu', 'ihsangazi', 'inebolu', 'kure', 'pinarbasi', 'seydiler', 'senpazar', 'taskopru', 'tosya', 'akkisla', 'bunyan', 'develi', 'felahiye', 'hacilar', 'incesu', 'kocasinan', 'melikgazi', 'ozvatan', 'sarioglan', 'sariz', 'talas', 'tomarza', 'yahyali', 'yesilhisar', 'bahsili', 'baliseyh', 'celebi', 'delice', 'karakecili', 'keskin', 'sulakyurt', 'yahsihan', 'babaeski', 'demirkoy', 'kofcaz', 'luleburgaz', 'pehlivankoy', 'pinarhisar', 'vize', 'akcakent', 'akpinar', 'boztepe', 'cicekdagi', 'kaman', 'mucur', 'elbeyli', 'musabeyli', 'polateli', 'basiskele', 'cayirova', 'darica', 'derince', 'dilovasi', 'gebze', 'golcuk', 'izmit', 'kandira', 'karamursel', 'kartepe', 'korfez', 'ahirli', 'akoren', 'aksehir', 'altinekin', 'beysehir', 'bozkir', 'cihanbeyli', 'celtik', 'cumra', 'derbent', 'derebucak', 'doganhisar', 'emirgazi', 'eregli', 'guneysinir', 'hadim', 'halkapinar', 'huyuk', 'ilgin', 'kadinhani', 'karapinar', 'karatay', 'kulu', 'meram', 'sarayonu', 'selcuklu', 'seydisehir', 'taskent', 'tuzlukcu', 'yalihuyuk', 'yunak', 'altintas', 'aslanapa', 'cavdarhisar', 'domanic', 'dumlupinar', 'emet', 'gediz', 'hisarcik', 'pazarlar', 'simav', 'saphane', 'tavsanli', 'akcadag', 'arapgir', 'arguvan', 'battalgazi', 'darende', 'dogansehir', 'doganyol', 'hekimhan', 'kuluncak', 'puturge', 'yazihan', 'yesilyurt', 'ahmetli', 'akhisar', 'alasehir', 'demirci', 'golmarmara', 'gordes', 'kirkagac', 'koprubasi', 'kula', 'salihli', 'sarigol', 'saruhanli', 'selendi', 'soma', 'sehzadeler', 'turgutlu', 'yunusemre', 'artuklu', 'dargecit', 'derik', 'kiziltepe', 'mazidagi', 'midyat', 'nusaybin', 'omerli', 'savur', 'yesilli', 'akdeniz', 'anamur', 'aydincik', 'bozyazi', 'camliyayla', 'erdemli', 'gulnar', 'mezitli', 'mut', 'silifke', 'tarsus', 'toroslar', 'bodrum', 'dalaman', 'datca', 'fethiye', 'kavaklidere', 'koycegiz', 'marmaris', 'mentese', 'milas', 'ortaca', 'seydikemer', 'ula', 'yatagan', 'bulanik', 'haskoy', 'korkut', 'malazgirt', 'varto', 'acigol', 'avanos', 'derinkuyu', 'gulsehir', 'hacibektas', 'kozakli', 'urgup', 'altunhisar', 'bor', 'camardi', 'ciftlik', 'ulukisla', 'akkus', 'altinordu', 'aybasti', 'camas', 'catalpinar', 'caybasi', 'fatsa', 'golkoy', 'gulyali', 'gurgentepe', 'ikizce', 'kabaduz', 'kabatas', 'korgan', 'kumru', 'mesudiye', 'persembe', 'ulubey', 'unye', 'bahce', 'duzici', 'hasanbeyli', 'kadirli', 'sumbas', 'toprakkale', 'ardesen', 'camlihemsin', 'cayeli', 'derepazari', 'findikli', 'guneysu', 'hemsin', 'ikizdere', 'iyidere', 'kalkandere', 'pazar', 'adapazari', 'akyazi', 'arifiye', 'erenler', 'ferizli', 'geyve', 'hendek', 'karapurcek', 'karasu', 'kaynarca', 'kocaali', 'pamukova', 'sapanca', 'serdivan', 'sogutlu', 'tarakli', '19 mayis', 'alacam', 'asarcik', 'atakum', 'bafra', 'canik', 'carsamba', 'havza', 'ilkadim', 'kavak', 'ladik', 'salipazari', 'tekkekoy', 'terme', 'vezirkopru', 'yakakent', 'baykan', 'eruh', 'kurtalan', 'pervari', 'sirvan', 'tillo', 'ayancik', 'boyabat', 'dikmen', 'duragan', 'erfelek', 'gerze', 'sarayduzu', 'turkeli', 'akincilar', 'divrigi', 'dogansar', 'gemerek', 'golova', 'gurun', 'hafik', 'imranli', 'kangal', 'koyulhisar', 'susehri', 'sarkisla', 'ulas', 'yildizeli', 'zara', 'akcakale', 'birecik', 'bozova', 'ceylanpinar', 'eyyubiye', 'halfeti', 'haliliye', 'harran', 'hilvan', 'karakopru', 'siverek', 'suruc', 'viransehir', 'beytussebap', 'cizre', 'guclukonak', 'idil', 'silopi', 'uludere', 'cerkezkoy', 'corlu', 'ergene', 'hayrabolu', 'kapakli', 'malkara', 'marmaraereglisi', 'muratli', 'saray', 'suleymanpasa', 'sarkoy', 'almus', 'artova', 'basciftlik', 'erbaa', 'niksar', 'resadiye', 'sulusaray', 'turhal', 'zile', 'akcaabat', 'arakli', 'arsin', 'besikduzu', 'carsibasi', 'caykara', 'dernekpazari', 'duzkoy', 'hayrat', 'macka', 'of', 'ortahisar', 'surmene', 'salpazari', 'tonya', 'vakfikebir', 'yomra', 'cemisgezek', 'hozat', 'mazgirt', 'nazimiye', 'pertek', 'pulumur', 'banaz', 'esme', 'karahalli', 'sivasli', 'bahcesaray', 'baskale', 'caldiran', 'catak', 'ercis', 'gevas', 'gurpinar', 'ipekyolu', 'muradiye', 'ozalp', 'tusba', 'altinova', 'armutlu', 'cinarcik', 'ciftlikkoy', 'termal', 'akdagmadeni', 'bogazliyan', 'candir', 'cayiralan', 'cekerek', 'kadisehri', 'saraykent', 'sarikaya', 'sorgun', 'sefaatli', 'yenifakili', 'yerkoy', 'alapli', 'caycuma', 'devrek', 'gokcebey', 'kilimli', 'kozlu']\n"
     ]
    }
   ],
   "source": [
    "# Example:\n",
    "\n",
    "print(gather.ilce_dict)\n",
    "print(gather.ilce_list)"
   ]
  },
  {
   "cell_type": "code",
   "execution_count": 4,
   "metadata": {},
   "outputs": [
    {
     "name": "stdout",
     "output_type": "stream",
     "text": [
      "['adana', 'adiyaman', 'afyonkarahisar', 'agri', 'aksaray', 'amasya', 'ankara', 'antalya', 'ardahan', 'artvin', 'aydin', 'balikesir', 'bartin', 'batman', 'bayburt', 'bilecik', 'bingol', 'bitlis', 'bolu', 'burdur', 'bursa', 'canakkale', 'cankiri', 'corum', 'denizli', 'diyarbakir', 'duzce', 'edirne', 'elazig', 'erzincan', 'erzurum', 'eskisehir', 'gaziantep', 'giresun', 'gumushane', 'hakkari', 'hatay', 'igdir', 'isparta', 'istanbul', 'izmir', 'kahramanmaras', 'karabuk', 'karaman', 'kars', 'kastamonu', 'kayseri', 'kilis', 'kirikkale', 'kirklareli', 'kirsehir', 'kocaeli', 'konya', 'kutahya', 'malatya', 'manisa', 'mardin', 'mersin', 'mugla', 'mus', 'nevsehir', 'nigde', 'ordu', 'osmaniye', 'rize', 'sakarya', 'samsun', 'sanliurfa', 'siirt', 'sinop', 'sivas', 'sirnak', 'tekirdag', 'tokat', 'trabzon', 'tunceli', 'usak', 'van', 'yalova', 'yozgat', 'zonguldak']\n",
      "{'adana': 0, 'adiyaman': 0, 'afyonkarahisar': 0, 'agri': 0, 'aksaray': 0, 'amasya': 0, 'ankara': 0, 'antalya': 0, 'ardahan': 0, 'artvin': 0, 'aydin': 0, 'balikesir': 0, 'bartin': 0, 'batman': 0, 'bayburt': 0, 'bilecik': 0, 'bingol': 0, 'bitlis': 0, 'bolu': 0, 'burdur': 0, 'bursa': 0, 'canakkale': 0, 'cankiri': 0, 'corum': 0, 'denizli': 0, 'diyarbakir': 0, 'duzce': 0, 'edirne': 0, 'elazig': 0, 'erzincan': 0, 'erzurum': 0, 'eskisehir': 0, 'gaziantep': 0, 'giresun': 0, 'gumushane': 0, 'hakkari': 0, 'hatay': 0, 'igdir': 0, 'isparta': 0, 'istanbul': 0, 'izmir': 0, 'kahramanmaras': 0, 'karabuk': 0, 'karaman': 0, 'kars': 0, 'kastamonu': 0, 'kayseri': 0, 'kilis': 0, 'kirikkale': 0, 'kirklareli': 0, 'kirsehir': 0, 'kocaeli': 0, 'konya': 0, 'kutahya': 0, 'malatya': 0, 'manisa': 0, 'mardin': 0, 'mersin': 0, 'mugla': 0, 'mus': 0, 'nevsehir': 0, 'nigde': 0, 'ordu': 0, 'osmaniye': 0, 'rize': 0, 'sakarya': 0, 'samsun': 0, 'sanliurfa': 0, 'siirt': 0, 'sinop': 0, 'sivas': 0, 'sirnak': 0, 'tekirdag': 0, 'tokat': 0, 'trabzon': 0, 'tunceli': 0, 'usak': 0, 'van': 0, 'yalova': 0, 'yozgat': 0, 'zonguldak': 0}\n"
     ]
    }
   ],
   "source": [
    "# Now, we create city list and city data\n",
    "\n",
    "city_txt_path = \"C:/Users/alpye/OneDrive/Desktop/pure_git/FindGeoLocation/data/cities.txt\"\n",
    "city_list = create_city_list(city_txt_path)\n",
    "\n",
    "print(city_list)\n",
    "\n",
    "arbitrary_path = \"C:/Users/alpye/OneDrive/Desktop/pure_git/FindGeoLocation/gathered_data/whole_results/trial_data.json\"\n",
    "city_data = create_city_data(city_list, arbitrary_path)\n",
    "# arbitrary save place is given for the data\n",
    "\n",
    "# alternative: create_city_data(create_city_list(city_txt_path), arbitrary_path)\n",
    "print(city_data)"
   ]
  },
  {
   "cell_type": "code",
   "execution_count": 5,
   "metadata": {},
   "outputs": [],
   "source": [
    "city_txt_path = \"C:/Users/alpye/OneDrive/Desktop/pure_git/FindGeoLocation/data/cities.txt\"\n",
    "populations_json_path = \"C:/Users/alpye/OneDrive/Desktop/pure_git/FindGeoLocation/data/populations.json\"\n",
    "\n",
    "# Now create a location gather-er entity\n",
    "\n",
    "gather_loc = GatherLoc_WithGuess(gather.ilce_dict, gather.semt_dict, gather.mah_dict, gather.ilce_list, gather.semt_list, gather.mah_list, populations_json_path, city_txt_path)"
   ]
  },
  {
   "cell_type": "code",
   "execution_count": 8,
   "metadata": {},
   "outputs": [
    {
     "name": "stderr",
     "output_type": "stream",
     "text": [
      "0it [00:00, ?it/s, Count=3, Successful Count=1]"
     ]
    },
    {
     "name": "stderr",
     "output_type": "stream",
     "text": [
      "515098it [1:24:49, 101.22it/s, Count=515098, Successful Count=117866]\n"
     ]
    }
   ],
   "source": [
    "# Now let's give it a shot:\n",
    "data_path = \"C:/Users/alpye/OneDrive/Desktop/DATA/coalition_3.gz\"\n",
    "result_json = \"C:/Users/alpye/OneDrive/Desktop/pure_git/FindGeoLocation/gathered_data/whole_results/trial_data_save.json\"\n",
    "user_id_collected_path = \"C:/Users/alpye/OneDrive/Desktop/pure_git/FindGeoLocation/gathered_data/whole_results/txt/trial_user_save.txt\"\n",
    "\n",
    "gather_loc.get_user_loc(gather_loc, city_data, data_path, result_json, user_id_collected_path)"
   ]
  },
  {
   "cell_type": "code",
   "execution_count": 7,
   "metadata": {},
   "outputs": [
    {
     "name": "stdout",
     "output_type": "stream",
     "text": [
      "117866\n",
      "{'adana': 2730, 'adiyaman': 479, 'afyonkarahisar': 472, 'agri': 256, 'aksaray': 318, 'amasya': 254, 'ankara': 11785, 'antalya': 4536, 'ardahan': 68, 'artvin': 217, 'aydin': 1255, 'balikesir': 1189, 'bartin': 152, 'batman': 411, 'bayburt': 79, 'bilecik': 172, 'bingol': 168, 'bitlis': 188, 'bolu': 291, 'burdur': 150, 'bursa': 3908, 'canakkale': 691, 'cankiri': 160, 'corum': 335, 'denizli': 1056, 'diyarbakir': 1293, 'duzce': 385, 'edirne': 400, 'elazig': 506, 'erzincan': 180, 'erzurum': 834, 'eskisehir': 1205, 'gaziantep': 2069, 'giresun': 383, 'gumushane': 94, 'hakkari': 155, 'hatay': 1457, 'igdir': 126, 'isparta': 375, 'istanbul': 40163, 'izmir': 9674, 'kahramanmaras': 704, 'karabuk': 221, 'karaman': 188, 'kars': 181, 'kastamonu': 285, 'kayseri': 1237, 'kilis': 99, 'kirikkale': 206, 'kirklareli': 291, 'kirsehir': 157, 'kocaeli': 2358, 'konya': 2268, 'kutahya': 362, 'malatya': 824, 'manisa': 1036, 'mardin': 631, 'mersin': 2001, 'mugla': 1724, 'mus': 180, 'nevsehir': 262, 'nigde': 245, 'ordu': 596, 'osmaniye': 323, 'rize': 535, 'sakarya': 1222, 'samsun': 1458, 'sanliurfa': 1634, 'siirt': 185, 'sinop': 196, 'sivas': 543, 'sirnak': 288, 'tekirdag': 1060, 'tokat': 370, 'trabzon': 1343, 'tunceli': 78, 'usak': 269, 'van': 714, 'yalova': 340, 'yozgat': 247, 'zonguldak': 386}\n"
     ]
    }
   ],
   "source": [
    "import json\n",
    "\n",
    "result_json = \"C:/Users/alpye/OneDrive/Desktop/pure_git/FindGeoLocation/gathered_data/whole_results/trial_data_save.json\"\n",
    "user_id_collected_path = \"C:/Users/alpye/OneDrive/Desktop/pure_git/FindGeoLocation/gathered_data/whole_results/txt/trial_user_save.txt\"\n",
    "\n",
    "# Runtime: 1 hour 24 mins\n",
    "# Total users: 515 098\n",
    "with open(user_id_collected_path, 'r') as file:\n",
    "    user_list = [int(line.strip()) for line in file]\n",
    "\n",
    "print(len(user_list))\n",
    "\n",
    "with open(result_json, \"r\") as file:\n",
    "    city_data = json.load(file)\n",
    "\n",
    "print(city_data)"
   ]
  },
  {
   "cell_type": "code",
   "execution_count": 8,
   "metadata": {},
   "outputs": [
    {
     "name": "stderr",
     "output_type": "stream",
     "text": [
      "0it [00:00, ?it/s, Count=4, Successful Count=0, List1 idx=1, List2 idx=None]"
     ]
    },
    {
     "name": "stderr",
     "output_type": "stream",
     "text": [
      "515098it [31:59, 268.38it/s, Count=515098, Successful Count=29194, List1 idx=117865, List2 idx=None]\n"
     ]
    }
   ],
   "source": [
    "data_path = \"C:/Users/alpye/OneDrive/Desktop/DATA/coalition_3.gz\"\n",
    "result_json = \"C:/Users/alpye/OneDrive/Desktop/pure_git/FindGeoLocation/gathered_data/whole_results/trial_data_save2.json\"\n",
    "user_id_collected_path = \"C:/Users/alpye/OneDrive/Desktop/pure_git/FindGeoLocation/gathered_data/whole_results/txt/trial_user_save2.txt\"\n",
    "\n",
    "\n",
    "gather_loc.get_tweet_loc(gather_loc, city_data, data_path, result_json, user_id_collected_path, arg1=user_list)"
   ]
  },
  {
   "cell_type": "code",
   "execution_count": 9,
   "metadata": {},
   "outputs": [
    {
     "name": "stdout",
     "output_type": "stream",
     "text": [
      "29194\n",
      "{'adana': 3398, 'adiyaman': 646, 'afyonkarahisar': 630, 'agri': 316, 'aksaray': 404, 'amasya': 327, 'ankara': 14301, 'antalya': 5685, 'ardahan': 81, 'artvin': 289, 'aydin': 1625, 'balikesir': 1617, 'bartin': 200, 'batman': 567, 'bayburt': 101, 'bilecik': 220, 'bingol': 248, 'bitlis': 256, 'bolu': 402, 'burdur': 204, 'bursa': 4948, 'canakkale': 911, 'cankiri': 195, 'corum': 430, 'denizli': 1337, 'diyarbakir': 1662, 'duzce': 503, 'edirne': 533, 'elazig': 620, 'erzincan': 240, 'erzurum': 1000, 'eskisehir': 1472, 'gaziantep': 2634, 'giresun': 497, 'gumushane': 126, 'hakkari': 212, 'hatay': 1842, 'igdir': 161, 'isparta': 471, 'istanbul': 49575, 'izmir': 11603, 'kahramanmaras': 922, 'karabuk': 268, 'karaman': 251, 'kars': 236, 'kastamonu': 362, 'kayseri': 1614, 'kilis': 127, 'kirikkale': 249, 'kirklareli': 404, 'kirsehir': 202, 'kocaeli': 3046, 'konya': 2909, 'kutahya': 480, 'malatya': 1003, 'manisa': 1359, 'mardin': 789, 'mersin': 2388, 'mugla': 2249, 'mus': 221, 'nevsehir': 330, 'nigde': 319, 'ordu': 770, 'osmaniye': 409, 'rize': 677, 'sakarya': 1522, 'samsun': 1824, 'sanliurfa': 2078, 'siirt': 245, 'sinop': 249, 'sivas': 651, 'sirnak': 388, 'tekirdag': 1353, 'tokat': 481, 'trabzon': 1622, 'tunceli': 97, 'usak': 346, 'van': 890, 'yalova': 452, 'yozgat': 312, 'zonguldak': 477}\n"
     ]
    }
   ],
   "source": [
    "import json\n",
    "\n",
    "result_json = \"C:/Users/alpye/OneDrive/Desktop/pure_git/FindGeoLocation/gathered_data/whole_results/trial_data_save2.json\"\n",
    "user_id_collected_path = \"C:/Users/alpye/OneDrive/Desktop/pure_git/FindGeoLocation/gathered_data/whole_results/txt/trial_user_save2.txt\"\n",
    "\n",
    "# Runtime: 32 mins\n",
    "\n",
    "with open(user_id_collected_path, 'r') as file:\n",
    "    user_list2 = [int(line.strip()) for line in file]\n",
    "\n",
    "print(len(user_list2))\n",
    "\n",
    "with open(result_json, \"r\") as file:\n",
    "    city_data = json.load(file)\n",
    "\n",
    "print(city_data)"
   ]
  },
  {
   "cell_type": "code",
   "execution_count": 10,
   "metadata": {},
   "outputs": [
    {
     "name": "stderr",
     "output_type": "stream",
     "text": [
      "515098it [45:14, 189.75it/s, Count=515098, Successful Count=3893, List1 idx=117865, List2 idx=29193]\n"
     ]
    }
   ],
   "source": [
    "data_path = \"C:/Users/alpye/OneDrive/Desktop/DATA/coalition_3.gz\"\n",
    "result_json = \"C:/Users/alpye/OneDrive/Desktop/pure_git/FindGeoLocation/gathered_data/whole_results/trial_data_save3.json\"\n",
    "user_id_collected_path = \"C:/Users/alpye/OneDrive/Desktop/pure_git/FindGeoLocation/gathered_data/whole_results/txt/trial_user_save3.txt\"\n",
    "turkey_geojson = \"C:/Users/alpye/OneDrive/Desktop/pure_git/FindGeoLocation/data/turkey.geojson\"\n",
    "\n",
    "\n",
    "gather_loc.get_tweet_coord(gather_loc, city_data, data_path, turkey_geojson, result_json, user_id_collected_path, arg1=user_list, arg2=user_list2)"
   ]
  },
  {
   "cell_type": "code",
   "execution_count": 11,
   "metadata": {},
   "outputs": [
    {
     "name": "stdout",
     "output_type": "stream",
     "text": [
      "3893\n",
      "{'adana': 3472, 'adiyaman': 659, 'afyonkarahisar': 652, 'agri': 325, 'aksaray': 408, 'amasya': 338, 'ankara': 14638, 'antalya': 5820, 'ardahan': 83, 'artvin': 293, 'aydin': 1658, 'balikesir': 1656, 'bartin': 206, 'batman': 590, 'bayburt': 103, 'bilecik': 231, 'bingol': 249, 'bitlis': 264, 'bolu': 416, 'burdur': 210, 'bursa': 5083, 'canakkale': 929, 'cankiri': 200, 'corum': 442, 'denizli': 1366, 'diyarbakir': 1713, 'duzce': 511, 'edirne': 552, 'elazig': 631, 'erzincan': 249, 'erzurum': 1030, 'eskisehir': 1509, 'gaziantep': 2684, 'giresun': 509, 'gumushane': 132, 'hakkari': 224, 'hatay': 1878, 'igdir': 164, 'isparta': 486, 'istanbul': 51072, 'izmir': 11832, 'kahramanmaras': 946, 'karabuk': 277, 'karaman': 260, 'kars': 240, 'kastamonu': 366, 'kayseri': 1670, 'kilis': 131, 'kirikkale': 252, 'kirklareli': 418, 'kirsehir': 211, 'kocaeli': 3167, 'konya': 2976, 'kutahya': 499, 'malatya': 1023, 'manisa': 1388, 'mardin': 810, 'mersin': 2439, 'mugla': 2308, 'mus': 228, 'nevsehir': 333, 'nigde': 321, 'ordu': 793, 'osmaniye': 419, 'rize': 690, 'sakarya': 1567, 'samsun': 1855, 'sanliurfa': 2136, 'siirt': 251, 'sinop': 252, 'sivas': 671, 'sirnak': 398, 'tekirdag': 1401, 'tokat': 492, 'trabzon': 1651, 'tunceli': 98, 'usak': 357, 'van': 917, 'yalova': 461, 'yozgat': 324, 'zonguldak': 490}\n"
     ]
    }
   ],
   "source": [
    "# Runtime: 45 mins\n",
    "result_json = \"C:/Users/alpye/OneDrive/Desktop/pure_git/FindGeoLocation/gathered_data/whole_results/trial_data_save3.json\"\n",
    "user_id_collected_path = \"C:/Users/alpye/OneDrive/Desktop/pure_git/FindGeoLocation/gathered_data/whole_results/txt/trial_user_save3.txt\"\n",
    "\n",
    "\n",
    "with open(user_id_collected_path, 'r') as file:\n",
    "    user_list3 = [int(line.strip()) for line in file]\n",
    "\n",
    "print(len(user_list3))\n",
    "\n",
    "with open(result_json, \"r\") as file:\n",
    "    city_data = json.load(file)\n",
    "\n",
    "print(city_data)"
   ]
  },
  {
   "cell_type": "code",
   "execution_count": 6,
   "metadata": {},
   "outputs": [],
   "source": [
    "# Another quick example, on GatherLoc without guess\n",
    "\n",
    "city_txt_path = \"C:/Users/alpye/OneDrive/Desktop/pure_git/FindGeoLocation/data/cities.txt\"\n",
    "\n",
    "gather_loc_wo = GatherLoc_WOGuess(gather.ilce_dict, gather.semt_dict, gather.mah_dict, gather.ilce_list, gather.semt_list, gather.mah_list, city_txt_path)"
   ]
  },
  {
   "cell_type": "code",
   "execution_count": 8,
   "metadata": {},
   "outputs": [
    {
     "name": "stderr",
     "output_type": "stream",
     "text": [
      "0it [00:00, ?it/s, Count=3, Successful Count=1, List1 idx=None, List2 idx=None]"
     ]
    },
    {
     "name": "stderr",
     "output_type": "stream",
     "text": [
      "515098it [1:20:17, 106.93it/s, Count=515098, Successful Count=117678, List1 idx=None, List2 idx=None]\n"
     ]
    }
   ],
   "source": [
    "data_path = \"C:/Users/alpye/OneDrive/Desktop/DATA/coalition_3.gz\"\n",
    "result_json = \"C:/Users/alpye/OneDrive/Desktop/pure_git/FindGeoLocation/gathered_data/whole_results/trial_data_saveWO1.json\"\n",
    "user_id_collected_path = \"C:/Users/alpye/OneDrive/Desktop/pure_git/FindGeoLocation/gathered_data/whole_results/txt/trial_user_saveWO1.txt\"\n",
    "\n",
    "gather_loc_wo.get_user_loc(gather_loc_wo, city_data, data_path, result_json, user_id_collected_path)\n",
    "\n",
    "# 1 hr 20 mins\n",
    "# 117687 users gathered"
   ]
  },
  {
   "cell_type": "code",
   "execution_count": 6,
   "metadata": {},
   "outputs": [
    {
     "name": "stderr",
     "output_type": "stream",
     "text": [
      "0it [00:00, ?it/s, Count=5, Successful Count=0, List1 idx=None, List2 idx=None]"
     ]
    },
    {
     "name": "stderr",
     "output_type": "stream",
     "text": [
      "515098it [32:40, 262.73it/s, Count=515098, Successful Count=48197, List1 idx=None, List2 idx=None]\n"
     ]
    }
   ],
   "source": [
    "# Now lets get the data for each individual part (user location is already done on this notebook)\n",
    "\n",
    "\n",
    "data_path = \"C:/Users/alpye/OneDrive/Desktop/DATA/coalition_3.gz\"\n",
    "result_json = \"C:/Users/alpye/OneDrive/Desktop/pure_git/FindGeoLocation/gathered_data/individual_results/tweet_loc.json\"\n",
    "user_id_collected_path = \"C:/Users/alpye/OneDrive/Desktop/pure_git/FindGeoLocation/gathered_data/individual_results/txt/tweet_loc.txt\"\n",
    "\n",
    "\n",
    "gather_loc.get_tweet_loc(gather_loc, city_data, data_path, result_json, user_id_collected_path)\n",
    "\n",
    "# 48197 users"
   ]
  },
  {
   "cell_type": "code",
   "execution_count": 6,
   "metadata": {},
   "outputs": [
    {
     "name": "stdout",
     "output_type": "stream",
     "text": [
      "{'adana': 0, 'adiyaman': 0, 'afyonkarahisar': 0, 'agri': 0, 'aksaray': 0, 'amasya': 0, 'ankara': 0, 'antalya': 0, 'ardahan': 0, 'artvin': 0, 'aydin': 0, 'balikesir': 0, 'bartin': 0, 'batman': 0, 'bayburt': 0, 'bilecik': 0, 'bingol': 0, 'bitlis': 0, 'bolu': 0, 'burdur': 0, 'bursa': 0, 'canakkale': 0, 'cankiri': 0, 'corum': 0, 'denizli': 0, 'diyarbakir': 0, 'duzce': 0, 'edirne': 0, 'elazig': 0, 'erzincan': 0, 'erzurum': 0, 'eskisehir': 0, 'gaziantep': 0, 'giresun': 0, 'gumushane': 0, 'hakkari': 0, 'hatay': 0, 'igdir': 0, 'isparta': 0, 'istanbul': 0, 'izmir': 0, 'kahramanmaras': 0, 'karabuk': 0, 'karaman': 0, 'kars': 0, 'kastamonu': 0, 'kayseri': 0, 'kilis': 0, 'kirikkale': 0, 'kirklareli': 0, 'kirsehir': 0, 'kocaeli': 0, 'konya': 0, 'kutahya': 0, 'malatya': 0, 'manisa': 0, 'mardin': 0, 'mersin': 0, 'mugla': 0, 'mus': 0, 'nevsehir': 0, 'nigde': 0, 'ordu': 0, 'osmaniye': 0, 'rize': 0, 'sakarya': 0, 'samsun': 0, 'sanliurfa': 0, 'siirt': 0, 'sinop': 0, 'sivas': 0, 'sirnak': 0, 'tekirdag': 0, 'tokat': 0, 'trabzon': 0, 'tunceli': 0, 'usak': 0, 'van': 0, 'yalova': 0, 'yozgat': 0, 'zonguldak': 0}\n"
     ]
    }
   ],
   "source": [
    "city_data = create_city_data(city_list, arbitrary_path)\n",
    "\n",
    "print(city_data)"
   ]
  },
  {
   "cell_type": "code",
   "execution_count": 7,
   "metadata": {},
   "outputs": [
    {
     "name": "stderr",
     "output_type": "stream",
     "text": [
      "515098it [2:20:08, 61.26it/s, Count=515098, Successful Count=22050, List1 idx=None, List2 idx=None] \n"
     ]
    }
   ],
   "source": [
    "data_path = \"C:/Users/alpye/OneDrive/Desktop/DATA/coalition_3.gz\"\n",
    "result_json = \"C:/Users/alpye/OneDrive/Desktop/pure_git/FindGeoLocation/gathered_data/individual_results/tweet_coord.json\"\n",
    "user_id_collected_path = \"C:/Users/alpye/OneDrive/Desktop/pure_git/FindGeoLocation/gathered_data/individual_results/txt/tweet_coord.txt\"\n",
    "turkey_geojson = \"C:/Users/alpye/OneDrive/Desktop/pure_git/FindGeoLocation/data/turkey.geojson\"\n",
    "\n",
    "\n",
    "gather_loc.get_tweet_coord(gather_loc, city_data, data_path, turkey_geojson, result_json, user_id_collected_path)\n",
    "\n",
    "# 2 hr 20 min\n",
    "# 22050 users"
   ]
  }
 ],
 "metadata": {
  "kernelspec": {
   "display_name": "Python 3",
   "language": "python",
   "name": "python3"
  },
  "language_info": {
   "codemirror_mode": {
    "name": "ipython",
    "version": 3
   },
   "file_extension": ".py",
   "mimetype": "text/x-python",
   "name": "python",
   "nbconvert_exporter": "python",
   "pygments_lexer": "ipython3",
   "version": "3.11.4"
  },
  "orig_nbformat": 4
 },
 "nbformat": 4,
 "nbformat_minor": 2
}
