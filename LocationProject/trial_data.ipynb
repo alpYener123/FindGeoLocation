{
 "cells": [
  {
   "cell_type": "code",
   "execution_count": 4,
   "metadata": {},
   "outputs": [],
   "source": [
    "from TweetLocationFinder import GatherFiles\n",
    "\n",
    "# Import GatherFiles"
   ]
  },
  {
   "cell_type": "code",
   "execution_count": 5,
   "metadata": {},
   "outputs": [],
   "source": [
    "# Initialize the object to gather the files needed\n",
    "# Create the dictionaries\n",
    "path_to_excel = \"C:/Users/alpye/OneDrive/Desktop/pure/FindGeoLocation/data/city_street.xlsx\"\n",
    "files = GatherFiles()\n",
    "files.city_parts(path_to_excel)"
   ]
  },
  {
   "cell_type": "code",
   "execution_count": 6,
   "metadata": {},
   "outputs": [
    {
     "name": "stdout",
     "output_type": "stream",
     "text": [
      "{'adana': {'aladag': 0, 'ceyhan': 0, 'cukurova': 0, 'feke': 0, 'imamoglu': 0, 'karaisali': 0, 'karatas': 0, 'kozan': 0, 'pozanti': 0, 'saimbeyli': 0, 'saricam': 0, 'seyhan': 0, 'tufanbeyli': 0, 'yumurtalik': 0, 'yuregir': 0}, 'adiyaman': {'besni': 0, 'celikhan': 0, 'gerger': 0, 'golbasi': 0, 'kahta': 0, 'merkez': 0, 'samsat': 0, 'sincik': 0, 'tut': 0}, 'afyonkarahisar': {'basmakci': 0, 'bayat': 0, 'bolvadin': 0, 'cay': 0, 'cobanlar': 0, 'dazkiri': 0, 'dinar': 0, 'emirdag': 0, 'evciler': 0, 'hocalar': 0, 'ihsaniye': 0, 'iscehisar': 0, 'kiziloren': 0, 'merkez': 0, 'sandikli': 0, 'sinanpasa': 0, 'sultandagi': 0, 'suhut': 0}, 'agri': {'diyadin': 0, 'dogubayazit': 0, 'eleskirt': 0, 'hamur': 0, 'merkez': 0, 'patnos': 0, 'taslicay': 0, 'tutak': 0}, 'aksaray': {'agacoren': 0, 'eskil': 0, 'gulagac': 0, 'guzelyurt': 0, 'merkez': 0, 'ortakoy': 0, 'sariyahsi': 0, 'sultanhani': 0}, 'amasya': {'goynucek': 0, 'gumushacikoy': 0, 'hamamozu': 0, 'merkez': 0, 'merzifon': 0, 'suluova': 0, 'tasova': 0}, 'ankara': {'akyurt': 0, 'altindag': 0, 'ayas': 0, 'bala': 0, 'beypazari': 0, 'camlidere': 0, 'cankaya': 0, 'cubuk': 0, 'elmadag': 0, 'etimesgut': 0, 'evren': 0, 'golbasi': 0, 'gudul': 0, 'haymana': 0, 'kahramankazan': 0, 'kalecik': 0, 'kecioren': 0, 'kizilcahamam': 0, 'mamak': 0, 'nallihan': 0, 'polatli': 0, 'pursaklar': 0, 'sincan': 0, 'sereflikochisar': 0, 'yenimahalle': 0}, 'antalya': {'akseki': 0, 'aksu': 0, 'alanya': 0, 'demre': 0, 'dosemealti': 0, 'elmali': 0, 'finike': 0, 'gazipasa': 0, 'gundogmus': 0, 'ibradi': 0, 'kas': 0, 'kemer': 0, 'kepez': 0, 'konyaalti': 0, 'korkuteli': 0, 'kumluca': 0, 'manavgat': 0, 'muratpasa': 0, 'serik': 0}, 'ardahan': {'cildir': 0, 'damal': 0, 'gole': 0, 'hanak': 0, 'merkez': 0, 'posof': 0}, 'artvin': {'ardanuc': 0, 'arhavi': 0, 'borcka': 0, 'hopa': 0, 'kemalpasa': 0, 'merkez': 0, 'murgul': 0, 'savsat': 0, 'yusufeli': 0}, 'aydin': {'bozdogan': 0, 'buharkent': 0, 'cine': 0, 'didim': 0, 'efeler': 0, 'germencik': 0, 'incirliova': 0, 'karacasu': 0, 'karpuzlu': 0, 'kocarli': 0, 'kosk': 0, 'kusadasi': 0, 'kuyucak': 0, 'nazilli': 0, 'soke': 0, 'sultanhisar': 0, 'yenipazar': 0}, 'balikesir': {'altieylul': 0, 'ayvalik': 0, 'balya': 0, 'bandirma': 0, 'bigadic': 0, 'burhaniye': 0, 'dursunbey': 0, 'edremit': 0, 'erdek': 0, 'gomec': 0, 'gonen': 0, 'havran': 0, 'ivrindi': 0, 'karesi': 0, 'kepsut': 0, 'manyas': 0, 'marmara': 0, 'savastepe': 0, 'sindirgi': 0, 'susurluk': 0}, 'bartin': {'amasra': 0, 'kurucasile': 0, 'merkez': 0, 'ulus': 0}, 'batman': {'besiri': 0, 'gercus': 0, 'hasankeyf': 0, 'kozluk': 0, 'merkez': 0, 'sason': 0}, 'bayburt': {'aydintepe': 0, 'demirozu': 0, 'merkez': 0}, 'bilecik': {'bozuyuk': 0, 'golpazari': 0, 'inhisar': 0, 'merkez': 0, 'osmaneli': 0, 'pazaryeri': 0, 'sogut': 0, 'yenipazar': 0}, 'bingol': {'adakli': 0, 'genc': 0, 'karliova': 0, 'kigi': 0, 'merkez': 0, 'solhan': 0, 'yayladere': 0, 'yedisu': 0}, 'bitlis': {'adilcevaz': 0, 'ahlat': 0, 'guroymak': 0, 'hizan': 0, 'merkez': 0, 'mutki': 0, 'tatvan': 0}, 'bolu': {'dortdivan': 0, 'gerede': 0, 'goynuk': 0, 'kibriscik': 0, 'mengen': 0, 'merkez': 0, 'mudurnu': 0, 'seben': 0, 'yenicaga': 0}, 'burdur': {'aglasun': 0, 'altinyayla': 0, 'bucak': 0, 'cavdir': 0, 'celtikci': 0, 'golhisar': 0, 'karamanli': 0, 'kemer': 0, 'merkez': 0, 'tefenni': 0, 'yesilova': 0}, 'bursa': {'buyukorhan': 0, 'gemlik': 0, 'gursu': 0, 'harmancik': 0, 'inegol': 0, 'iznik': 0, 'karacabey': 0, 'keles': 0, 'kestel': 0, 'mudanya': 0, 'mustafakemalpasa': 0, 'nilufer': 0, 'orhaneli': 0, 'orhangazi': 0, 'osmangazi': 0, 'yenisehir': 0, 'yildirim': 0}, 'canakkale': {'ayvacik': 0, 'bayramic': 0, 'biga': 0, 'bozcaada': 0, 'can': 0, 'eceabat': 0, 'ezine': 0, 'gelibolu': 0, 'gokceada': 0, 'lapseki': 0, 'merkez': 0, 'yenice': 0}, 'cankiri': {'atkaracalar': 0, 'bayramoren': 0, 'cerkes': 0, 'eldivan': 0, 'ilgaz': 0, 'kizilirmak': 0, 'korgun': 0, 'kursunlu': 0, 'merkez': 0, 'orta': 0, 'sabanozu': 0, 'yaprakli': 0}, 'corum': {'alaca': 0, 'bayat': 0, 'bogazkale': 0, 'dodurga': 0, 'iskilip': 0, 'kargi': 0, 'lacin': 0, 'mecitozu': 0, 'merkez': 0, 'oguzlar': 0, 'ortakoy': 0, 'osmancik': 0, 'sungurlu': 0, 'ugurludag': 0}, 'denizli': {'acipayam': 0, 'babadag': 0, 'baklan': 0, 'bekilli': 0, 'beyagac': 0, 'bozkurt': 0, 'buldan': 0, 'cal': 0, 'cameli': 0, 'cardak': 0, 'civril': 0, 'guney': 0, 'honaz': 0, 'kale': 0, 'merkezefendi': 0, 'pamukkale': 0, 'saraykoy': 0, 'serinhisar': 0, 'tavas': 0}, 'diyarbakir': {'baglar': 0, 'bismil': 0, 'cermik': 0, 'cinar': 0, 'cungus': 0, 'dicle': 0, 'egil': 0, 'ergani': 0, 'hani': 0, 'hazro': 0, 'kayapinar': 0, 'kocakoy': 0, 'kulp': 0, 'lice': 0, 'silvan': 0, 'sur': 0, 'yenisehir': 0}, 'duzce': {'akcakoca': 0, 'cumayeri': 0, 'cilimli': 0, 'golyaka': 0, 'gumusova': 0, 'kaynasli': 0, 'merkez': 0, 'yigilca': 0}, 'edirne': {'enez': 0, 'havsa': 0, 'ipsala': 0, 'kesan': 0, 'lalapasa': 0, 'meric': 0, 'merkez': 0, 'suloglu': 0, 'uzunkopru': 0}, 'elazig': {'agin': 0, 'alacakaya': 0, 'aricak': 0, 'baskil': 0, 'karakocan': 0, 'keban': 0, 'kovancilar': 0, 'maden': 0, 'merkez': 0, 'palu': 0, 'sivrice': 0}, 'erzincan': {'cayirli': 0, 'ilic': 0, 'kemah': 0, 'kemaliye': 0, 'merkez': 0, 'otlukbeli': 0, 'refahiye': 0, 'tercan': 0, 'uzumlu': 0}, 'erzurum': {'askale': 0, 'aziziye': 0, 'cat': 0, 'hinis': 0, 'horasan': 0, 'ispir': 0, 'karacoban': 0, 'karayazi': 0, 'koprukoy': 0, 'narman': 0, 'oltu': 0, 'olur': 0, 'palandoken': 0, 'pasinler': 0, 'pazaryolu': 0, 'senkaya': 0, 'tekman': 0, 'tortum': 0, 'uzundere': 0, 'yakutiye': 0}, 'eskisehir': {'alpu': 0, 'beylikova': 0, 'cifteler': 0, 'gunyuzu': 0, 'han': 0, 'inonu': 0, 'mahmudiye': 0, 'mihalgazi': 0, 'mihaliccik': 0, 'odunpazari': 0, 'saricakaya': 0, 'seyitgazi': 0, 'sivrihisar': 0, 'tepebasi': 0}, 'gaziantep': {'araban': 0, 'islahiye': 0, 'karkamis': 0, 'nizip': 0, 'nurdagi': 0, 'oguzeli': 0, 'sahinbey': 0, 'sehitkamil': 0, 'yavuzeli': 0}, 'giresun': {'alucra': 0, 'bulancak': 0, 'camoluk': 0, 'canakci': 0, 'dereli': 0, 'dogankent': 0, 'espiye': 0, 'eynesil': 0, 'gorele': 0, 'guce': 0, 'kesap': 0, 'merkez': 0, 'piraziz': 0, 'sebinkarahisar': 0, 'tirebolu': 0, 'yaglidere': 0}, 'gumushane': {'kelkit': 0, 'kose': 0, 'kurtun': 0, 'merkez': 0, 'siran': 0, 'torul': 0}, 'hakkari': {'cukurca': 0, 'derecik': 0, 'merkez': 0, 'semdinli': 0, 'yuksekova': 0}, 'hatay': {'altinozu': 0, 'antakya': 0, 'arsuz': 0, 'belen': 0, 'defne': 0, 'dortyol': 0, 'erzin': 0, 'hassa': 0, 'iskenderun': 0, 'kirikhan': 0, 'kumlu': 0, 'payas': 0, 'reyhanli': 0, 'samandag': 0, 'yayladagi': 0}, 'igdir': {'aralik': 0, 'karakoyunlu': 0, 'merkez': 0, 'tuzluca': 0}, 'isparta': {'aksu': 0, 'atabey': 0, 'egirdir': 0, 'gelendost': 0, 'gonen': 0, 'keciborlu': 0, 'merkez': 0, 'senirkent': 0, 'sutculer': 0, 'sarkikaraagac': 0, 'uluborlu': 0, 'yalvac': 0, 'yenisarbademli': 0}, 'istanbul': {'adalar': 0, 'arnavutkoy': 0, 'atasehir': 0, 'avcilar': 0, 'bagcilar': 0, 'bahcelievler': 0, 'bakirkoy': 0, 'basaksehir': 0, 'bayrampasa': 0, 'besiktas': 0, 'beykoz': 0, 'beylikduzu': 0, 'beyoglu': 0, 'buyukcekmece': 0, 'catalca': 0, 'cekmekoy': 0, 'esenler': 0, 'esenyurt': 0, 'eyupsultan': 0, 'fatih': 0, 'gaziosmanpasa': 0, 'gungoren': 0, 'kadikoy': 0, 'kagithane': 0, 'kartal': 0, 'kucukcekmece': 0, 'maltepe': 0, 'pendik': 0, 'sancaktepe': 0, 'sariyer': 0, 'silivri': 0, 'sultanbeyli': 0, 'sultangazi': 0, 'sile': 0, 'sisli': 0, 'tuzla': 0, 'umraniye': 0, 'uskudar': 0, 'zeytinburnu': 0}, 'izmir': {'aliaga': 0, 'balcova': 0, 'bayindir': 0, 'bayrakli': 0, 'bergama': 0, 'beydag': 0, 'bornova': 0, 'buca': 0, 'cesme': 0, 'cigli': 0, 'dikili': 0, 'foca': 0, 'gaziemir': 0, 'guzelbahce': 0, 'karabaglar': 0, 'karaburun': 0, 'karsiyaka': 0, 'kemalpasa': 0, 'kinik': 0, 'kiraz': 0, 'konak': 0, 'menderes': 0, 'menemen': 0, 'narlidere': 0, 'odemis': 0, 'seferihisar': 0, 'selcuk': 0, 'tire': 0, 'torbali': 0, 'urla': 0}, 'kahramanmaras': {'afsin': 0, 'andirin': 0, 'caglayancerit': 0, 'dulkadiroglu': 0, 'ekinozu': 0, 'elbistan': 0, 'goksun': 0, 'nurhak': 0, 'onikisubat': 0, 'pazarcik': 0, 'turkoglu': 0}, 'karabuk': {'eflani': 0, 'eskipazar': 0, 'merkez': 0, 'ovacik': 0, 'safranbolu': 0, 'yenice': 0}, 'karaman': {'ayranci': 0, 'basyayla': 0, 'ermenek': 0, 'kazimkarabekir': 0, 'merkez': 0, 'sariveliler': 0}, 'kars': {'akyaka': 0, 'arpacay': 0, 'digor': 0, 'kagizman': 0, 'merkez': 0, 'sarikamis': 0, 'selim': 0, 'susuz': 0}, 'kastamonu': {'abana': 0, 'agli': 0, 'arac': 0, 'azdavay': 0, 'bozkurt': 0, 'cide': 0, 'catalzeytin': 0, 'daday': 0, 'devrekani': 0, 'doganyurt': 0, 'hanonu': 0, 'ihsangazi': 0, 'inebolu': 0, 'kure': 0, 'merkez': 0, 'pinarbasi': 0, 'seydiler': 0, 'senpazar': 0, 'taskopru': 0, 'tosya': 0}, 'kayseri': {'akkisla': 0, 'bunyan': 0, 'develi': 0, 'felahiye': 0, 'hacilar': 0, 'incesu': 0, 'kocasinan': 0, 'melikgazi': 0, 'ozvatan': 0, 'pinarbasi': 0, 'sarioglan': 0, 'sariz': 0, 'talas': 0, 'tomarza': 0, 'yahyali': 0, 'yesilhisar': 0}, 'kirikkale': {'bahsili': 0, 'baliseyh': 0, 'celebi': 0, 'delice': 0, 'karakecili': 0, 'keskin': 0, 'merkez': 0, 'sulakyurt': 0, 'yahsihan': 0}, 'kirklareli': {'babaeski': 0, 'demirkoy': 0, 'kofcaz': 0, 'luleburgaz': 0, 'merkez': 0, 'pehlivankoy': 0, 'pinarhisar': 0, 'vize': 0}, 'kirsehir': {'akcakent': 0, 'akpinar': 0, 'boztepe': 0, 'cicekdagi': 0, 'kaman': 0, 'merkez': 0, 'mucur': 0}, 'kilis': {'elbeyli': 0, 'merkez': 0, 'musabeyli': 0, 'polateli': 0}, 'kocaeli': {'basiskele': 0, 'cayirova': 0, 'darica': 0, 'derince': 0, 'dilovasi': 0, 'gebze': 0, 'golcuk': 0, 'izmit': 0, 'kandira': 0, 'karamursel': 0, 'kartepe': 0, 'korfez': 0}, 'konya': {'ahirli': 0, 'akoren': 0, 'aksehir': 0, 'altinekin': 0, 'beysehir': 0, 'bozkir': 0, 'cihanbeyli': 0, 'celtik': 0, 'cumra': 0, 'derbent': 0, 'derebucak': 0, 'doganhisar': 0, 'emirgazi': 0, 'eregli': 0, 'guneysinir': 0, 'hadim': 0, 'halkapinar': 0, 'huyuk': 0, 'ilgin': 0, 'kadinhani': 0, 'karapinar': 0, 'karatay': 0, 'kulu': 0, 'meram': 0, 'sarayonu': 0, 'selcuklu': 0, 'seydisehir': 0, 'taskent': 0, 'tuzlukcu': 0, 'yalihuyuk': 0, 'yunak': 0}, 'kutahya': {'altintas': 0, 'aslanapa': 0, 'cavdarhisar': 0, 'domanic': 0, 'dumlupinar': 0, 'emet': 0, 'gediz': 0, 'hisarcik': 0, 'merkez': 0, 'pazarlar': 0, 'simav': 0, 'saphane': 0, 'tavsanli': 0}, 'malatya': {'akcadag': 0, 'arapgir': 0, 'arguvan': 0, 'battalgazi': 0, 'darende': 0, 'dogansehir': 0, 'doganyol': 0, 'hekimhan': 0, 'kale': 0, 'kuluncak': 0, 'puturge': 0, 'yazihan': 0, 'yesilyurt': 0}, 'manisa': {'ahmetli': 0, 'akhisar': 0, 'alasehir': 0, 'demirci': 0, 'golmarmara': 0, 'gordes': 0, 'kirkagac': 0, 'koprubasi': 0, 'kula': 0, 'salihli': 0, 'sarigol': 0, 'saruhanli': 0, 'selendi': 0, 'soma': 0, 'sehzadeler': 0, 'turgutlu': 0, 'yunusemre': 0}, 'mardin': {'artuklu': 0, 'dargecit': 0, 'derik': 0, 'kiziltepe': 0, 'mazidagi': 0, 'midyat': 0, 'nusaybin': 0, 'omerli': 0, 'savur': 0, 'yesilli': 0}, 'mersin': {'akdeniz': 0, 'anamur': 0, 'aydincik': 0, 'bozyazi': 0, 'camliyayla': 0, 'erdemli': 0, 'gulnar': 0, 'mezitli': 0, 'mut': 0, 'silifke': 0, 'tarsus': 0, 'toroslar': 0, 'yenisehir': 0}, 'mugla': {'bodrum': 0, 'dalaman': 0, 'datca': 0, 'fethiye': 0, 'kavaklidere': 0, 'koycegiz': 0, 'marmaris': 0, 'mentese': 0, 'milas': 0, 'ortaca': 0, 'seydikemer': 0, 'ula': 0, 'yatagan': 0}, 'mus': {'bulanik': 0, 'haskoy': 0, 'korkut': 0, 'malazgirt': 0, 'merkez': 0, 'varto': 0}, 'nevsehir': {'acigol': 0, 'avanos': 0, 'derinkuyu': 0, 'gulsehir': 0, 'hacibektas': 0, 'kozakli': 0, 'merkez': 0, 'urgup': 0}, 'nigde': {'altunhisar': 0, 'bor': 0, 'camardi': 0, 'ciftlik': 0, 'merkez': 0, 'ulukisla': 0}, 'ordu': {'akkus': 0, 'altinordu': 0, 'aybasti': 0, 'camas': 0, 'catalpinar': 0, 'caybasi': 0, 'fatsa': 0, 'golkoy': 0, 'gulyali': 0, 'gurgentepe': 0, 'ikizce': 0, 'kabaduz': 0, 'kabatas': 0, 'korgan': 0, 'kumru': 0, 'mesudiye': 0, 'persembe': 0, 'ulubey': 0, 'unye': 0}, 'osmaniye': {'bahce': 0, 'duzici': 0, 'hasanbeyli': 0, 'kadirli': 0, 'merkez': 0, 'sumbas': 0, 'toprakkale': 0}, 'rize': {'ardesen': 0, 'camlihemsin': 0, 'cayeli': 0, 'derepazari': 0, 'findikli': 0, 'guneysu': 0, 'hemsin': 0, 'ikizdere': 0, 'iyidere': 0, 'kalkandere': 0, 'merkez': 0, 'pazar': 0}, 'sakarya': {'adapazari': 0, 'akyazi': 0, 'arifiye': 0, 'erenler': 0, 'ferizli': 0, 'geyve': 0, 'hendek': 0, 'karapurcek': 0, 'karasu': 0, 'kaynarca': 0, 'kocaali': 0, 'pamukova': 0, 'sapanca': 0, 'serdivan': 0, 'sogutlu': 0, 'tarakli': 0}, 'samsun': {'19 mayis': 0, 'alacam': 0, 'asarcik': 0, 'atakum': 0, 'ayvacik': 0, 'bafra': 0, 'canik': 0, 'carsamba': 0, 'havza': 0, 'ilkadim': 0, 'kavak': 0, 'ladik': 0, 'salipazari': 0, 'tekkekoy': 0, 'terme': 0, 'vezirkopru': 0, 'yakakent': 0}, 'siirt': {'baykan': 0, 'eruh': 0, 'kurtalan': 0, 'merkez': 0, 'pervari': 0, 'sirvan': 0, 'tillo': 0}, 'sinop': {'ayancik': 0, 'boyabat': 0, 'dikmen': 0, 'duragan': 0, 'erfelek': 0, 'gerze': 0, 'merkez': 0, 'sarayduzu': 0, 'turkeli': 0}, 'sivas': {'akincilar': 0, 'altinyayla': 0, 'divrigi': 0, 'dogansar': 0, 'gemerek': 0, 'golova': 0, 'gurun': 0, 'hafik': 0, 'imranli': 0, 'kangal': 0, 'koyulhisar': 0, 'merkez': 0, 'susehri': 0, 'sarkisla': 0, 'ulas': 0, 'yildizeli': 0, 'zara': 0}, 'sanliurfa': {'akcakale': 0, 'birecik': 0, 'bozova': 0, 'ceylanpinar': 0, 'eyyubiye': 0, 'halfeti': 0, 'haliliye': 0, 'harran': 0, 'hilvan': 0, 'karakopru': 0, 'siverek': 0, 'suruc': 0, 'viransehir': 0}, 'sirnak': {'beytussebap': 0, 'cizre': 0, 'guclukonak': 0, 'idil': 0, 'merkez': 0, 'silopi': 0, 'uludere': 0}, 'tekirdag': {'cerkezkoy': 0, 'corlu': 0, 'ergene': 0, 'hayrabolu': 0, 'kapakli': 0, 'malkara': 0, 'marmaraereglisi': 0, 'muratli': 0, 'saray': 0, 'suleymanpasa': 0, 'sarkoy': 0}, 'tokat': {'almus': 0, 'artova': 0, 'basciftlik': 0, 'erbaa': 0, 'merkez': 0, 'niksar': 0, 'pazar': 0, 'resadiye': 0, 'sulusaray': 0, 'turhal': 0, 'yesilyurt': 0, 'zile': 0}, 'trabzon': {'akcaabat': 0, 'arakli': 0, 'arsin': 0, 'besikduzu': 0, 'carsibasi': 0, 'caykara': 0, 'dernekpazari': 0, 'duzkoy': 0, 'hayrat': 0, 'koprubasi': 0, 'macka': 0, 'of': 0, 'ortahisar': 0, 'surmene': 0, 'salpazari': 0, 'tonya': 0, 'vakfikebir': 0, 'yomra': 0}, 'tunceli': {'cemisgezek': 0, 'hozat': 0, 'mazgirt': 0, 'merkez': 0, 'nazimiye': 0, 'ovacik': 0, 'pertek': 0, 'pulumur': 0}, 'usak': {'banaz': 0, 'esme': 0, 'karahalli': 0, 'merkez': 0, 'sivasli': 0, 'ulubey': 0}, 'van': {'bahcesaray': 0, 'baskale': 0, 'caldiran': 0, 'catak': 0, 'edremit': 0, 'ercis': 0, 'gevas': 0, 'gurpinar': 0, 'ipekyolu': 0, 'muradiye': 0, 'ozalp': 0, 'saray': 0, 'tusba': 0}, 'yalova': {'altinova': 0, 'armutlu': 0, 'cinarcik': 0, 'ciftlikkoy': 0, 'merkez': 0, 'termal': 0}, 'yozgat': {'akdagmadeni': 0, 'aydincik': 0, 'bogazliyan': 0, 'candir': 0, 'cayiralan': 0, 'cekerek': 0, 'kadisehri': 0, 'merkez': 0, 'saraykent': 0, 'sarikaya': 0, 'sorgun': 0, 'sefaatli': 0, 'yenifakili': 0, 'yerkoy': 0}, 'zonguldak': {'alapli': 0, 'caycuma': 0, 'devrek': 0, 'eregli': 0, 'gokcebey': 0, 'kilimli': 0, 'kozlu': 0, 'merkez': 0}}\n",
      "{'adana': {'aladag': 0, 'madenli': 0, 'buyukmangit': 0, 'ceyhan': 0, 'mustafabeyli': 0, 'huzurevleri': 0, 'mahfesigmaz': 0, 'salbas': 0, 'akkaya': 0, 'feke': 0, 'imamoglu': 0, 'saygecit': 0, 'karaisali': 0, 'karatas': 0, 'hacibeyli': 0, 'kahveli': 0, 'kozan': 0, 'akcatekir': 0, 'gokbez': 0, 'pozanti': 0, 'saimbeyli': 0, 'baklali': 0, 'buruk': 0, 'incirlik': 0, 'osmangazi': 0, 'remzioguzarik': 0, 'akkapi': 0, 'denizli': 0, 'emek': 0, 'fevzipasa': 0, 'gazipasa': 0, 'gulbahcesi': 0, 'gurselpasa': 0, 'hadirli': 0, 'hukumet': 0, 'karayusuflu': 0, 'kurukopru': 0, 'kucukdikili': 0, 'mavi bulvar yurt': 0, 'meydan': 0, 'saydam': 0, 'sakirpasa': 0, 'yagcami': 0, 'yesilevler': 0, 'yesiloba': 0, 'yesilyurt': 0, 'ziyapasa': 0, 'damlali': 0, 'tufanbeyli': 0, 'kalemli': 0, 'yumurtalik': 0, 'abdioglu': 0, 'alihocali': 0, 'bahcelievler': 0, 'dogankent': 0, 'havutlu': 0, 'karacaoglan': 0, 'karsiyaka': 0, 'kazimkarabekir': 0, 'keresteciler': 0, 'pttevleri': 0, 'yakapinar': 0, 'yamacli': 0, 'yavuzlar': 0}, 'adiyaman': {'besni': 0, 'cakirhuyuk': 0, 'kesmetepe': 0, 'koseceli': 0, 'merkezkoyler': 0, 'suvarli': 0, 'sambayat': 0, 'celikhan': 0, 'pinarbasi': 0, 'gerger': 0, 'balkar': 0, 'beloren': 0, 'golbasi': 0, 'harmanli': 0, 'akincilar': 0, 'bolukyayla': 0, 'kahta': 0, 'eskisaray': 0, 'imamaga': 0, 'komur': 0, 'merkez koyler': 0, 'sumerevler': 0, 'yaylakonak': 0, 'yenisanayi': 0, 'samsat': 0, 'inlice': 0, 'sincik': 0, 'tut': 0}, 'afyonkarahisar': {'basmakci': 0, 'merkezkoyler': 0, 'bayat': 0, 'bolvadin': 0, 'disli': 0, 'ozburun': 0, 'cay': 0, 'karamikkaracaoren': 0, 'pazaragac': 0, 'cobanlar': 0, 'kocaoz': 0, 'dazkiri': 0, 'dinar': 0, 'haydarli': 0, 'tatarli': 0, 'davulga': 0, 'emirdag': 0, 'gomu': 0, 'evciler': 0, 'hocalar': 0, 'doger': 0, 'gazligol': 0, 'ihsaniye': 0, 'kayihan': 0, 'yaylabagi': 0, 'iscehisar': 0, 'seydiler': 0, 'kiziloren': 0, 'adliye': 0, 'beyyazi': 0, 'carsi': 0, 'cayirbag': 0, 'cikrik': 0, 'degirmenayvali': 0, 'erkmen': 0, 'fatih': 0, 'fethibey': 0, 'gebeceler': 0, 'isiklar': 0, 'kale': 0, 'kocatepe': 0, 'nuribey': 0, 'salar': 0, 'susuz': 0, 'sulumenli': 0, 'sulun': 0, 'uydukent': 0, 'akharim': 0, 'sandikli': 0, 'ahmetpasa': 0, 'akoren': 0, 'duzagac': 0, 'guney': 0, 'kilicarslan': 0, 'kirka': 0, 'kucukhuyuk': 0, 'serban': 0, 'sinanpasa': 0, 'tasoluk': 0, 'tinaztepe': 0, 'derecine': 0, 'sultandagi': 0, 'yesilciftlik': 0, 'karaadilli': 0, 'suhut': 0}, 'agri': {'diyadin': 0, 'merkezkoyler': 0, 'dogubayazit': 0, 'eleskirt': 0, 'tahir': 0, 'yayladuzu': 0, 'yucekapi': 0, 'hamur': 0, 'fevzicakmak': 0, 'kazimkarabekir': 0, 'dedeli': 0, 'patnos': 0, 'sarisu': 0, 'taslicay': 0, 'tutak': 0}, 'aksaray': {'agacoren': 0, 'merkezkoyler': 0, 'eskil': 0, 'esmekaya': 0, 'demirci': 0, 'gulagac': 0, 'gulpinar': 0, 'saratli': 0, 'guzelyurt': 0, 'ihlara': 0, 'selime': 0, 'baglikaya': 0, 'carsi': 0, 'helvadere': 0, 'saglik': 0, 'sanayi': 0, 'taspinar': 0, 'topakkaya': 0, 'yenikent': 0, 'yesilova': 0, 'yesiltepe': 0, 'balci': 0, 'ortakoy': 0, 'sariyahsi': 0, 'sultanhani': 0}, 'amasya': {'goynucek': 0, 'merkezkoyler': 0, 'gumushacikoy': 0, 'hamamozu': 0, 'dereboyu': 0, 'gen.hikmetakinci': 0, 'gokmedrese': 0, 'ziyaret': 0, 'merzifon': 0, 'suluova': 0, 'tasova': 0}, 'ankara': {'akyurt': 0, 'altindag': 0, 'aydinlikevler': 0, 'haskoy': 0, 'iskitler': 0, 'karacaoren': 0, 'samanpazari': 0, 'ulubey': 0, 'ulus': 0, 'ayas': 0, 'bala': 0, 'beypazari': 0, 'camlidere': 0, '100.yil': 0, 'ahlatlibel': 0, 'bahcelievler': 0, 'balgat': 0, 'bilkent': 0, 'birlik': 0, 'cebeci': 0, 'cankaya': 0, 'cayyolu': 0, 'dikmen': 0, 'esat': 0, 'karatas': 0, 'kavaklidere': 0, 'maltepe': 0, 'ovecler': 0, 'yenisehir': 0, 'yildiz': 0, 'zafertepe': 0, 'cubuk': 0, 'elmadag': 0, 'hasanoglan': 0, '30agustos': 0, 'bahcekapi': 0, 'elvankent': 0, 'eryamanevleri': 0, 'etimesgut': 0, 'goksu': 0, 'guzelkent': 0, 'yurtcu': 0, 'evren': 0, 'golbasi': 0, 'gudul': 0, 'haymana': 0, 'kazan': 0, 'kalecik': 0, 'aktepe': 0, 'baglum': 0, 'esertepe': 0, 'etlik': 0, 'haskoy s.evleri': 0, 'kalaba': 0, 'sanatoryum': 0, 'senlik': 0, 'ufuktepe': 0, 'kizilcahamam': 0, 'abidinpasa': 0, 'akdere': 0, 'demirlibahce': 0, 'gulveren': 0, 'huseyingazi': 0, 'kayas': 0, 'lalahan': 0, 'mamak': 0, 'nallihan': 0, 'polatli': 0, 'pursaklar': 0, 'ahievran': 0, 'fatih': 0, 'sincan': 0, 'temelli': 0, 'yenikent': 0, 'sereflikochisar': 0, 'a.o.ciftligi': 0, 'batikent': 0, 'demetevler': 0, 'ivedik osb': 0, 'karsiyaka': 0, 'macunkoy': 0, 'ostim': 0, 'sentepe': 0, 'yenimahalle': 0}, 'antalya': {'akseki': 0, 'cevizli': 0, 'aksu': 0, 'alanya': 0, 'avsallar': 0, 'demirtas': 0, 'kestel': 0, 'mahmutlar': 0, 'davazlar': 0, 'demre': 0, 'kale': 0, 'dosemealti': 0, 'akcay': 0, 'elmali': 0, 'finike': 0, 'gazipasa': 0, 'gundogmus': 0, 'aydinkent': 0, 'cemre': 0, 'gombe': 0, 'kalkan': 0, 'kas': 0, 'kinik': 0, 'ova': 0, 'yesilkoy': 0, 'beldibi': 0, 'beycik': 0, 'camyuva': 0, 'goynuk': 0, 'kemer': 0, 'tekirova': 0, 'ahatli': 0, 'altinova': 0, 'dokuma': 0, 'duraliler': 0, 'dudenbasi': 0, 'erenkoy': 0, 'sutculer': 0, 'varsak': 0, 'yeniemek': 0, 'arapsuyu': 0, 'liman': 0, 'korkuteli': 0, 'kumluca': 0, 'mavikent': 0, 'colakli': 0, 'manavgat': 0, 'side': 0, 'tasagil': 0, 'bahcelievler': 0, 'carsi': 0, 'eskisanayi': 0, 'fener': 0, 'genclik': 0, 'kiziltoprak': 0, 'lara': 0, 'meltem': 0, 'meydankavagi': 0, 'serik': 0}, 'ardahan': {'cildir': 0, 'merkezkoyler': 0, 'damal': 0, 'gole': 0, 'koprulu': 0, 'hanak': 0, 'ardahan': 0, 'haskoy': 0, 'yanlizcam': 0, 'posof': 0}, 'artvin': {'ardanuc': 0, 'merkezkoyler': 0, 'arhavi': 0, 'borcka': 0, 'hopa': 0, 'kemalpasa': 0, 'artvin': 0, 'goktas': 0, 'savsat': 0, 'yusufeli': 0}, 'aydin': {'bozdogan': 0, 'cubukdagi': 0, 'cine': 0, 'akyenikoy': 0, 'yenihisar': 0, 'carsi': 0, 'kurtulus': 0, 'sanayi': 0, 'umurlu': 0, 'germencik': 0, 'ortaklar': 0, 'incirliova': 0, 'karacasu': 0, 'karpuzlu': 0, 'kocarli': 0, 'kosk': 0, 'kusadasi': 0, 'kuyucak': 0, 'nazilli': 0, 'sumer': 0, 'soke': 0, 'sultanhisar': 0, 'yenipazar': 0}, 'balikesir': {'altieylul': 0, 'ertugrul': 0, 'gundogan': 0, 'konakpinar': 0, 'pamukcu': 0, 'plevne': 0, 'alibeyadasi': 0, 'altinova': 0, 'ayvalik': 0, 'kucukkoy': 0, 'balya': 0, 'patlak': 0, 'aksakal': 0, 'bandirma': 0, 'dogruca': 0, 'edincik': 0, 'bigadic': 0, 'cagis': 0, 'salmanli': 0, 'burhaniye': 0, 'coruk': 0, 'pelitkoy': 0, 'dursunbey': 0, 'hacilar': 0, 'akcay': 0, 'altinoluk': 0, 'edremit': 0, 'belkis': 0, 'erdek': 0, 'dursunlu': 0, 'gomec': 0, 'karaagac': 0, 'gonen': 0, 'hasanbey': 0, 'sarikoy': 0, 'havran': 0, 'temasalik': 0, 'buyukyenice': 0, 'gokceyazi': 0, 'ivrindi': 0, 'kayapa': 0, 'korucu': 0, 'sarica': 0, 'ataturk': 0, 'karesi': 0, 'sakarya': 0, 'samli': 0, 'kepsut': 0, 'servet': 0, 'kayaca': 0, 'manyas': 0, 'avsa': 0, 'marmara': 0, 'karacam': 0, 'saribeyler': 0, 'savastepe': 0, 'mandira': 0, 'sindirgi': 0, 'gobel': 0, 'kayikci': 0, 'susurluk': 0}, 'bartin': {'amasra': 0, 'merkezkoyler': 0, 'kurucasile': 0, 'demirciler': 0, 'hasankadi': 0, 'kozcagiz': 0, 'yenisanayi': 0, 'abdipasa': 0, 'kumluca': 0, 'ulus': 0}, 'batman': {'besiri': 0, 'ikikopru': 0, 'merkezkoyler': 0, 'gercus': 0, 'kayapinar': 0, 'hasankeyf': 0, 'bekirhan': 0, 'kozluk': 0, 'balpinar': 0, 'carsi': 0, 'gap': 0, 'kultur': 0, 'petrol': 0, 'sason': 0, 'yucebag': 0}, 'bayburt': {'aydintepe': 0, 'merkezkoyler': 0, 'demirozu': 0, 'gokcedere': 0, 'arpali': 0, 'bayburt': 0, 'maden': 0}, 'bilecik': {'bozuyuk': 0, 'dodurga': 0, 'merkezkoyler': 0, 'golpazari': 0, 'inhisar': 0, 'bayirkoy': 0, 'bilecik': 0, 'vezirhan': 0, 'osmaneli': 0, 'pazaryeri': 0, 'sogut': 0, 'yenipazar': 0}, 'bingol': {'adakli': 0, 'merkezkoyler': 0, 'genc': 0, 'karliova': 0, 'kigi': 0, 'agaceli': 0, 'bingol': 0, 'ilicalar': 0, 'sancak': 0, 'arakonak': 0, 'solhan': 0, 'yayladere': 0, 'yedisu': 0}, 'bitlis': {'adilcevaz': 0, 'aydinlar': 0, 'merkezkoyler': 0, 'ahlat': 0, 'ovakisla': 0, 'golbasi': 0, 'gunkiri': 0, 'guroymak': 0, 'hizan': 0, 'bitlis': 0, 'bolukyazi': 0, 'yolalan': 0, 'geyikpinar': 0, 'kavakbasi': 0, 'meydan': 0, 'mutki': 0, 'tatvan': 0, 'yelkenli': 0}, 'bolu': {'dortdivan': 0, 'merkezkoyler': 0, 'gerede': 0, 'goynuk': 0, 'kibriscik': 0, 'gokcesu': 0, 'mengen': 0, 'asagisoku': 0, 'ihsaniye': 0, 'karacasu': 0, 'karamanli': 0, 'mudurnu': 0, 'taskesti': 0, 'seben': 0, 'yenicaga': 0}, 'burdur': {'aglasun': 0, 'merkezkoyler': 0, 'dirmil': 0, 'bucak': 0, 'kizilkaya': 0, 'kocaaliler': 0, 'cavdir': 0, 'sogut': 0, 'celtikci': 0, 'golhisar': 0, 'yusufca': 0, 'karamanli': 0, 'kemer': 0, 'bahcelievler': 0, 'cesmedami': 0, 'sanayi': 0, 'yenice': 0, 'tefenni': 0, 'yesilova': 0}, 'bursa': {'buyukorhan': 0, 'gemlik': 0, 'gursu': 0, 'harmancik': 0, 'inegol': 0, 'iznik': 0, 'karacabey': 0, 'keles': 0, 'kestel': 0, 'mudanya': 0, 'mustafakemalpasa': 0, 'alaattinbey': 0, 'altinsehir': 0, 'ataevler': 0, 'balat': 0, 'besevler': 0, 'cali': 0, 'ertugrul': 0, 'gorukle': 0, 'hasanaga': 0, 'ihsaniye': 0, 'izmiryolboyu': 0, 'konak': 0, 'niluferkoy': 0, 'nosab': 0, 'organizesanayi': 0, 'ucevler': 0, 'orhaneli': 0, 'orhangazi': 0, 'alemdar': 0, 'altiparmak': 0, 'baglarbasi': 0, 'bahar': 0, 'balikli': 0, 'carsi': 0, 'cekirge': 0, 'demirtas': 0, 'dosab': 0, 'emek': 0, 'hamitler': 0, 'hisar': 0, 'hudavendigar': 0, 'hurriyet': 0, 'kuplupinar': 0, 'maksem': 0, 'osmangazikoy': 0, 'ovaakca': 0, 'panayir': 0, 'ulumahalle': 0, 'yunuseli': 0, 'yenisehir': 0, 'arabayatagi': 0, 'beyazit': 0, 'davutkadi': 0, 'duacinar': 0, 'esenevler': 0, 'ortabaglar': 0, 'setbasi': 0, 'yildirim': 0}, 'canakkale': {'ayvacik': 0, 'kucukkuyu': 0, 'merkezkoyler': 0, 'bayramic': 0, 'evciler': 0, 'yigitler': 0, 'biga': 0, 'gumuscay': 0, 'karabiga': 0, 'bozcaada': 0, 'can': 0, 'terzialan': 0, 'eceabat': 0, 'ezine': 0, 'geyikli': 0, 'evrese': 0, 'gelibolu': 0, 'kavakkoy': 0, 'imroz': 0, 'cardak': 0, 'lapseki': 0, 'umurbey': 0, 'barbaros': 0, 'cevatpasa': 0, 'kepez': 0, 'kalkim': 0, 'yenice': 0}, 'cankiri': {'atkaracalar': 0, 'cardakli': 0, 'merkezkoyler': 0, 'bayramoren': 0, 'cerkes': 0, 'sacak': 0, 'eldivan': 0, 'ilgaz': 0, 'kizilirmak': 0, 'korgun': 0, 'kursunlu': 0, 'carsi': 0, 'tasmescit': 0, 'orta': 0, 'yaylakent': 0, 'sabanozu': 0, 'yaprakli': 0}, 'corum': {'alaca': 0, 'merkezkoyler': 0, 'bayat': 0, 'bogazkale': 0, 'dodurga': 0, 'iskilip': 0, 'kargi': 0, 'lacin': 0, 'mecitozu': 0, 'duvenci': 0, 'gulabibey': 0, 'karakecili': 0, 'ulukavak': 0, 'yeniyol': 0, 'karaoren': 0, 'astavul': 0, 'ortakoy': 0, 'osmancik': 0, 'sungurlu': 0, 'ugurludag': 0}, 'denizli': {'acipayam': 0, 'babadag': 0, 'baklan': 0, 'bekilli': 0, 'beyagac': 0, 'bozkurt': 0, 'buldan': 0, 'cal': 0, 'cameli': 0, 'cardak': 0, 'civril': 0, 'guney': 0, 'honaz': 0, 'kale': 0, 'adalet': 0, 'gumusler': 0, 'saraylar': 0, 'sumer': 0, 'ucler': 0, 'uzerlik': 0, 'akkoy': 0, 'cesmebasi': 0, 'istiklal': 0, 'karsiyaka': 0, 'kinikli': 0, 'saraykoy': 0, 'serinhisar': 0, 'tavas': 0}, 'diyarbakir': {'alipinar': 0, 'korhat': 0, 'selahattineyyubi': 0, 'bismil': 0, 'cermik': 0, 'cinar': 0, 'cungus': 0, 'dicle': 0, 'egil': 0, 'ergani': 0, 'hani': 0, 'hazro': 0, 'kayapinar': 0, 'kocakoy': 0, 'kulp': 0, 'lice': 0, 'silvan': 0, 'balikcilarbasi': 0, 'surici': 0, 'cumhuriyet': 0, 'sehitlik': 0, 'yenisehir': 0}, 'duzce': {'akcakoca': 0, 'merkezkoyler': 0, 'cumayeri': 0, 'cilimli': 0, 'golyaka': 0, 'merkez koyler': 0, 'gumusova': 0, 'kaynasli': 0, 'bahcesehir': 0, 'beykoy': 0, 'bogazici': 0, 'cedidiye': 0, 'cay': 0, 'hamidiye': 0, 'kocyazi': 0, 'konuralp': 0, 'yigilca': 0}, 'edirne': {'enez': 0, 'merkezkoyler': 0, 'haskoy': 0, 'havsa': 0, 'esetce': 0, 'ipsala': 0, 'yenikarpuzlu': 0, 'begendik': 0, 'kesan': 0, 'mecidiye': 0, 'yenimuhacir': 0, 'yerlisu': 0, 'lalapasa': 0, 'kuplu': 0, 'meric': 0, 'subasi': 0, 'edirne': 0, 'suloglu': 0, 'ascioglu': 0, 'copkoy': 0, 'hamidiye': 0, 'kircasalih': 0, 'uzunkopru': 0}, 'elazig': {'agin': 0, 'merkezkoyler': 0, 'alacakaya': 0, 'aricak': 0, 'bukardi': 0, 'erimli': 0, 'ucocak': 0, 'baskil': 0, 'karakocan': 0, 'sarican': 0, 'keban': 0, 'kovancilar': 0, 'maden': 0, 'abdullahpasa': 0, 'akcakiraz': 0, 'aksaray': 0, 'dogukent': 0, 'hankendi': 0, 'harput': 0, 'izzetpasa': 0, 'mollakendi': 0, 'mustafapasa': 0, 'nailbey': 0, 'sursuru': 0, 'yazikonak': 0, 'yurtbasi': 0, 'beyhan': 0, 'palu': 0, 'sivrice': 0}, 'erzincan': {'cayirli': 0, 'merkezkoyler': 0, 'ilic': 0, 'kemah': 0, 'baspinar': 0, 'dutluca': 0, 'kemaliye': 0, 'aksemsettin': 0, 'bahcelievler': 0, 'caglayan': 0, 'mollakoy': 0, 'otlukbeli': 0, 'refahiye': 0, 'cadirkaya': 0, 'kargin': 0, 'mercan': 0, 'tercan': 0, 'altinbasak': 0, 'uzumlu': 0}, 'erzurum': {'askale': 0, 'ilica': 0, 'cat': 0, 'hinis': 0, 'horasan': 0, 'ispir': 0, 'karacoban': 0, 'karayazi': 0, 'koprukoy': 0, 'narman': 0, 'oltu': 0, 'olur': 0, 'palandoken': 0, 'yildizkent': 0, 'pasinler': 0, 'pazaryolu': 0, 'senkaya': 0, 'tekman': 0, 'tortum': 0, 'uzundere': 0, 'mumcu': 0, 'terminal': 0, 'yakutiye': 0}, 'eskisehir': {'alpu': 0, 'beylikova': 0, 'cifteler': 0, 'gunyuzu': 0, 'han': 0, 'inonu': 0, 'mahmudiye': 0, 'mihalgazi': 0, 'dinek': 0, 'alanonu': 0, 'arifiye': 0, 'buyukdere': 0, 'emek': 0, 'gokmeydan': 0, 'huzur': 0, 'kanlipinar': 0, 'kurtulus': 0, 'odunpazarikoy': 0, 'orhangazi': 0, 'sultandere': 0, 'sumer': 0, 'vadisehir': 0, 'visnelik': 0, 'yenikent': 0, 'saricakaya': 0, 'seyitgazi': 0, 'sivrihisar': 0, 'bahcelievler': 0, 'cumhuriye': 0, 'camlica': 0, 'cukurhisar': 0, 'fatih': 0, 'fevzicakmak': 0, 'hacialibey': 0, 'muttalip': 0, 'sazova': 0, 'tepebasikoy': 0, 'uluonder': 0, 'yesiltepe': 0}, 'gaziantep': {'araban': 0, 'islahiye': 0, 'karkamis': 0, 'nizip': 0, 'nurdagi': 0, 'oguzeli': 0, 'yesildere': 0, 'alaybey': 0, 'duztepe': 0, 'hosgor': 0, 'karatas': 0, 'konak': 0, 'perilikaya': 0, 'sahinbey': 0, 'tabakhane': 0, 'ciksorut': 0, 'emek': 0, 'gazikent': 0, 'ibrahimli': 0, 'incilipinar': 0, 'karsiyaka': 0, 'kusget': 0, 'merve': 0, 'organize': 0, 'sehitkamil': 0, 'yavuzeli': 0}, 'giresun': {'alucra': 0, 'merkezkoyler': 0, 'aydindere': 0, 'bulancak': 0, 'kovanlik': 0, 'camoluk': 0, 'canakci': 0, 'dereli': 0, 'yavuzkemal': 0, 'dogankent': 0, 'espiye': 0, 'sogukpinar': 0, 'eynesil': 0, 'oren': 0, 'cavuslu': 0, 'gorele': 0, 'guce': 0, 'kesap': 0, 'aksu': 0, 'batlama': 0, 'duroglu': 0, 'piraziz': 0, 'sebinkarahisar': 0, 'tirebolu': 0, 'uctepe': 0, 'yaglidere': 0}, 'gumushane': {'deredolu': 0, 'gumusgoze': 0, 'kelkit': 0, 'merkezkoyler': 0, 'obektas': 0, 'sogutlu': 0, 'unlupinar': 0, 'kose': 0, 'kurtun': 0, 'ozkurtun': 0, 'arzularkabakoy': 0, 'gumushane': 0, 'siran': 0, 'yesilbuk': 0, 'torul': 0}, 'hakkari': {'cigli': 0, 'cukurca': 0, 'merkezkoyler': 0, 'derecik': 0, 'durankaya': 0, 'hakkari': 0, 'semdinli': 0, 'buyukciftlik': 0, 'esendere': 0, 'yuksekova': 0}, 'hatay': {'altinozu': 0, 'esentepe': 0, 'haraparasi': 0, 'kanatli': 0, 'kislasaray': 0, 'arsuz': 0, 'karaagac': 0, 'belen': 0, 'defne': 0, 'dortyol': 0, 'erzin': 0, 'hassa': 0, 'azganlik': 0, 'cumhuriyet': 0, 'meydan': 0, 'sanayi': 0, 'tepeler': 0, 'kirikhan': 0, 'kumlu': 0, 'payas': 0, 'reyhanli': 0, 'samandag': 0, 'yayladagi': 0}, 'igdir': {'aralik': 0, 'merkezkoyler': 0, 'karakoyunlu': 0, 'halfeli': 0, 'hoshaber': 0, 'igdir': 0, 'melekli': 0, 'tuzluca': 0}, 'isparta': {'aksu': 0, 'merkezkoyler': 0, 'atabey': 0, 'egirdir': 0, 'sariidris': 0, 'gelendost': 0, 'gonen': 0, 'guneykent': 0, 'keciborlu': 0, 'senir': 0, 'celebiler': 0, 'kepeci': 0, 'kuleonu': 0, 'kutlubey': 0, 'sanayi': 0, 'sav': 0, 'buyukkabaca': 0, 'senirkent': 0, 'sutculer': 0, 'cariksaraylar': 0, 'cicekpinar': 0, 'sarkikaraagac': 0, 'uluborlu': 0, 'huyuklu': 0, 'yalvac': 0, 'yenisarbademli': 0}, 'istanbul': {'burgazada': 0, 'buyukada': 0, 'heybeliada': 0, 'kinaliada': 0, 'arnavutkoy': 0, 'baklali': 0, 'bogazkoy': 0, 'bolluca': 0, 'hadimkoy': 0, 'haracci': 0, 'tasoluk': 0, 'ataturk': 0, 'ferhatpasa': 0, 'icerenkoy': 0, 'kayisdagi': 0, 'kucukbakkalkoy': 0, 'mustafakemal': 0, 'ornek': 0, 'yenicamlica': 0, 'yenisahra': 0, 'ambarli': 0, 'avcilar': 0, 'firuzkoy': 0, 'gumuspala': 0, 'bagcilar': 0, 'gunesli': 0, 'mahmutbey': 0, 'bahcelievler': 0, 'sirinevler': 0, 'yenibosna': 0, 'atakoy': 0, 'cevizlik': 0, 'florya': 0, 'kartaltepe': 0, 'osmaniye': 0, 'yesilkoy': 0, 'zeytinlik': 0, 'zuhuratbaba': 0, 'altinsehir': 0, 'bahcesehir': 0, 'basaksehir': 0, 'ikitelli': 0, 'samlar': 0, 'altintepsi': 0, 'muratpasa': 0, 'numunebag': 0, 'yildirim': 0, 'abbasaga': 0, 'akatlar': 0, 'bebek': 0, 'etiler': 0, 'gayrettepe': 0, 'levazim': 0, 'levent': 0, 'ortakoy': 0, 'turkali': 0, 'anadoluhisari': 0, 'beykoz': 0, 'cavusbasi': 0, 'cubuklu': 0, 'goksu': 0, 'pasabahce': 0, 'polonezkoy': 0, 'tokatkoy': 0, 'beylikduzu': 0, 'gurpinar': 0, 'yakuplu': 0, 'arapcami': 0, 'cihangir': 0, 'halicioglu': 0, 'istiklal': 0, 'kasimpasa': 0, 'kemankes': 0, 'purtelas': 0, 'taksim': 0, 'tarlabasi': 0, 'buyukcekmece': 0, 'celaliye': 0, 'kumburgaz': 0, 'mimarsinan': 0, 'tepecik': 0, 'catalca': 0, 'alemdag': 0, 'cekmekoy': 0, 'omerli': 0, 'tasdelen': 0, 'atisalani': 0, 'esenler': 0, 'karabayir': 0, 'sanayi': 0, 'esenyurt': 0, 'incirtepe': 0, 'kirac': 0, 'mehtercesme': 0, 'saadetdere': 0, 'alibeykoy': 0, 'circir': 0, 'eyup': 0, 'gokturk': 0, 'isiklar': 0, 'kemerburgaz': 0, 'rami': 0, 'yesilpinar': 0, 'aksaray': 0, 'balat': 0, 'bayazit': 0, 'eminonu': 0, 'iskenderpasa': 0, 'karagumruk': 0, 'kocamustafapasa': 0, 'kumkapi': 0, 'mahmutpasa': 0, 'sirkeci': 0, 'sultanahmet': 0, 'sehremini': 0, 'tahtakale': 0, 'topkapi': 0, 'vefa': 0, 'yedikule': 0, 'zeyrek': 0, 'gaziosmanpasa': 0, 'kucukkoy': 0, 'mevlana': 0, 'yildiztabya': 0, 'akincilar': 0, 'gungoren': 0, 'tozkoparan': 0, 'bostanci': 0, 'caddebostan': 0, 'caferaga': 0, 'egitim': 0, 'erenkoy': 0, 'fenerbahce': 0, 'feneryolu': 0, 'fikirtepe': 0, 'goztepe': 0, 'kosuyolu': 0, 'kozyatagi': 0, 'merdivenkoy': 0, 'ondokuzmayis': 0, 'osmanaga': 0, 'rasimpasa': 0, 'sahrayicedit': 0, 'suadiye': 0, 'caglayan': 0, 'celiktepe': 0, 'gultepe': 0, 'gursel': 0, 'hamidiye': 0, 'kagithane merkez': 0, 'seyrantepe': 0, 'sirintepe': 0, 'atalar': 0, 'esentepe': 0, 'kartal': 0, 'orhantepe': 0, 'soganlik': 0, 'topselvi': 0, 'ugur mumcu': 0, 'yakacik': 0, 'atakent': 0, 'halkali': 0, 'kucukcekmece': 0, 'sefakoy': 0, 'aydinevler': 0, 'buyukbakkalkoy': 0, 'cevizli': 0, 'feyzullah': 0, 'gulsuyu': 0, 'idealtepe': 0, 'kucukyali': 0, 'yali': 0, 'zumrutevler': 0, 'camcesme': 0, 'carsi': 0, 'cinardere': 0, 'esenyali': 0, 'kurna': 0, 'seyhli': 0, 'yayalar': 0, 'yenisehir': 0, 'eyupsultan': 0, 'osmangazi': 0, 'sarigazi': 0, 'yenidogan': 0, 'bahcekoy': 0, 'buyukdere': 0, 'emirgan': 0, 'istinye': 0, 'maslak': 0, 'rumelihisari': 0, 'sariyer': 0, 'tarabya': 0, 'yenikoy': 0, 'buyukcavuslu': 0, 'canta': 0, 'degirmenkoy': 0, 'fener': 0, 'gumusyaka': 0, 'kavakli': 0, 'selimpasa': 0, 'silivri': 0, 'mehmetakif': 0, 'necipfazil': 0, 'turgutreis': 0, 'sultanciftligi': 0, 'sultangazi': 0, 'zubeydehanim': 0, 'agva': 0, 'ahmetli': 0, 'sile': 0, 'bozkurt': 0, 'cumhuriyet': 0, 'duatepe': 0, 'ferikoy': 0, 'halaskargazi': 0, 'harbiye': 0, 'mecidiyekoy': 0, 'mesrutiyet': 0, 'okmeydani': 0, 'pangalti': 0, 'tesvikiye': 0, 'akfirat': 0, 'aydinli': 0, 'icmeler': 0, 'orhanli': 0, 'tersaneler': 0, 'asagidudullu': 0, 'cakmak': 0, 'esensehir': 0, 'ihlamurkuyu': 0, 'inkilap': 0, 'kazimkarabekir': 0, 'namikkemal': 0, 'yukaridudullu': 0, 'acibadem': 0, 'altunizade': 0, 'beylerbeyi': 0, 'bulgurlu': 0, 'cengelkoy': 0, 'ferah': 0, 'kandilli': 0, 'kirazlitepe': 0, 'kuzguncuk': 0, 'muratreis': 0, 'selimiye': 0, 'unalan': 0, 'yavuzturk': 0, 'cirpici': 0, 'seyitnizam': 0, 'telsiz': 0}, 'izmir': {'aliaga': 0, 'helvaci': 0, 'balcova': 0, 'bayindir': 0, 'canli': 0, 'cirpi': 0, 'alpaslan': 0, 'bayrakli': 0, 'gumuspala': 0, 'manavkuyu': 0, 'sogukkuyu': 0, 'bergama': 0, 'beydag': 0, 'altindag': 0, 'ataturk': 0, 'bornova': 0, 'camdibi': 0, 'isikkent': 0, 'kazimdirik': 0, 'naldoken': 0, 'pinarbasi': 0, 'buca': 0, 'evka1': 0, 'iscievleri': 0, 'kaynaklar': 0, 'sirinyer': 0, 'alacati': 0, 'cesme': 0, 'dalyan': 0, 'buyukcigli': 0, 'cigli': 0, 'egekent': 0, 'harmandali': 0, 'dikili': 0, 'bagarasi': 0, 'foca': 0, 'yenifoca': 0, 'gaziemir': 0, 'guzelbahce': 0, 'fahrettinaltay': 0, 'hatay': 0, 'karabaglar': 0, 'kibar': 0, 'yesilyurt': 0, 'zincirlikuyu': 0, 'karaburun': 0, 'mordogan': 0, 'alaybey': 0, 'cumhuriyet': 0, 'denizbostanlisi': 0, 'imbatli': 0, 'karsiyaka': 0, 'nergiz': 0, 'yali': 0, 'armutlu': 0, 'bagyurdu': 0, 'kemalpasa': 0, 'oren': 0, 'ulucak': 0, 'kinik': 0, 'kiraz': 0, 'alsancak': 0, 'basmane': 0, 'esrefpasa': 0, 'gultepe': 0, 'gurcesme': 0, 'guzelyali': 0, 'kahramanlar': 0, 'kemeralti': 0, 'konak': 0, 'kucukyali': 0, 'pasaport': 0, 'yenisehir': 0, 'atakoy': 0, 'degirmendere': 0, 'develi': 0, 'gorece': 0, 'gumuldur': 0, 'kisik': 0, 'menderes': 0, 'ozdere': 0, 'tekeli': 0, 'menemen': 0, 'narlidere': 0, 'odemis': 0, 'doganbey': 0, 'seferihisar': 0, 'urkmez': 0, 'selcuk': 0, 'tire': 0, 'ayrancilar': 0, 'caybasi': 0, 'pancar': 0, 'subasi': 0, 'torbali': 0, 'yazibasi': 0, 'yenikoyosb': 0, 'bademler': 0, 'balikliova': 0, 'cesmealti': 0, 'iskele': 0, 'iyte': 0, 'kuscular': 0, 'ozbek': 0, 'urla': 0, 'zeytinalani': 0}, 'kahramanmaras': {'afsin': 0, 'andirin': 0, 'cokak': 0, 'caglayancerit': 0, 'adliye': 0, 'agabeyli': 0, 'sanayi': 0, 'sutcuimam': 0, 'ekinozu': 0, 'elbistan': 0, 'goksun': 0, 'nurhak': 0, 'binevler': 0, 'hacibayram': 0, 'suleymanli': 0, 'pazarcik': 0, 'turkoglu': 0}, 'karabuk': {'eflani': 0, 'merkezkoyler': 0, 'eskipazar': 0, '100.yil': 0, 'bayir': 0, 'besbinevler': 0, 'kayabasi': 0, 'yenisehir': 0, 'ovacik': 0, 'safranbolu': 0, 'yenice': 0, 'yortan': 0}, 'karaman': {'ayranci': 0, 'merkezkoyler': 0, 'basyayla': 0, 'ermenek': 0, 'guneyyurt': 0, 'kazanci': 0, 'kazimkarabekir': 0, 'akcasehir': 0, 'hisar': 0, 'suduragi': 0, 'sumer': 0, 'goktepe': 0, 'sariveliler': 0}, 'kars': {'akyaka': 0, 'merkezkoyler': 0, 'arpacay': 0, 'dagpinar': 0, 'digor': 0, 'kagizman': 0, 'kars': 0, 'sarikamis': 0, 'selim': 0, 'susuz': 0}, 'kastamonu': {'abana': 0, 'merkezkoyler': 0, 'agli': 0, 'arac': 0, 'azdavay': 0, 'bozkurt': 0, 'cide': 0, 'catalzeytin': 0, 'daday': 0, 'devrekani': 0, 'doganyurt': 0, 'gokceagac': 0, 'ihsangazi': 0, 'inebolu': 0, 'kure': 0, 'akmescit': 0, 'cebrail': 0, 'kuzeykent': 0, 'pinarbasi': 0, 'seydiler': 0, 'senpazar': 0, 'taskopru': 0, 'tosya': 0}, 'kayseri': {'akkisla': 0, 'bunyan': 0, 'develi': 0, 'felahiye': 0, 'hacilar': 0, 'hacilar koyler': 0, 'incesu': 0, 'ankarayolukoyler': 0, 'argincik': 0, 'beyazsehir': 0, 'erkilet': 0, 'erkilet koyler': 0, 'fevzi cakmak': 0, 'gunesli': 0, 'kazim karabekir': 0, 'sanayi': 0, 'valilik': 0, 'yeni mahalle': 0, 'yenisehir': 0, 'battalgazi': 0, 'belsin': 0, 'carsi': 0, 'gesi': 0, 'gurpinar': 0, 'hisarcik': 0, 'hurriyet': 0, 'ildem': 0, 'kilicaslan': 0, 'mimarsinan': 0, 'cukur': 0, 'pinarbasi': 0, 'sarioglan': 0, 'sariz': 0, 'talas': 0, 'talas koyler': 0, 'tomarza': 0, 'yahyali': 0, 'yesilhisar': 0}, 'kirikkale': {'bahsili': 0, 'merkezkoyler': 0, 'baliseyh': 0, 'celebi': 0, 'cerikli': 0, 'delice': 0, 'karakecili': 0, 'keskin': 0, 'fabrikalar': 0, 'hacilar': 0, 'sanayi': 0, 'tepebasi': 0, 'yuva': 0, 'sulakyurt': 0, 'yahsihan': 0}, 'kirklareli': {'alpullu': 0, 'babaeski': 0, 'buyukmandira': 0, 'karahalil': 0, 'merkezkoyler': 0, 'demirkoy': 0, 'igneada': 0, 'kofcaz': 0, 'ahmetbey': 0, 'buyukkaristiran': 0, 'evrensekiz': 0, 'luleburgaz': 0, 'derekoy': 0, 'inece': 0, 'kavakli': 0, 'kirklareli': 0, 'uskup': 0, 'pehlivankoy': 0, 'kaynarca': 0, 'pinarhisar': 0, 'cakilli': 0, 'kiyikoy': 0, 'sergen': 0, 'vize': 0}, 'kirsehir': {'akcakent': 0, 'kosefakili': 0, 'merkezkoyler': 0, 'akpinar': 0, 'boztepe': 0, 'cicekdagi': 0, 'koseli': 0, 'kaman': 0, 'kurancili': 0, 'carsi': 0, 'ozbag': 0, 'mucur': 0}, 'kilis': {'elbeyli': 0, 'merkezkoyler': 0, 'kilis': 0, 'musabeyli': 0, 'polateli': 0}, 'kocaeli': {'bahcecik': 0, 'basiskele': 0, 'kullar': 0, 'seymen': 0, 'yenikoy': 0, 'yuvacik': 0, 'cayirova': 0, 'darica': 0, 'derince': 0, 'dilovasi': 0, 'gebze': 0, 'degirmendere': 0, 'golcuk': 0, 'alikahya': 0, 'carsi': 0, 'gundogdu': 0, 'izmit': 0, 'sahil': 0, 'saraybahce': 0, 'yenidogan': 0, 'yenisehir': 0, 'kandira': 0, 'karamursel': 0, 'arslanbey': 0, 'buyukderbent': 0, 'kosekoy': 0, 'masukiye': 0, 'suadiye': 0, 'uzunciftlik': 0, 'uzuntarla': 0, 'hereke': 0, 'korfez': 0}, 'konya': {'ahirli': 0, 'akkise': 0, 'akoren': 0, 'aksehir': 0, 'kizilca': 0, 'nasreddin': 0, 'altinekin': 0, 'beysehir': 0, 'hamidiye': 0, 'bozkir': 0, 'cihanbeyli': 0, 'cumhuriyet': 0, 'yeniceoba': 0, 'celtik': 0, 'bardakci': 0, 'cumra': 0, 'iceri cumra': 0, 'derbent': 0, 'derebucak': 0, 'baskoy': 0, 'doganhisar': 0, 'karaaga': 0, 'emirgazi': 0, 'eregli': 0, 'gulbahce': 0, 'sumer': 0, 'guneysinir': 0, 'hadim': 0, 'halkapinar': 0, 'huyuk': 0, 'imrenler': 0, 'kireli': 0, 'argithani': 0, 'camiatik': 0, 'cigil': 0, 'ilgin': 0, 'kadinhani': 0, 'karapinar': 0, 'erenler': 0, 'fevzicakmak': 0, 'karatay': 0, 'mevlana': 0, 'selimiye': 0, 'alparslan': 0, 'kulu': 0, 'omeranli': 0, 'alaaddin': 0, 'godene': 0, 'kasinhani': 0, 'lalebahce': 0, 'meram': 0, 'tascami': 0, 'yaka': 0, 'istasyon': 0, 'sarayonu': 0, 'aydinlik': 0, 'bosna': 0, 'buyukkayacik': 0, 'fatih': 0, 'horozluhan': 0, 'kampus': 0, 'mimar sinan': 0, 'nalcaci': 0, 'selcuklu': 0, 'sille': 0, 'tatkoy': 0, 'yazir': 0, 'alaylar': 0, 'seydisehir': 0, 'seyitharun': 0, 'taskent': 0, 'tuzlukcu': 0, 'yalihuyuk': 0, 'yunak': 0}, 'kutahya': {'altintas': 0, 'merkezkoyler': 0, 'aslanapa': 0, 'cavdarhisar': 0, 'cukurca': 0, 'domanic': 0, 'dumlupinar': 0, 'emet': 0, 'eskigediz': 0, 'gediz': 0, 'gokler': 0, 'yenikent': 0, 'hisarcik': 0, 'alipasa': 0, 'borekciler': 0, 'hamidiye': 0, 'seyitomer': 0, 'pazarlar': 0, 'akdag': 0, 'citgol': 0, 'demirci': 0, 'guney': 0, 'kusu': 0, 'nasa': 0, 'simav': 0, 'saphane': 0, 'balikoy': 0, 'kurucay': 0, 'tavsanli': 0, 'tepecik': 0, 'tuncbilek': 0}, 'malatya': {'akcadag': 0, 'arapgir': 0, 'arguvan': 0, 'battalgazi': 0, 'beydagi': 0, 'dabakhane': 0, 'haniminciftligi': 0, 'kanalboyu': 0, 'kapalicarsi': 0, 'orduzu': 0, 'sitmapinari': 0, 'tastepe': 0, 'darende': 0, 'dogansehir': 0, 'doganyol': 0, 'hekimhan': 0, 'kale': 0, 'kuluncak': 0, 'poturge': 0, 'yazihan': 0, 'bostanbasi': 0, 'cavusoglu': 0, 'dilek': 0, 'gunduzbey': 0, 'karakavak': 0, 'ozalper': 0, 'sahnahan': 0, 'topsogut': 0, 'yakinca': 0, 'yesiltepe': 0, 'yesilyurt': 0}, 'manisa': {'ahmetli': 0, 'gokkaya': 0, 'akhisar': 0, 'alasehir': 0, 'kavaklidere': 0, 'kemaliye': 0, 'killik': 0, 'piyadeler': 0, 'uluderbent': 0, 'yesilyurt': 0, 'demirci': 0, 'durhasan': 0, 'mahmutlar': 0, 'golmarmara': 0, 'cicekli': 0, 'gordes': 0, 'gunesli': 0, 'kayacik': 0, 'bakir': 0, 'gelenbe': 0, 'ilyaslar': 0, 'karakurt': 0, 'kirkagac': 0, 'koprubasi': 0, 'kula': 0, 'adala': 0, 'durasilli': 0, 'poyraz': 0, 'salihli': 0, 'sart': 0, 'sarigol': 0, 'alibeyli': 0, 'buyukbelen': 0, 'dilek': 0, 'gokcekoy': 0, 'gumulceli': 0, 'hacirahmanli': 0, 'halitpasa': 0, 'ishakcelebi': 0, 'koldere': 0, 'kumkuyucak': 0, 'mutevelli': 0, 'nuriye': 0, 'pasakoy': 0, 'saruhanli': 0, 'selendi': 0, 'avdan': 0, 'cenkyeri': 0, 'soma': 0, 'turgutalp': 0, 'yagcili': 0, 'asagicobanisa': 0, 'carsi': 0, 'hacihaliller': 0, 'karaagacli': 0, 'karakoy': 0, 'karaoglanli': 0, 'kuzey': 0, 'sancaklibozkoy': 0, 'sehzadeler': 0, 'derbent': 0, 'turgutlu': 0, 'urganli': 0, '50.yil': 0, 'laleli': 0, 'muradiye': 0, 'tevfikiye': 0, 'ucpinar': 0, 'yunusemre': 0}, 'mardin': {'gokce': 0, 'istasyon': 0, 'kabala': 0, 'nur': 0, 'savurkapi': 0, 'dargecit': 0, 'derik': 0, 'kiziltepe': 0, 'mazidagi': 0, 'eskimidyat': 0, 'hukumet': 0, 'nusaybin': 0, 'omerli': 0, 'savur': 0, 'yesilli': 0}, 'mersin': {'adanalioglu': 0, 'baris': 0, 'camiiserif': 0, 'cankaya': 0, 'dikilitas': 0, 'evci': 0, 'gundogdu': 0, 'hal': 0, 'huzurkent': 0, 'karacailyas': 0, 'karaduvar': 0, 'kazanli': 0, 'nusratiye': 0, 'anamur': 0, 'goktas': 0, 'iskele': 0, 'aydincik': 0, 'karadere': 0, 'ardiclitas': 0, 'bozyazi': 0, 'camliyayla': 0, 'daripinari': 0, 'erdemli': 0, 'gulnar': 0, 'kosecobanli': 0, 'akdeniz': 0, 'ataturk': 0, 'davultepe': 0, 'findikpinari': 0, 'tece': 0, 'mut': 0, 'atakent': 0, 'atayurt': 0, 'gazi': 0, 'pazarkasi': 0, 'silifke': 0, 'tasucu': 0, '82evler': 0, 'aksemsettin': 0, 'altaylilar': 0, 'anit': 0, 'asagi koyler': 0, 'bahce': 0, 'beydegirmeni': 0, 'caminur': 0, 'kavakli': 0, 'kizilmurat': 0, 'yenice': 0, 'yolboyu': 0, 'yukari koyler': 0, 'akbelen': 0, 'arslankoy': 0, 'cavuslu': 0, 'demirtas': 0, 'halkkent': 0, 'saglik': 0, 'selcuklar': 0, 'afetevler': 0, 'bahcelievler': 0, 'barbaros': 0, 'cumhuriyet': 0, 'degirmencay': 0}, 'mugla': {'bodrum': 0, 'dalaman': 0, 'datca': 0, 'fethiye': 0, 'kavaklidere': 0, 'koycegiz': 0, 'marmaris': 0, 'mentese': 0, 'milas': 0, 'ortaca': 0, 'seydikemer': 0, 'ula': 0, 'yatagan': 0}, 'mus': {'bulanik': 0, 'elmakaya': 0, 'erentepe': 0, 'merkezkoyler': 0, 'rustemgedik': 0, 'saripinar': 0, 'uzgorur': 0, 'yoncali': 0, 'duzkisla': 0, 'haskoy': 0, 'altinova': 0, 'korkut': 0, 'aktuzla': 0, 'karahasan': 0, 'konakkuran': 0, 'malazgirt': 0, 'nurettin': 0, 'karaagacli': 0, 'kirkoy': 0, 'kizilagac': 0, 'konukbekler': 0, 'merkez': 0, 'serinova': 0, 'sungu': 0, 'yaygin': 0, 'yesilova': 0, 'caylar': 0, 'varto': 0}, 'nevsehir': {'acigol': 0, 'karapinar': 0, 'merkezkoyler': 0, 'tatlarin': 0, 'avanos': 0, 'calis': 0, 'kalaba': 0, 'ozkonak': 0, 'derinkuyu': 0, 'yazihuyuk': 0, 'gulsehir': 0, 'hacibektas': 0, 'kozakli': 0, 'camicedit': 0, 'carsi': 0, 'cat': 0, 'gore': 0, 'goreme': 0, 'kavak': 0, 'kaymakli': 0, 'nar': 0, 'sulusaray': 0, 'uchisar': 0, 'ortahisar': 0, 'urgup': 0}, 'nigde': {'altunhisar': 0, 'karakapi': 0, 'kecikalesi': 0, 'merkezkoyler': 0, 'bahceli': 0, 'bor': 0, 'cukurkuyu': 0, 'kemerhisar': 0, 'camardi': 0, 'azatli': 0, 'bozkoy': 0, 'divarli': 0, 'ozyurt': 0, 'afetevleri': 0, 'aktas': 0, 'alay': 0, 'baglama': 0, 'degirmenli': 0, 'dundarli': 0, 'edikli': 0, 'gumusler': 0, 'haciabdullah': 0, 'karaatli': 0, 'kiledere': 0, 'konakli': 0, 'orhanli': 0, 'sazlica': 0, 'sungurbey': 0, 'yesilgolcuk': 0, 'yildiztepe': 0, 'ulukisla': 0}, 'ordu': {'akkus': 0, 'bahcelievler': 0, 'duz mahalle': 0, 'saraycik': 0, 'aybasti': 0, 'camas': 0, 'catalpinar': 0, 'caybasi': 0, 'fatsa': 0, 'golkoy': 0, 'gulyali': 0, 'gurgentepe': 0, 'ikizce': 0, 'karaduz': 0, 'kabatas': 0, 'korgan': 0, 'kumru': 0, 'mesudiye': 0, 'persembe': 0, 'ulubey': 0, 'unye': 0}, 'osmaniye': {'bahce': 0, 'merkezkoyler': 0, 'atalan': 0, 'bocekli': 0, 'duzici': 0, 'ellek': 0, 'yarbasi': 0, 'hasanbeyli': 0, 'cemalpasa': 0, 'kadirli': 0, 'ataturk': 0, 'cevdetiye': 0, 'mehmetli': 0, 'sumbas': 0, 'toprakkale': 0, 'tuysuz': 0}, 'rize': {'ardesen': 0, 'merkezkoyler': 0, 'tunca': 0, 'camlihemsin': 0, 'buyukkoy': 0, 'cayeli': 0, 'madenli': 0, 'derepazari': 0, 'findikli': 0, 'guneysu': 0, 'hemsin': 0, 'ikizdere': 0, 'iyidere': 0, 'kalkandere': 0, 'gundogdu': 0, 'kendirli': 0, 'muradiye': 0, 'rize': 0, 'salarha': 0, 'pazar': 0}, 'sakarya': {'adapazari': 0, 'karaman': 0, 'akyazi': 0, 'arifiye': 0, 'erenler': 0, 'ferizli': 0, 'geyve': 0, 'hendek': 0, 'karapurcek': 0, 'karasu': 0, 'kaynarca': 0, 'kocaali': 0, 'pamukova': 0, 'sapanca': 0, 'serdivan': 0, 'yazlik': 0, 'sogutlu': 0, 'tarakli': 0}, 'samsun': {'19 mayis ballica': 0, 'alacam': 0, 'asarcik': 0, 'atakum': 0, 'kurupelit': 0, 'ayvacik': 0, 'bafra': 0, 'canik': 0, 'carsamba': 0, 'havza': 0, 'bahcelievler': 0, 'istasyon': 0, 'kadikoy': 0, 'kale': 0, 'liman': 0, 'rasathane': 0, 'unkapani': 0, 'yesilkent': 0, 'kavak': 0, 'ladik': 0, 'salipazari': 0, 'asagicinik': 0, 'buyuklu': 0, 'kutlukent': 0, 'tekkekoy': 0, 'terme': 0, 'merkezkoyler': 0, 'vezirkopru': 0, 'yakakent': 0}, 'siirt': {'atabagi': 0, 'baykan': 0, 'dilektepe': 0, 'merkezkoyler': 0, 'veyselkarani': 0, 'baggoze': 0, 'eruh': 0, 'kayabaglar': 0, 'kurtalan': 0, 'gokcebag': 0, 'siirt': 0, 'begendik': 0, 'pervari': 0, 'cevizlik': 0, 'ozpinar': 0, 'sirvan': 0, 'aydinlar': 0}, 'sinop': {'ayancik': 0, 'merkezkoyler': 0, 'boyabat': 0, 'dikmen': 0, 'duragan': 0, 'erfelek': 0, 'gerze': 0, 'sinop': 0, 'sarayduzu': 0, 'turkeli': 0}, 'sivas': {'akincilar': 0, 'merkezkoyler': 0, 'altinyayla': 0, 'deliilyas': 0, 'divrigi': 0, 'dogansar': 0, 'cepni': 0, 'egerci': 0, 'gemerek': 0, 'inkisla': 0, 'sizir': 0, 'yenicubuk': 0, 'golova': 0, 'gurun': 0, 'hafik': 0, 'imranli': 0, 'kangal': 0, 'koyulhisar': 0, 'alibaba': 0, 'aydogan': 0, 'carsi': 0, 'kumbet': 0, 'yenisehir': 0, 'yildiz': 0, 'susehri': 0, 'cemel': 0, 'gurcayir': 0, 'sarkisla': 0, 'ulas': 0, 'guneykaya': 0, 'yildizeli': 0, 'zara': 0}, 'sanliurfa': {'akcakale': 0, 'birecik': 0, 'bozova': 0, 'yaylak': 0, 'ceylanpinar': 0, 'carsi': 0, 'eyyubiye': 0, 'halfeti': 0, 'baglarbasi': 0, 'bahcelievler': 0, 'sairnabi': 0, 'yenisehir': 0, 'harran': 0, 'hilvan': 0, 'karakopru': 0, 'siverek': 0, 'suruc': 0, 'viransehir': 0}, 'sirnak': {'beytussebap': 0, 'merkezkoyler': 0, 'cizre': 0, 'findik': 0, 'guclukonak': 0, 'idil': 0, 'karalar': 0, 'sirtkoy': 0, 'balveren': 0, 'kasrik': 0, 'kumcati': 0, 'sirnak': 0, 'basverimli': 0, 'caliskan': 0, 'gorumlu': 0, 'silopi': 0, 'hilal': 0, 'senoba': 0, 'uludere': 0, 'uzungecit': 0}, 'tekirdag': {'cerkezkoy': 0, 'corlu': 0, 'silahtar': 0, 'marmaracik': 0, 'hayrabolu': 0, 'kapakli': 0, 'malkara': 0, 'marmaraereglisi': 0, 'muratli': 0, 'saray': 0, 'altinova': 0, 'aydogdu': 0, 'eskicami': 0, 'kumbag': 0, 'suleymanpasa': 0, 'sarkoy': 0}, 'tokat': {'akarcay gorumlu': 0, 'almus': 0, 'atakoy': 0, 'cevreli': 0, 'golgeli': 0, 'kinik': 0, 'merkezkoyler': 0, 'artova': 0, 'basciftlik': 0, 'hatipli': 0, 'erbaa': 0, 'gokal': 0, 'karayaka': 0, 'tanoba': 0, 'camlibel': 0, 'cat': 0, 'emirseyit': 0, 'geyras': 0, 'gokdere': 0, 'guryildiz': 0, 'karsiyaka': 0, 'gokceli': 0, 'gurcesme': 0, 'niksar': 0, 'serenli': 0, 'yazicik': 0, 'yolkonak': 0, 'pazar': 0, 'uzumoren': 0, 'baydarli': 0, 'bereketli': 0, 'bozcali': 0, 'cimitekke': 0, 'hasanseyh': 0, 'resadiye': 0, 'sulusaray': 0, 'senyurt': 0, 'turhal': 0, 'yesilyurt': 0, 'zile': 0}, 'trabzon': {'akcaabat': 0, 'arakli': 0, 'arsin': 0, 'besikduzu': 0, 'carsibasi': 0, 'caykara': 0, 'dernekpazari': 0, 'duzkoy': 0, 'hayrat': 0, 'koprubasi': 0, 'macka': 0, 'of': 0, 'besirli': 0, 'bostanci': 0, 'boztepe': 0, 'carsi': 0, 'erdogdu': 0, 'surmene': 0, 'salpazari': 0, 'tonya': 0, 'vakfikebir': 0, 'yomra': 0}, 'tunceli': {'cemisgezek': 0, 'merkezkoyler': 0, 'hozat': 0, 'akpazar': 0, 'mazgirt': 0, 'tunceli': 0, 'nazimiye': 0, 'ovacik': 0, 'pertek': 0, 'pulumur': 0}, 'usak': {'banaz': 0, 'kizilcasogut': 0, 'merkezkoyler': 0, 'esme': 0, 'yelegen': 0, 'karahalli': 0, 'cumhuriyet': 0, 'pinarbasi': 0, 'selcikler': 0, 'sivasli': 0, 'tatar': 0, 'ulubey': 0}, 'van': {'bahcesaray': 0, 'baskale': 0, 'caldiran': 0, 'catak': 0, 'gumusdere': 0, 'suphan': 0, 'ercis': 0, 'gevas': 0, 'gurpinar': 0, 'ercek': 0, 'valimitatbey': 0, 'muradiye': 0, 'ozalp': 0, 'saray': 0, 'iskele': 0, 'istasyon': 0}, 'yalova': {'altinova': 0, 'kaytazdere': 0, 'merkezkoyler': 0, 'subasi': 0, 'tavsanli': 0, 'armutlu': 0, 'cinarcik': 0, 'esenkoy': 0, 'koru': 0, 'tesvikiye': 0, 'ciftlikkoy': 0, 'taskopru': 0, 'baglarbasi': 0, 'kadikoy': 0, 'termal': 0}, 'yozgat': {'akdagmadeni': 0, 'belekcehan': 0, 'merkezkoyler': 0, 'olukozu': 0, 'umutlu': 0, 'aydincik': 0, 'baydigin': 0, 'bogazliyan': 0, 'ovakent': 0, 'sircali': 0, 'uzunlu': 0, 'yamacli': 0, 'yenipazar': 0, 'candir': 0, 'cayiralan': 0, 'konuklar': 0, 'cekerek': 0, 'ozukavak': 0, 'halikoy': 0, 'kadisehri': 0, 'yozgat': 0, 'dedefakili': 0, 'ozan': 0, 'saraykent': 0, 'karayakup': 0, 'sarikaya': 0, 'arapli': 0, 'bahadin': 0, 'cigdemli': 0, 'dogankent': 0, 'eymir': 0, 'gulsehri': 0, 'sorgun': 0, 'yeniyer': 0, 'sefaatli': 0, 'yenifakili': 0, 'yerkoy': 0}, 'zonguldak': {'alapli': 0, 'gumeli': 0, 'merkezkoyler': 0, 'caycuma': 0, 'filyos': 0, 'karapinar': 0, 'nebioglu': 0, 'persembe': 0, 'saltukova': 0, 'caydegirmeni': 0, 'devrek': 0, 'egerci': 0, 'guluc': 0, 'kandilli': 0, 'karadenizeregli': 0, 'ormanli': 0, 'bakacakkadi': 0, 'gokcebey': 0, 'catalagzi': 0, 'gelik': 0, 'kilimli': 0, 'muslu': 0, 'kozlu': 0, 'beycuma': 0, 'elvanpazarcik': 0, 'karaman': 0, 'zonguldak': 0}}\n"
     ]
    }
   ],
   "source": [
    "# Let's check\n",
    "print(files.ilce_dict)\n",
    "print(files.semt_dict)"
   ]
  },
  {
   "cell_type": "code",
   "execution_count": 7,
   "metadata": {},
   "outputs": [],
   "source": [
    "# Enter the list of cities + the JSON path and create a city list and an empty city data\n",
    "city_txt_path = \"C:/Users/alpye/OneDrive/Desktop/pure/FindGeoLocation/data/cities.txt\"\n",
    "empty_data_path = \"C:/Users/alpye/OneDrive/Desktop/pure/FindGeoLocation/trial_data_gathered/empty_data.json\"\n",
    "city_list = files.city_list_and_data(city_txt_path, datapathJSON=empty_data_path)\n",
    "city_data = files.get_city_data(empty_data_path)"
   ]
  },
  {
   "cell_type": "code",
   "execution_count": 8,
   "metadata": {},
   "outputs": [
    {
     "name": "stdout",
     "output_type": "stream",
     "text": [
      "['adana', 'adiyaman', 'afyonkarahisar', 'agri', 'aksaray', 'amasya', 'ankara', 'antalya', 'ardahan', 'artvin', 'aydin', 'balikesir', 'bartin', 'batman', 'bayburt', 'bilecik', 'bingol', 'bitlis', 'bolu', 'burdur', 'bursa', 'canakkale', 'cankiri', 'corum', 'denizli', 'diyarbakir', 'duzce', 'edirne', 'elazig', 'erzincan', 'erzurum', 'eskisehir', 'gaziantep', 'giresun', 'gumushane', 'hakkari', 'hatay', 'igdir', 'isparta', 'istanbul', 'izmir', 'kahramanmaras', 'karabuk', 'karaman', 'kars', 'kastamonu', 'kayseri', 'kilis', 'kirikkale', 'kirklareli', 'kirsehir', 'kocaeli', 'konya', 'kutahya', 'malatya', 'manisa', 'mardin', 'mersin', 'mugla', 'mus', 'nevsehir', 'nigde', 'ordu', 'osmaniye', 'rize', 'sakarya', 'samsun', 'sanliurfa', 'siirt', 'sinop', 'sivas', 'sirnak', 'tekirdag', 'tokat', 'trabzon', 'tunceli', 'usak', 'van', 'yalova', 'yozgat', 'zonguldak']\n",
      "{'adana': 0, 'adiyaman': 0, 'afyonkarahisar': 0, 'agri': 0, 'aksaray': 0, 'amasya': 0, 'ankara': 0, 'antalya': 0, 'ardahan': 0, 'artvin': 0, 'aydin': 0, 'balikesir': 0, 'bartin': 0, 'batman': 0, 'bayburt': 0, 'bilecik': 0, 'bingol': 0, 'bitlis': 0, 'bolu': 0, 'burdur': 0, 'bursa': 0, 'canakkale': 0, 'cankiri': 0, 'corum': 0, 'denizli': 0, 'diyarbakir': 0, 'duzce': 0, 'edirne': 0, 'elazig': 0, 'erzincan': 0, 'erzurum': 0, 'eskisehir': 0, 'gaziantep': 0, 'giresun': 0, 'gumushane': 0, 'hakkari': 0, 'hatay': 0, 'igdir': 0, 'isparta': 0, 'istanbul': 0, 'izmir': 0, 'kahramanmaras': 0, 'karabuk': 0, 'karaman': 0, 'kars': 0, 'kastamonu': 0, 'kayseri': 0, 'kilis': 0, 'kirikkale': 0, 'kirklareli': 0, 'kirsehir': 0, 'kocaeli': 0, 'konya': 0, 'kutahya': 0, 'malatya': 0, 'manisa': 0, 'mardin': 0, 'mersin': 0, 'mugla': 0, 'mus': 0, 'nevsehir': 0, 'nigde': 0, 'ordu': 0, 'osmaniye': 0, 'rize': 0, 'sakarya': 0, 'samsun': 0, 'sanliurfa': 0, 'siirt': 0, 'sinop': 0, 'sivas': 0, 'sirnak': 0, 'tekirdag': 0, 'tokat': 0, 'trabzon': 0, 'tunceli': 0, 'usak': 0, 'van': 0, 'yalova': 0, 'yozgat': 0, 'zonguldak': 0}\n"
     ]
    }
   ],
   "source": [
    "# Let's check\n",
    "print(city_list)\n",
    "print(city_data)"
   ]
  },
  {
   "cell_type": "code",
   "execution_count": 9,
   "metadata": {},
   "outputs": [],
   "source": [
    "# Now we will gather all the data available:\n",
    "# With all 3 methods accumulated on each other (not checking a user if already checked), both with guess and without guess\n",
    "# With all 3 methods individually, with guess and without guess\n",
    "\n",
    "# Let's start with accumulation, with guess\n",
    "from TweetLocationFinder import GatherLoc"
   ]
  },
  {
   "cell_type": "code",
   "execution_count": 10,
   "metadata": {},
   "outputs": [],
   "source": [
    "pop_path = \"C:/Users/alpye/OneDrive/Desktop/pure/FindGeoLocation/data/populations.json\"\n",
    "guess_accumulate = GatherLoc(city_list, files, populationPATH=pop_path)"
   ]
  },
  {
   "cell_type": "code",
   "execution_count": 9,
   "metadata": {},
   "outputs": [
    {
     "name": "stderr",
     "output_type": "stream",
     "text": [
      "515098it [31:21, 273.72it/s, Count=515098, Successful Count=117343, List1 idx=None, List2 idx=None]\n"
     ]
    }
   ],
   "source": [
    "# Let's start from getting the data of [\"user\"][\"location\"]\n",
    "main_path = \"C:/Users/alpye/OneDrive/Desktop/DATA/coalition_3.gz\"\n",
    "result_json = \"C:/Users/alpye/OneDrive/Desktop/pure/FindGeoLocation/trial_data_gathered/accumulation/guess/1)userloc.json\"\n",
    "result_user_txt = \"C:/Users/alpye/OneDrive/Desktop/pure/FindGeoLocation/trial_data_gathered/accumulation/guess/txt/userloc.txt\"\n",
    "guess_accumulate.get_user_loc(city_data, main_path, result_json, result_user_txt, guess=True)"
   ]
  },
  {
   "cell_type": "code",
   "execution_count": 10,
   "metadata": {},
   "outputs": [
    {
     "data": {
      "text/plain": [
       "''"
      ]
     },
     "execution_count": 10,
     "metadata": {},
     "output_type": "execute_result"
    }
   ],
   "source": [
    "# Runtime: 31:21\n",
    "# Total user count: 515 098\n",
    "# Found user count: 117 343\n",
    "\n",
    "# Now lets get the location data from [\"place\"][\"full_name\"]"
   ]
  },
  {
   "cell_type": "code",
   "execution_count": 11,
   "metadata": {},
   "outputs": [],
   "source": [
    "import json\n",
    "\n",
    "# Get back the user id's of the previous move\n",
    "result_user_txt = \"C:/Users/alpye/OneDrive/Desktop/pure/FindGeoLocation/trial_data_gathered/accumulation/guess/txt/userloc.txt\"\n",
    "with open(result_user_txt, 'r') as file:\n",
    "    user_list = [int(line.strip()) for line in file]\n",
    "\n",
    "# Get the city_data back\n",
    "result_json = \"C:/Users/alpye/OneDrive/Desktop/pure/FindGeoLocation/trial_data_gathered/accumulation/guess/1)userloc.json\"\n",
    "with open(result_json, \"r\") as file:\n",
    "    city_data = json.load(file)\n"
   ]
  },
  {
   "cell_type": "code",
   "execution_count": 12,
   "metadata": {},
   "outputs": [
    {
     "name": "stderr",
     "output_type": "stream",
     "text": [
      "515098it [30:32, 281.08it/s, Count=515098, Successful Count=29157, List1 idx=117342, List2 idx=None]\n"
     ]
    }
   ],
   "source": [
    "result_json = \"C:/Users/alpye/OneDrive/Desktop/pure/FindGeoLocation/trial_data_gathered/accumulation/guess/2)tweetloc.json\"\n",
    "result_user_txt = \"C:/Users/alpye/OneDrive/Desktop/pure/FindGeoLocation/trial_data_gathered/accumulation/guess/txt/tweetloc.txt\"\n",
    "main_path = \"C:/Users/alpye/OneDrive/Desktop/DATA/coalition_3.gz\"\n",
    "\n",
    "guess_accumulate.get_tweet_loc(city_data, main_path, result_json, result_user_txt, guess=True, arg1=user_list)"
   ]
  },
  {
   "cell_type": "code",
   "execution_count": null,
   "metadata": {},
   "outputs": [],
   "source": [
    "# Runtime: 30:32\n",
    "# Found user count: 29 157\n",
    "# Total users found so far: 146 500\n",
    "\n",
    "# Now lets get the location data from coordinates"
   ]
  },
  {
   "cell_type": "code",
   "execution_count": 13,
   "metadata": {},
   "outputs": [],
   "source": [
    "# Get the city_data back\n",
    "result_json = \"C:/Users/alpye/OneDrive/Desktop/pure/FindGeoLocation/trial_data_gathered/accumulation/guess/2)tweetloc.json\"\n",
    "with open(result_json, \"r\") as file:\n",
    "    city_data = json.load(file)\n",
    "\n",
    "# Get back the user id's of the previous move\n",
    "result_user_txt = \"C:/Users/alpye/OneDrive/Desktop/pure/FindGeoLocation/trial_data_gathered/accumulation/guess/txt/tweetloc.txt\"\n",
    "with open(result_user_txt, 'r') as file:\n",
    "    user_list2 = [int(line.strip()) for line in file]"
   ]
  },
  {
   "cell_type": "code",
   "execution_count": 15,
   "metadata": {},
   "outputs": [
    {
     "name": "stderr",
     "output_type": "stream",
     "text": [
      "515098it [47:56, 179.07it/s, Count=515098, Successful Count=3904, List1 idx=117342, List2 idx=29156]\n"
     ]
    }
   ],
   "source": [
    "result_json = \"C:/Users/alpye/OneDrive/Desktop/pure/FindGeoLocation/trial_data_gathered/accumulation/guess/3)coordinates.json\"\n",
    "result_user_txt = \"C:/Users/alpye/OneDrive/Desktop/pure/FindGeoLocation/trial_data_gathered/accumulation/guess/txt/coordinates.txt\"\n",
    "main_path = \"C:/Users/alpye/OneDrive/Desktop/DATA/coalition_3.gz\"\n",
    "geoJSONpath = \"C:/Users/alpye/OneDrive/Desktop/pure/FindGeoLocation/data/turkey.geojson\"\n",
    "\n",
    "guess_accumulate.get_tweet_coord(city_data, main_path, geoJSONpath, result_json, result_user_txt, arg1=user_list, arg2=user_list2)"
   ]
  },
  {
   "cell_type": "code",
   "execution_count": null,
   "metadata": {},
   "outputs": [],
   "source": [
    "# Runtime: 47:56\n",
    "# Found user count: 3 904\n",
    "# Total users: 150 404\n",
    "\n",
    "# NOW DO THIS:\n",
    "# DO THE TWEETLOC AND COORDINATES INDIVIDUALLY\n",
    "# DO ALL THE SAME FOR WITHOUT GUESS"
   ]
  },
  {
   "cell_type": "code",
   "execution_count": 3,
   "metadata": {},
   "outputs": [],
   "source": [
    "# For individual data, get the user_loc since it was the first step in the cumulation so it was individual as well\n",
    "\n",
    "import json\n",
    "\n",
    "path = \"C:/Users/alpye/OneDrive/Desktop/pure/FindGeoLocation/trial_data_gathered/accumulation/guess/1)userloc.json\"\n",
    "with open(path, \"r\") as file:\n",
    "    user_loc_data = json.load(file)\n",
    "\n",
    "\n",
    "user_loc_path_individual = \"C:/Users/alpye/OneDrive/Desktop/pure/FindGeoLocation/trial_data_gathered/individual/guess/userloc.json\"\n",
    "with open(user_loc_path_individual, 'w') as file:\n",
    "            json.dump(user_loc_data, file, indent=4)\n",
    "\n",
    "# Now get the tweet loc individually\n",
    "\n",
    "city_data = files.get_city_data(empty_data_path)"
   ]
  },
  {
   "cell_type": "code",
   "execution_count": 12,
   "metadata": {},
   "outputs": [
    {
     "name": "stderr",
     "output_type": "stream",
     "text": [
      "515098it [29:22, 292.32it/s, Count=515098, Successful Count=48172, List1 idx=None, List2 idx=None]\n"
     ]
    }
   ],
   "source": [
    "result_json = \"C:/Users/alpye/OneDrive/Desktop/pure/FindGeoLocation/trial_data_gathered/individual/guess/tweetloc.json\"\n",
    "main_path = \"C:/Users/alpye/OneDrive/Desktop/DATA/coalition_3.gz\"\n",
    "\n",
    "guess_accumulate.get_tweet_loc(city_data, main_path, result_json, guess=True)"
   ]
  },
  {
   "cell_type": "code",
   "execution_count": 15,
   "metadata": {},
   "outputs": [],
   "source": [
    "# Runtime: 29:22\n",
    "# Users found: 48 172\n",
    "\n",
    "# Now do the same for coordinates as well (coordinates does not have a guessing option)\n",
    "\n",
    "city_data = files.get_city_data(empty_data_path)"
   ]
  },
  {
   "cell_type": "code",
   "execution_count": 16,
   "metadata": {},
   "outputs": [
    {
     "name": "stderr",
     "output_type": "stream",
     "text": [
      "515098it [2:28:21, 57.87it/s, Count=515098, Successful Count=22050, List1 idx=None, List2 idx=None] \n"
     ]
    }
   ],
   "source": [
    "result_json = \"C:/Users/alpye/OneDrive/Desktop/pure/FindGeoLocation/trial_data_gathered/individual/guess/coordinates.json\"\n",
    "main_path = \"C:/Users/alpye/OneDrive/Desktop/DATA/coalition_3.gz\"\n",
    "geoJSONpath = \"C:/Users/alpye/OneDrive/Desktop/pure/FindGeoLocation/data/turkey.geojson\"\n",
    "\n",
    "\n",
    "guess_accumulate.get_tweet_coord(city_data, main_path, geoJSONpath, result_json)"
   ]
  },
  {
   "cell_type": "code",
   "execution_count": null,
   "metadata": {},
   "outputs": [],
   "source": [
    "# Runtime: 2:28:21\n",
    "# Users found: 22 050"
   ]
  }
 ],
 "metadata": {
  "kernelspec": {
   "display_name": "Python 3",
   "language": "python",
   "name": "python3"
  },
  "language_info": {
   "codemirror_mode": {
    "name": "ipython",
    "version": 3
   },
   "file_extension": ".py",
   "mimetype": "text/x-python",
   "name": "python",
   "nbconvert_exporter": "python",
   "pygments_lexer": "ipython3",
   "version": "3.11.4"
  },
  "orig_nbformat": 4
 },
 "nbformat": 4,
 "nbformat_minor": 2
}
